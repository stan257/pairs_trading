{
  "nbformat": 4,
  "nbformat_minor": 0,
  "metadata": {
    "colab": {
      "name": "Pairs Trading.ipynb",
      "provenance": [],
      "collapsed_sections": []
    },
    "kernelspec": {
      "display_name": "Python 3",
      "language": "python",
      "name": "python3"
    },
    "language_info": {
      "codemirror_mode": {
        "name": "ipython",
        "version": 3
      },
      "file_extension": ".py",
      "mimetype": "text/x-python",
      "name": "python",
      "nbconvert_exporter": "python",
      "pygments_lexer": "ipython3",
      "version": "3.8.10"
    }
  },
  "cells": [
    {
      "cell_type": "code",
      "metadata": {
        "id": "rdeZYqSR58V1"
      },
      "source": [
        "# Data API\n",
        "!pip install yahoo_fin >> /dev/null\n",
        "!pip install statsmodels >> /dev/null"
      ],
      "execution_count": null,
      "outputs": []
    },
    {
      "cell_type": "code",
      "metadata": {
        "colab": {
          "base_uri": "https://localhost:8080/"
        },
        "id": "iKUhu97EUFxB",
        "outputId": "93cefcc7-8ec3-4453-ea3b-abc75a4c6ac3"
      },
      "source": [
        "import pandas as pd\n",
        "import numpy as np\n",
        "from collections import Counter\n",
        "import os\n",
        "\n",
        "# Data API\n",
        "import yahoo_fin.stock_info as si\n",
        "\n",
        "# Plotting\n",
        "import seaborn as sns\n",
        "import matplotlib.pyplot as plt\n",
        "import matplotlib.cm as cm\n",
        "\n",
        "# Cointegration Testing\n",
        "from statsmodels.tsa.stattools import coint\n",
        "\n",
        "# Stationarity Testing\n",
        "from statsmodels.tsa.stattools import adfuller\n",
        "\n",
        "# Pair Selection \n",
        "from sklearn.cluster import KMeans\n",
        "from sklearn import metrics\n",
        "from sklearn.manifold import TSNE\n",
        "from sklearn.preprocessing import StandardScaler"
      ],
      "execution_count": null,
      "outputs": [
        {
          "output_type": "stream",
          "text": [
            "/usr/local/lib/python3.7/dist-packages/statsmodels/tools/_testing.py:19: FutureWarning: pandas.util.testing is deprecated. Use the functions in the public API at pandas.testing instead.\n",
            "  import pandas.util.testing as tm\n"
          ],
          "name": "stderr"
        }
      ]
    },
    {
      "cell_type": "code",
      "metadata": {
        "id": "Q208scf9ZYcp"
      },
      "source": [
        "START_DATE = pd.Timestamp(\"2016-01-04\")\n",
        "END_DATE = pd.Timestamp(\"2017-12-29\")\n",
        "TRADING_DAYS = 2*250"
      ],
      "execution_count": null,
      "outputs": []
    },
    {
      "cell_type": "code",
      "metadata": {
        "id": "NUD4_-YN5-xM"
      },
      "source": [
        "sp500_list = si.tickers_sp500()"
      ],
      "execution_count": null,
      "outputs": []
    },
    {
      "cell_type": "code",
      "metadata": {
        "colab": {
          "base_uri": "https://localhost:8080/"
        },
        "id": "4YO-ntZtZu0O",
        "outputId": "8870b90b-8a01-43d8-e025-196563e69af8"
      },
      "source": [
        "from google.colab import drive\n",
        "drive.mount('/content/gdrive')"
      ],
      "execution_count": null,
      "outputs": [
        {
          "output_type": "stream",
          "text": [
            "Drive already mounted at /content/gdrive; to attempt to forcibly remount, call drive.mount(\"/content/gdrive\", force_remount=True).\n"
          ],
          "name": "stdout"
        }
      ]
    },
    {
      "cell_type": "code",
      "metadata": {
        "id": "5NK6HqOoakFN"
      },
      "source": [
        "data_dir = os.path.join('/','content','gdrive','MyDrive','trading_pairs')\n",
        "data_path = os.path.join(data_dir, 'S&P500_stock_data.csv')\n",
        "test_data_path = os.path.join(data_dir, 'S&P500_stock_data_test.csv')\n",
        "raw_data_path = os.path.join(data_dir, 'S&P500_raw.csv')"
      ],
      "execution_count": null,
      "outputs": []
    },
    {
      "cell_type": "code",
      "metadata": {
        "colab": {
          "base_uri": "https://localhost:8080/"
        },
        "id": "KrT5-67aI3qy",
        "outputId": "ef705ded-bd39-4a02-b4ee-f96c2cb449e0"
      },
      "source": [
        "!ls gdrive/MyDrive/trading_pairs"
      ],
      "execution_count": null,
      "outputs": [
        {
          "output_type": "stream",
          "text": [
            "'S&P500_raw.csv'  'S&P500_stock_data.csv'  'S&P500_stock_data_test.csv'\n"
          ],
          "name": "stdout"
        }
      ]
    },
    {
      "cell_type": "code",
      "metadata": {
        "colab": {
          "base_uri": "https://localhost:8080/",
          "height": 35
        },
        "id": "htM3btt9Khc8",
        "outputId": "ca6f409c-1479-49c3-eaef-6ff541bfc1c7"
      },
      "source": [
        "data_path"
      ],
      "execution_count": null,
      "outputs": [
        {
          "output_type": "execute_result",
          "data": {
            "application/vnd.google.colaboratory.intrinsic+json": {
              "type": "string"
            },
            "text/plain": [
              "'/content/gdrive/MyDrive/trading_pairs/S&P500_stock_data.csv'"
            ]
          },
          "metadata": {
            "tags": []
          },
          "execution_count": 8
        }
      ]
    },
    {
      "cell_type": "code",
      "metadata": {
        "id": "Y60bQGktbmBC"
      },
      "source": [
        "if os.path.isfile(data_path):\n",
        "    # Load Files\n",
        "    data = pd.read_csv(data_path)\n",
        "    test_data = pd.read_csv(test_data_path)\n",
        "    data = data.set_index('date')\n",
        "    test_data = test_data.set_index('date')\n",
        "    raw_data = pd.read_csv(raw_data_path)\n",
        "    raw_data.reset_index(drop = True, inplace = True)\n",
        "    raw_data = raw_data.pivot(index = 'date', columns = 'ticker', values = ['high', 'low'])\n",
        "else:\n",
        "    # Download Files\n",
        "    sp500_historical_data = {}\n",
        "    for ticker in sp500_list:\n",
        "        try:\n",
        "            sp500_historical_data[ticker] = si.get_data(ticker, \n",
        "                                                        start_date=START_DATE, \n",
        "                                                        index_as_date = False,\n",
        "                                                        end_date=END_DATE,\n",
        "                                                        interval=\"1d\")\n",
        "        # Tickers listed later than the period\n",
        "        except AssertionError:\n",
        "            print(\"{} Listed Later\".format(ticker))\n",
        "            continue\n",
        "        \n",
        "        # yahoo_fin has issues with some tickers\n",
        "        except KeyError:\n",
        "            print(\"{} Malformed Data\".format(ticker))\n",
        "            continue\n",
        "\n",
        "    data = pd.concat(sp500_historical_data)\n",
        "    data.reset_index(drop = True, inplace = True)\n",
        "    data = data.pivot(index = 'date', columns = 'ticker', values = 'adjclose')\n",
        "    data, test_data = data[:TRADING_DAYS//2], data[TRADING_DAYS//2:]\n",
        "    data.to_csv(data_path)\n",
        "    test_data.to_csv(test_data_path)\n",
        "\n",
        "    # Process data for daily High/Low\n",
        "    raw_data =  pd.concat(sp500_historical_data)\n",
        "    raw_data.reset_index(drop = True, inplace = True)\n",
        "    raw_data.to_csv(raw_data_path)\n",
        "    raw_data = raw_data.pivot(index = 'date', columns = 'ticker', values = ['high', 'low'])\n"
      ],
      "execution_count": null,
      "outputs": []
    },
    {
      "cell_type": "markdown",
      "metadata": {
        "id": "egKKe8u9niw9"
      },
      "source": [
        "# Dealing with missing data"
      ]
    },
    {
      "cell_type": "code",
      "metadata": {
        "colab": {
          "base_uri": "https://localhost:8080/",
          "height": 359
        },
        "id": "9-m6q-ra7uHa",
        "outputId": "41e1a081-792e-4208-c79e-314b55e6589c"
      },
      "source": [
        "# Truncate all numbers to have at most 3 digits after the decimal.\n",
        "pd.set_option('precision',3)\n",
        "data.describe().T.head(10)"
      ],
      "execution_count": null,
      "outputs": [
        {
          "output_type": "execute_result",
          "data": {
            "text/html": [
              "<div>\n",
              "<style scoped>\n",
              "    .dataframe tbody tr th:only-of-type {\n",
              "        vertical-align: middle;\n",
              "    }\n",
              "\n",
              "    .dataframe tbody tr th {\n",
              "        vertical-align: top;\n",
              "    }\n",
              "\n",
              "    .dataframe thead th {\n",
              "        text-align: right;\n",
              "    }\n",
              "</style>\n",
              "<table border=\"1\" class=\"dataframe\">\n",
              "  <thead>\n",
              "    <tr style=\"text-align: right;\">\n",
              "      <th></th>\n",
              "      <th>count</th>\n",
              "      <th>mean</th>\n",
              "      <th>std</th>\n",
              "      <th>min</th>\n",
              "      <th>25%</th>\n",
              "      <th>50%</th>\n",
              "      <th>75%</th>\n",
              "      <th>max</th>\n",
              "    </tr>\n",
              "  </thead>\n",
              "  <tbody>\n",
              "    <tr>\n",
              "      <th>A</th>\n",
              "      <td>250.0</td>\n",
              "      <td>41.479</td>\n",
              "      <td>3.544</td>\n",
              "      <td>33.152</td>\n",
              "      <td>38.266</td>\n",
              "      <td>42.906</td>\n",
              "      <td>44.361</td>\n",
              "      <td>46.402</td>\n",
              "    </tr>\n",
              "    <tr>\n",
              "      <th>AAL</th>\n",
              "      <td>250.0</td>\n",
              "      <td>36.647</td>\n",
              "      <td>4.850</td>\n",
              "      <td>24.285</td>\n",
              "      <td>33.676</td>\n",
              "      <td>36.775</td>\n",
              "      <td>39.246</td>\n",
              "      <td>47.969</td>\n",
              "    </tr>\n",
              "    <tr>\n",
              "      <th>AAP</th>\n",
              "      <td>250.0</td>\n",
              "      <td>152.243</td>\n",
              "      <td>9.373</td>\n",
              "      <td>133.517</td>\n",
              "      <td>145.108</td>\n",
              "      <td>151.640</td>\n",
              "      <td>158.441</td>\n",
              "      <td>173.310</td>\n",
              "    </tr>\n",
              "    <tr>\n",
              "      <th>AAPL</th>\n",
              "      <td>250.0</td>\n",
              "      <td>24.390</td>\n",
              "      <td>1.882</td>\n",
              "      <td>21.067</td>\n",
              "      <td>22.557</td>\n",
              "      <td>24.550</td>\n",
              "      <td>25.961</td>\n",
              "      <td>27.725</td>\n",
              "    </tr>\n",
              "    <tr>\n",
              "      <th>ABBV</th>\n",
              "      <td>250.0</td>\n",
              "      <td>48.091</td>\n",
              "      <td>3.166</td>\n",
              "      <td>40.050</td>\n",
              "      <td>45.610</td>\n",
              "      <td>48.785</td>\n",
              "      <td>50.451</td>\n",
              "      <td>53.709</td>\n",
              "    </tr>\n",
              "    <tr>\n",
              "      <th>ABC</th>\n",
              "      <td>250.0</td>\n",
              "      <td>75.932</td>\n",
              "      <td>5.319</td>\n",
              "      <td>63.237</td>\n",
              "      <td>72.255</td>\n",
              "      <td>76.817</td>\n",
              "      <td>79.573</td>\n",
              "      <td>93.532</td>\n",
              "    </tr>\n",
              "    <tr>\n",
              "      <th>ABMD</th>\n",
              "      <td>250.0</td>\n",
              "      <td>105.020</td>\n",
              "      <td>15.097</td>\n",
              "      <td>71.000</td>\n",
              "      <td>94.395</td>\n",
              "      <td>104.535</td>\n",
              "      <td>117.775</td>\n",
              "      <td>131.740</td>\n",
              "    </tr>\n",
              "    <tr>\n",
              "      <th>ABT</th>\n",
              "      <td>250.0</td>\n",
              "      <td>36.852</td>\n",
              "      <td>2.058</td>\n",
              "      <td>32.775</td>\n",
              "      <td>35.276</td>\n",
              "      <td>36.571</td>\n",
              "      <td>38.429</td>\n",
              "      <td>41.350</td>\n",
              "    </tr>\n",
              "    <tr>\n",
              "      <th>ACN</th>\n",
              "      <td>250.0</td>\n",
              "      <td>103.547</td>\n",
              "      <td>6.839</td>\n",
              "      <td>84.809</td>\n",
              "      <td>101.484</td>\n",
              "      <td>105.164</td>\n",
              "      <td>108.375</td>\n",
              "      <td>116.266</td>\n",
              "    </tr>\n",
              "    <tr>\n",
              "      <th>ADBE</th>\n",
              "      <td>250.0</td>\n",
              "      <td>97.277</td>\n",
              "      <td>7.787</td>\n",
              "      <td>73.850</td>\n",
              "      <td>93.270</td>\n",
              "      <td>97.710</td>\n",
              "      <td>103.500</td>\n",
              "      <td>110.810</td>\n",
              "    </tr>\n",
              "  </tbody>\n",
              "</table>\n",
              "</div>"
            ],
            "text/plain": [
              "      count     mean     std      min      25%      50%      75%      max\n",
              "A     250.0   41.479   3.544   33.152   38.266   42.906   44.361   46.402\n",
              "AAL   250.0   36.647   4.850   24.285   33.676   36.775   39.246   47.969\n",
              "AAP   250.0  152.243   9.373  133.517  145.108  151.640  158.441  173.310\n",
              "AAPL  250.0   24.390   1.882   21.067   22.557   24.550   25.961   27.725\n",
              "ABBV  250.0   48.091   3.166   40.050   45.610   48.785   50.451   53.709\n",
              "ABC   250.0   75.932   5.319   63.237   72.255   76.817   79.573   93.532\n",
              "ABMD  250.0  105.020  15.097   71.000   94.395  104.535  117.775  131.740\n",
              "ABT   250.0   36.852   2.058   32.775   35.276   36.571   38.429   41.350\n",
              "ACN   250.0  103.547   6.839   84.809  101.484  105.164  108.375  116.266\n",
              "ADBE  250.0   97.277   7.787   73.850   93.270   97.710  103.500  110.810"
            ]
          },
          "metadata": {
            "tags": []
          },
          "execution_count": 10
        }
      ]
    },
    {
      "cell_type": "markdown",
      "metadata": {
        "id": "l2pjiTFLMJwg"
      },
      "source": [
        "We drop tickers that have too much missing entries, which in this implementation means at least 20% of the entries being NaN. The remaining missing values, possibly due to holidays, incomplete information on Yahoo finance or other issues with the data gathering, are filled using the Pandas ```ffill``` method ensuring no Look-Ahead bias."
      ]
    },
    {
      "cell_type": "code",
      "metadata": {
        "colab": {
          "base_uri": "https://localhost:8080/"
        },
        "id": "ix7vZDvP9Yek",
        "outputId": "e29c38de-6b4b-496a-c389-25c8c25f1113"
      },
      "source": [
        "print('Data shape before:', data.shape)\n",
        "\n",
        "null_percentage = data.isnull().sum() / data.shape[0]\n",
        "to_drop = null_percentage[null_percentage > 0.2].index\n",
        "data.drop(labels=to_drop, axis=1, inplace=True)\n",
        "\n",
        "print('Data shape after:', data.shape)\n",
        "\n",
        "# Fill null values\n",
        "data = data.fillna(method = 'ffill')"
      ],
      "execution_count": null,
      "outputs": [
        {
          "output_type": "stream",
          "text": [
            "Data shape before: (250, 497)\n",
            "Data shape after: (250, 493)\n"
          ],
          "name": "stdout"
        }
      ]
    },
    {
      "cell_type": "code",
      "metadata": {
        "colab": {
          "base_uri": "https://localhost:8080/"
        },
        "id": "Z4Jcq9rgFCiI",
        "outputId": "8de7999c-f617-4d5e-812f-3491d9e14604"
      },
      "source": [
        "later_added = data.isnull().any()\n",
        "later_added = later_added[later_added == True] \n",
        "data.drop(labels=later_added.index, axis=1, inplace=True)\n",
        "\n",
        "print('Shape after removing added later', data.shape)"
      ],
      "execution_count": null,
      "outputs": [
        {
          "output_type": "stream",
          "text": [
            "Shape after removing added later (250, 493)\n"
          ],
          "name": "stdout"
        }
      ]
    },
    {
      "cell_type": "markdown",
      "metadata": {
        "id": "x2cnGxNXuH8s"
      },
      "source": [
        "### Removing Stationary Series\n",
        "\n",
        "When checking if two price series are cointegrated, it is important to ensure that they are individually not stationary. The goal is a pair of *non-stationary series* whose *linear combination* **is** stationary. We drop all stationary series via Augmented Dickey–Fuller test at the 0.05 significance level."
      ]
    },
    {
      "cell_type": "code",
      "metadata": {
        "id": "e1pMCWHXuH8s"
      },
      "source": [
        "to_drop = []\n",
        "\n",
        "for ticker in data.columns:\n",
        "    pval = adfuller(data[ticker])[1]\n",
        "    \n",
        "    if pval < 0.05:\n",
        "        to_drop.append(ticker)\n",
        "    "
      ],
      "execution_count": null,
      "outputs": []
    },
    {
      "cell_type": "code",
      "metadata": {
        "colab": {
          "base_uri": "https://localhost:8080/"
        },
        "id": "6HrlzUj4uH8s",
        "outputId": "01ef3368-0848-42aa-dab3-f9b04e6d8017"
      },
      "source": [
        "print(len(to_drop))"
      ],
      "execution_count": null,
      "outputs": [
        {
          "output_type": "stream",
          "text": [
            "21\n"
          ],
          "name": "stdout"
        }
      ]
    },
    {
      "cell_type": "code",
      "metadata": {
        "colab": {
          "base_uri": "https://localhost:8080/"
        },
        "id": "CtdJ2TUAuH8s",
        "outputId": "8f117033-a15b-4260-93fb-b12098989f2a"
      },
      "source": [
        "data = data.drop(columns=to_drop)\n",
        "print(len(data.columns))"
      ],
      "execution_count": null,
      "outputs": [
        {
          "output_type": "stream",
          "text": [
            "472\n"
          ],
          "name": "stdout"
        }
      ]
    },
    {
      "cell_type": "markdown",
      "metadata": {
        "id": "pfFmV44buH8t"
      },
      "source": [
        "### Creating Returns and Volatility DF"
      ]
    },
    {
      "cell_type": "markdown",
      "metadata": {
        "id": "YBna6N0fn37R"
      },
      "source": [
        "Traditionally, we are interested in the daily returns, not the prices. "
      ]
    },
    {
      "cell_type": "code",
      "metadata": {
        "colab": {
          "base_uri": "https://localhost:8080/",
          "height": 204
        },
        "id": "xZkecXKa-aKP",
        "outputId": "96d22550-b761-426d-eea8-ed089973cf59"
      },
      "source": [
        "ret = data.pct_change().mean()*TRADING_DAYS/2\n",
        "volatility = data.pct_change().std()*np.sqrt(TRADING_DAYS/2)\n",
        "returns = pd.DataFrame(index =  data.columns)\n",
        "returns['returns'] = ret.values\n",
        "returns['volatility'] = volatility.values\n",
        "\n",
        "returns.head(5)"
      ],
      "execution_count": null,
      "outputs": [
        {
          "output_type": "execute_result",
          "data": {
            "text/html": [
              "<div>\n",
              "<style scoped>\n",
              "    .dataframe tbody tr th:only-of-type {\n",
              "        vertical-align: middle;\n",
              "    }\n",
              "\n",
              "    .dataframe tbody tr th {\n",
              "        vertical-align: top;\n",
              "    }\n",
              "\n",
              "    .dataframe thead th {\n",
              "        text-align: right;\n",
              "    }\n",
              "</style>\n",
              "<table border=\"1\" class=\"dataframe\">\n",
              "  <thead>\n",
              "    <tr style=\"text-align: right;\">\n",
              "      <th></th>\n",
              "      <th>returns</th>\n",
              "      <th>volatility</th>\n",
              "    </tr>\n",
              "  </thead>\n",
              "  <tbody>\n",
              "    <tr>\n",
              "      <th>A</th>\n",
              "      <td>0.152</td>\n",
              "      <td>0.234</td>\n",
              "    </tr>\n",
              "    <tr>\n",
              "      <th>AAL</th>\n",
              "      <td>0.231</td>\n",
              "      <td>0.365</td>\n",
              "    </tr>\n",
              "    <tr>\n",
              "      <th>AAP</th>\n",
              "      <td>0.150</td>\n",
              "      <td>0.270</td>\n",
              "    </tr>\n",
              "    <tr>\n",
              "      <th>AAPL</th>\n",
              "      <td>0.153</td>\n",
              "      <td>0.234</td>\n",
              "    </tr>\n",
              "    <tr>\n",
              "      <th>ABBV</th>\n",
              "      <td>0.153</td>\n",
              "      <td>0.272</td>\n",
              "    </tr>\n",
              "  </tbody>\n",
              "</table>\n",
              "</div>"
            ],
            "text/plain": [
              "      returns  volatility\n",
              "A       0.152       0.234\n",
              "AAL     0.231       0.365\n",
              "AAP     0.150       0.270\n",
              "AAPL    0.153       0.234\n",
              "ABBV    0.153       0.272"
            ]
          },
          "metadata": {
            "tags": []
          },
          "execution_count": 16
        }
      ]
    },
    {
      "cell_type": "code",
      "metadata": {
        "colab": {
          "base_uri": "https://localhost:8080/",
          "height": 204
        },
        "id": "_BxLKoH6B021",
        "outputId": "3701e4d6-9b27-4cc1-d019-9be4b1050924"
      },
      "source": [
        "# Scale values\n",
        "scale = StandardScaler().fit(returns)\n",
        "\n",
        "scaled_data = pd.DataFrame(scale.fit_transform(returns), \n",
        "                           columns = returns.columns, \n",
        "                           index = returns.index)\n",
        "X = scaled_data\n",
        "X.head()"
      ],
      "execution_count": null,
      "outputs": [
        {
          "output_type": "execute_result",
          "data": {
            "text/html": [
              "<div>\n",
              "<style scoped>\n",
              "    .dataframe tbody tr th:only-of-type {\n",
              "        vertical-align: middle;\n",
              "    }\n",
              "\n",
              "    .dataframe tbody tr th {\n",
              "        vertical-align: top;\n",
              "    }\n",
              "\n",
              "    .dataframe thead th {\n",
              "        text-align: right;\n",
              "    }\n",
              "</style>\n",
              "<table border=\"1\" class=\"dataframe\">\n",
              "  <thead>\n",
              "    <tr style=\"text-align: right;\">\n",
              "      <th></th>\n",
              "      <th>returns</th>\n",
              "      <th>volatility</th>\n",
              "    </tr>\n",
              "  </thead>\n",
              "  <tbody>\n",
              "    <tr>\n",
              "      <th>A</th>\n",
              "      <td>-0.255</td>\n",
              "      <td>-0.331</td>\n",
              "    </tr>\n",
              "    <tr>\n",
              "      <th>AAL</th>\n",
              "      <td>0.127</td>\n",
              "      <td>0.979</td>\n",
              "    </tr>\n",
              "    <tr>\n",
              "      <th>AAP</th>\n",
              "      <td>-0.266</td>\n",
              "      <td>0.035</td>\n",
              "    </tr>\n",
              "    <tr>\n",
              "      <th>AAPL</th>\n",
              "      <td>-0.254</td>\n",
              "      <td>-0.331</td>\n",
              "    </tr>\n",
              "    <tr>\n",
              "      <th>ABBV</th>\n",
              "      <td>-0.253</td>\n",
              "      <td>0.049</td>\n",
              "    </tr>\n",
              "  </tbody>\n",
              "</table>\n",
              "</div>"
            ],
            "text/plain": [
              "      returns  volatility\n",
              "A      -0.255      -0.331\n",
              "AAL     0.127       0.979\n",
              "AAP    -0.266       0.035\n",
              "AAPL   -0.254      -0.331\n",
              "ABBV   -0.253       0.049"
            ]
          },
          "metadata": {
            "tags": []
          },
          "execution_count": 17
        }
      ]
    },
    {
      "cell_type": "markdown",
      "metadata": {
        "id": "YVLdLK5fChBm"
      },
      "source": [
        "# Clustering of data\n",
        "\n",
        "A central issue with pair trading strategies is finding cointegrated pairs or, more generaly, tuples of cointegrated price series. Checking every single pair of tickers is computationally taxing and prone to produce many spurious cointegrations. For instance, we have 505 stocks in the S&P, which produces\n",
        "$$\n",
        "{505 \\choose 2} = (505\\times 504)/2 = 127,260\n",
        "$$\n",
        "theoretical pairs to check. Even if we test them at the 0.01 significance level, we expect that around $1,200$ pairs will be deemed cointegrated solely by chance.\n",
        "\n",
        "To reduce the search space we first cluster the stocks and only check for pairs within each cluster.\n"
      ]
    },
    {
      "cell_type": "markdown",
      "metadata": {
        "id": "TTaDx97Uo7-b"
      },
      "source": [
        "## K-means via returns and volatilities\n",
        "After some experimentations we picked the classical ```k-means``` clustering algorithm, which achieved superior silhouette score (see below) when compared to the other ones tested but was also easier to interpret. We cluster the stocks using their returns and volatilities, and the number of clusters is selected via the *Elbow method*."
      ]
    },
    {
      "cell_type": "code",
      "metadata": {
        "colab": {
          "base_uri": "https://localhost:8080/",
          "height": 350
        },
        "id": "umd2ofgxE5Ny",
        "outputId": "16404be2-3769-4dca-c19e-36742db171e6"
      },
      "source": [
        "\n",
        "K = range(1,15)\n",
        "distortions = []\n",
        "\n",
        "#Fit the method\n",
        "for k in K:\n",
        "    kmeans = KMeans(n_clusters = k)\n",
        "    kmeans.fit(X)\n",
        "    distortions.append(kmeans.inertia_)\n",
        "                                        \n",
        "\n",
        "#Plot the results\n",
        "fig = plt.figure(figsize= (15,5))\n",
        "plt.plot(K, distortions, 'bx-')\n",
        "plt.xlabel('Values of K')\n",
        "plt.ylabel('Inertia')\n",
        "plt.title('Elbow Method')\n",
        "plt.grid(True)\n",
        "plt.show()"
      ],
      "execution_count": null,
      "outputs": [
        {
          "output_type": "display_data",
          "data": {
            "image/png": "[encoded data removed]",
            "text/plain": [
              "<Figure size 1080x360 with 1 Axes>"
            ]
          },
          "metadata": {
            "tags": [],
            "needs_background": "light"
          }
        }
      ]
    },
    {
      "cell_type": "code",
      "metadata": {
        "colab": {
          "base_uri": "https://localhost:8080/",
          "height": 458
        },
        "id": "7klCYY58InCr",
        "outputId": "f0dba966-51b3-49ca-d606-470c2859e5f8"
      },
      "source": [
        "CLUSTERS = 6\n",
        "\n",
        "# Fit the model\n",
        "k_means = KMeans(n_clusters=CLUSTERS)\n",
        "k_means.fit(X)\n",
        "prediction = k_means.predict(X)\n",
        "centers = k_means.cluster_centers_\n",
        "\n",
        "# Plot the results\n",
        "fig = plt.figure(figsize = (17,7))\n",
        "colors = cm.get_cmap('Set2')\n",
        "\n",
        "# Scatter Plot\n",
        "plt.subplot(1, 2, 1)\n",
        "plt.scatter(X.iloc[:,0], X.iloc[:,1], c = colors(k_means.labels_), cmap=\"Set2\")\n",
        "plt.scatter(centers[:, 0], centers[:, 1], c='black', s=100, alpha=1, marker='X')\n",
        "plt.title('k-Means Cluster Analysis Results')\n",
        "plt.xlabel('Mean Return')\n",
        "plt.ylabel('Volatility')\n",
        "\n",
        "# Cluster Sizes\n",
        "plt.subplot(1, 2, 2)\n",
        "cluster_sizes = Counter(k_means.labels_)\n",
        "counts = sorted(cluster_sizes.items())\n",
        "x,y = [str(c[0]) for c in counts], [c[1] for c in counts]\n",
        "plt.bar(x=x, height=y, color = colors([int(i) for i in x]))\n",
        "plt.title('Clusters')\n",
        "plt.xlabel('Stocks per Cluster')\n",
        "plt.ylabel('Cluster Number')\n",
        "plt.show()\n"
      ],
      "execution_count": null,
      "outputs": [
        {
          "output_type": "display_data",
          "data": {
            "image/png": "[encoded data removed]",
            "text/plain": [
              "<Figure size 1224x504 with 2 Axes>"
            ]
          },
          "metadata": {
            "tags": [],
            "needs_background": "light"
          }
        }
      ]
    },
    {
      "cell_type": "markdown",
      "metadata": {
        "id": "ZPjx1OcPpjDt"
      },
      "source": [
        "Just to experiment a little bit, let us see a few stocks in each cluster."
      ]
    },
    {
      "cell_type": "code",
      "metadata": {
        "colab": {
          "base_uri": "https://localhost:8080/"
        },
        "id": "ir9RCmQGpiv7",
        "outputId": "b5f3bdea-c8c6-422e-9da2-db11851c8c4b"
      },
      "source": [
        "ticker_to_cluster = pd.Series(index=X.index, data=k_means.labels_)\n",
        "for i in range(CLUSTERS):\n",
        "    print(\"Cluster {}: {}\".format(i, np.random.choice(ticker_to_cluster[ticker_to_cluster == i].index, 5)))"
      ],
      "execution_count": null,
      "outputs": [
        {
          "output_type": "stream",
          "text": [
            "Cluster 0: ['LLY' 'IVZ' 'FTNT' 'V' 'FB']\n",
            "Cluster 1: ['STX' 'LNC' 'PAYC' 'SIVB' 'MOS']\n",
            "Cluster 2: ['AMT' 'VNO' 'POOL' 'GOOGL' 'FISV']\n",
            "Cluster 3: ['MRO' 'MRO' 'AMD' 'OKE' 'NVDA']\n",
            "Cluster 4: ['UAA' 'DXCM' 'ILMN' 'CNC' 'MCK']\n",
            "Cluster 5: ['IP' 'PTC' 'HAL' 'BKNG' 'TTWO']\n"
          ],
          "name": "stdout"
        }
      ]
    },
    {
      "cell_type": "markdown",
      "metadata": {
        "id": "szsjLOgPrLtS"
      },
      "source": [
        "In a previous version we explored other clustering algorithms but picked ```k-means``` due to its superior ```silhouette score```. This score is given by the simple formula\n",
        "\n",
        "$$\n",
        "\\text{silhouette_score} = \\frac{d_{inter}-d_{intra}}{\\max(d_{inter},d_{intra})},\n",
        "$$\n",
        "where $d_{inter}$ (resp., $d_{intra}$) denote the average inter (resp. intra)-cluster distance."
      ]
    },
    {
      "cell_type": "code",
      "metadata": {
        "colab": {
          "base_uri": "https://localhost:8080/"
        },
        "id": "lEXCoQHDMkig",
        "outputId": "fa2315f4-ebb2-4f2c-a1ec-a34bb18ca63e"
      },
      "source": [
        "# Silhouette score for k-means\n",
        "print(\"k-Means:\", metrics.silhouette_score(X, k_means.labels_, metric='euclidean'))"
      ],
      "execution_count": null,
      "outputs": [
        {
          "output_type": "stream",
          "text": [
            "k-Means: 0.35716714476552525\n"
          ],
          "name": "stdout"
        }
      ]
    },
    {
      "cell_type": "markdown",
      "metadata": {
        "id": "tsNqXzcF6F_A"
      },
      "source": [
        "## Finding cointegration pairs in each cluster\n",
        "\n",
        "We find cointegrated pairs within each cluster using the augmented Engle-Granger test for cointegration at the 0.01 significance level."
      ]
    },
    {
      "cell_type": "code",
      "metadata": {
        "colab": {
          "base_uri": "https://localhost:8080/"
        },
        "id": "OUjpLZYF6f_q",
        "outputId": "c1cac403-0fca-461c-9690-ef533912762c"
      },
      "source": [
        "counts = ticker_to_cluster.value_counts()\n",
        "print (\"Number of clusters: %d\" % len(counts))\n",
        "print (\"Number of Pairs: %d\" % ((counts-1)*counts//2).sum()) "
      ],
      "execution_count": null,
      "outputs": [
        {
          "output_type": "stream",
          "text": [
            "Number of clusters: 6\n",
            "Number of Pairs: 30266\n"
          ],
          "name": "stdout"
        }
      ]
    },
    {
      "cell_type": "code",
      "metadata": {
        "id": "kPE1V3hJ6Uj-"
      },
      "source": [
        "def get_coint_pairs(ticker_data, significance=0.01):\n",
        "  '''Computes cointegrated pairs among tickers in ticker_data'''\n",
        "  N = ticker_data.shape[1]\n",
        "    \n",
        "  # We limit this since clusters are rather big\n",
        "  first_N = 10\n",
        "  pairs = []\n",
        "  tickers = ticker_data.keys()\n",
        "  for i in range(first_N):\n",
        "      for j in range(i+1, N):\n",
        "          t1 = ticker_data[tickers[i]]            \n",
        "          t2 = ticker_data[tickers[j]]\n",
        "          _, pval, _ = coint(t1, t2)\n",
        "          if pval < significance:\n",
        "              pairs.append((tickers[i], tickers[j]))\n",
        "  return pairs\n",
        "      \n",
        "def get_pairs_from_clusters(n_clusters, tikcer_to_cluster, data):\n",
        "  '''Computes cointegrated pairs for each cluster'''\n",
        "  cluster_lookup = {}\n",
        "  for cluster_ix in range(n_clusters):\n",
        "      tickers_in_cluster = ticker_to_cluster[ticker_to_cluster == cluster_ix].index\n",
        "      ticker_data = data[tickers_in_cluster]\n",
        "      pairs = get_coint_pairs(ticker_data)\n",
        "      cluster_lookup[cluster_ix] = pairs\n",
        "  return cluster_lookup       "
      ],
      "execution_count": null,
      "outputs": []
    },
    {
      "cell_type": "code",
      "metadata": {
        "colab": {
          "base_uri": "https://localhost:8080/"
        },
        "id": "nP3UoCHZ9Fjc",
        "outputId": "4bf89d16-54bb-42a9-e1a2-4e589e296be0"
      },
      "source": [
        "cluster_lookup = get_pairs_from_clusters(CLUSTERS, ticker_to_cluster, data)\n",
        "\n",
        "# Count Total Pairs\n",
        "pairs = []\n",
        "for ix in range(CLUSTERS):\n",
        "    pairs.extend(cluster_lookup[ix])\n",
        "print('Total Pairs: {}'.format(len(pairs)))"
      ],
      "execution_count": null,
      "outputs": [
        {
          "output_type": "stream",
          "text": [
            "Total Pairs: 70\n"
          ],
          "name": "stdout"
        }
      ]
    },
    {
      "cell_type": "code",
      "metadata": {
        "colab": {
          "base_uri": "https://localhost:8080/",
          "height": 204
        },
        "id": "c96OsaBT6Y6q",
        "outputId": "81e23de9-858e-4382-9241-d330d6a951a5"
      },
      "source": [
        "# Extract data for tickers in pairs\n",
        "tickers = np.unique(pairs)\n",
        "tickers_in_pairs = ticker_to_cluster.loc[tickers]\n",
        "X_pairs = X.T[tickers].T\n",
        "X_pairs.head()"
      ],
      "execution_count": null,
      "outputs": [
        {
          "output_type": "execute_result",
          "data": {
            "text/html": [
              "<div>\n",
              "<style scoped>\n",
              "    .dataframe tbody tr th:only-of-type {\n",
              "        vertical-align: middle;\n",
              "    }\n",
              "\n",
              "    .dataframe tbody tr th {\n",
              "        vertical-align: top;\n",
              "    }\n",
              "\n",
              "    .dataframe thead th {\n",
              "        text-align: right;\n",
              "    }\n",
              "</style>\n",
              "<table border=\"1\" class=\"dataframe\">\n",
              "  <thead>\n",
              "    <tr style=\"text-align: right;\">\n",
              "      <th></th>\n",
              "      <th>returns</th>\n",
              "      <th>volatility</th>\n",
              "    </tr>\n",
              "  </thead>\n",
              "  <tbody>\n",
              "    <tr>\n",
              "      <th>A</th>\n",
              "      <td>-0.255</td>\n",
              "      <td>-0.331</td>\n",
              "    </tr>\n",
              "    <tr>\n",
              "      <th>AAPL</th>\n",
              "      <td>-0.254</td>\n",
              "      <td>-0.331</td>\n",
              "    </tr>\n",
              "    <tr>\n",
              "      <th>ABBV</th>\n",
              "      <td>-0.253</td>\n",
              "      <td>0.049</td>\n",
              "    </tr>\n",
              "    <tr>\n",
              "      <th>ADI</th>\n",
              "      <td>0.739</td>\n",
              "      <td>-0.318</td>\n",
              "    </tr>\n",
              "    <tr>\n",
              "      <th>ADM</th>\n",
              "      <td>0.504</td>\n",
              "      <td>0.218</td>\n",
              "    </tr>\n",
              "  </tbody>\n",
              "</table>\n",
              "</div>"
            ],
            "text/plain": [
              "      returns  volatility\n",
              "A      -0.255      -0.331\n",
              "AAPL   -0.254      -0.331\n",
              "ABBV   -0.253       0.049\n",
              "ADI     0.739      -0.318\n",
              "ADM     0.504       0.218"
            ]
          },
          "metadata": {
            "tags": []
          },
          "execution_count": 25
        }
      ]
    },
    {
      "cell_type": "code",
      "metadata": {
        "colab": {
          "base_uri": "https://localhost:8080/",
          "height": 482
        },
        "id": "3PsjRqaCBZSM",
        "outputId": "fdc700eb-479f-4afe-c99c-3c42cd4e6268"
      },
      "source": [
        "# Use TSNE for visualizations\n",
        "X_tsne = TSNE(learning_rate=30, perplexity=5, random_state=42, n_jobs=-1).fit_transform(X_pairs)\n",
        "\n",
        "plt.figure(figsize=(10,8))\n",
        "plt.axis('off')\n",
        "    \n",
        "plt.scatter(X_tsne[:, 0], X_tsne[:, 1], s=215, alpha=0.8, c=tickers_in_pairs.values, cmap='Set2')\n",
        "plt.title('TSNE Visualization of Pairs'); \n",
        "\n",
        "for x,y,name in zip(X_tsne[:,0], X_tsne[:,1], X_pairs.index):\n",
        "    plt.annotate(name, (x,y), textcoords=\"offset points\", xytext=(0,5))\n",
        "    \n",
        "plt.show()"
      ],
      "execution_count": null,
      "outputs": [
        {
          "output_type": "display_data",
          "data": {
            "image/png": "[encoded data removed]",
            "text/plain": [
              "<Figure size 720x576 with 1 Axes>"
            ]
          },
          "metadata": {
            "tags": [],
            "needs_background": "light"
          }
        }
      ]
    },
    {
      "cell_type": "markdown",
      "metadata": {
        "id": "L3cHJKDBAh-M"
      },
      "source": [
        "# Trading strategy"
      ]
    },
    {
      "cell_type": "markdown",
      "metadata": {
        "id": "H_-Lt4WwFTUZ"
      },
      "source": [
        "Before we proceed with the implementation of the strategy, we plot a few of the cointegarted pairs found."
      ]
    },
    {
      "cell_type": "code",
      "metadata": {
        "colab": {
          "base_uri": "https://localhost:8080/",
          "height": 776
        },
        "id": "QYlw5uz3vzwG",
        "outputId": "c0dfca64-bd0b-4409-a45b-5fb6a7ba151e"
      },
      "source": [
        "for ix, t in enumerate(pairs[:3]):\n",
        "    ticker1, ticker2 = t\n",
        "    df1 = data[ticker1]\n",
        "    df2 = data[ticker2]\n",
        "    \n",
        "    fig = plt.figure(figsize= (15,12))\n",
        "    plt.subplot(3,1, ix+1)\n",
        "    plt.plot(range(len(df1)), df1, 'm-')\n",
        "    plt.plot(range(len(df2)), df2, 'g-')\n",
        "    plt.xlabel('Days')\n",
        "    plt.ylabel( \"Pair: ({}, {})\".format(ticker1, ticker2))\n",
        "    plt.title('Prices')\n",
        "    plt.grid()\n",
        "plt.show()"
      ],
      "execution_count": null,
      "outputs": [
        {
          "output_type": "display_data",
          "data": {
            "image/png": "[encoded data removed]",
            "text/plain": [
              "<Figure size 1080x864 with 1 Axes>"
            ]
          },
          "metadata": {
            "tags": [],
            "needs_background": "light"
          }
        },
        {
          "output_type": "display_data",
          "data": {
            "image/png": "[encoded data removed]",
            "text/plain": [
              "<Figure size 1080x864 with 1 Axes>"
            ]
          },
          "metadata": {
            "tags": [],
            "needs_background": "light"
          }
        },
        {
          "output_type": "display_data",
          "data": {
            "image/png": "[encoded data removed]",
            "text/plain": [
              "<Figure size 1080x864 with 1 Axes>"
            ]
          },
          "metadata": {
            "tags": [],
            "needs_background": "light"
          }
        }
      ]
    },
    {
      "cell_type": "markdown",
      "metadata": {
        "id": "jfIsH9wVg1jW"
      },
      "source": [
        "In comparison, below is a plot two random stocks in the index. "
      ]
    },
    {
      "cell_type": "code",
      "metadata": {
        "colab": {
          "base_uri": "https://localhost:8080/",
          "height": 350
        },
        "id": "Q0nxuVEFXzMT",
        "outputId": "91edfc96-f0bd-4336-feed-69363db96e4b"
      },
      "source": [
        "ticker1, ticker2 = np.random.choice(data.columns, 2)\n",
        "rand_df1 = data[ticker1]\n",
        "rand_df2 = data[ticker2]\n",
        "\n",
        "fig = plt.figure(figsize= (15, 5))\n",
        "plt.plot(range(len(rand_df1)), rand_df1 , 'g-')\n",
        "plt.plot(range(len(rand_df2)), rand_df2 , 'm-')\n",
        "plt.xlabel('Days')\n",
        "plt.ylabel( \"Pair: ({}, {})\".format(ticker1, ticker2))\n",
        "plt.title('Random Stocks (aug. Engle-Granger:{})'.format(\n",
        "    np.around(coint(rand_df1,rand_df2)[1], 2)\n",
        "))\n",
        "plt.grid()\n",
        "plt.show()\n"
      ],
      "execution_count": null,
      "outputs": [
        {
          "output_type": "display_data",
          "data": {
            "image/png": "[encoded data removed]",
            "text/plain": [
              "<Figure size 1080x360 with 1 Axes>"
            ]
          },
          "metadata": {
            "tags": [],
            "needs_background": "light"
          }
        }
      ]
    },
    {
      "cell_type": "markdown",
      "metadata": {
        "id": "UCP89kWIwE-1"
      },
      "source": [
        "### Implementing the strategy \n"
      ]
    },
    {
      "cell_type": "code",
      "metadata": {
        "id": "Gd5OQp-0xazr"
      },
      "source": [
        "# Set Hyperparameters\n",
        "LOOKBACK_PERIOD = 21\n",
        "FLOOR = -1\n",
        "CEIL = 1\n",
        "EXIT = 2.2\n",
        "\n",
        "#Add Stop Loss \n",
        "MAX_PERCENTAGE_LOSS = 50\n",
        "\n",
        "# TODO\n",
        "INTEREST_RATE = 0.0008"
      ],
      "execution_count": null,
      "outputs": []
    },
    {
      "cell_type": "markdown",
      "metadata": {
        "id": "aoeNQnhO_5zn"
      },
      "source": [
        "For a pair of stocks A and B, we need evaluate the spread\n",
        "$$\n",
        "\\text{spread} = r_A - h_c*r_B,\n",
        "$$\n",
        "where $r_i$ is the return of the asset $i$, and $h_c$ is the hedge ratio, assumed constant. We calcuate $h_c$ using regression, so that this spread is as close to $0$ as possible.\n",
        "\n",
        "Recall that in a simple linear regression\n",
        "$ Y= \\alpha + \\beta X+\\varepsilon,$ \n",
        "the coefficient $\\beta$ is given by: \n",
        "$$\\beta = \\text{cov}(X,Y)/\\text{var}(X).$$"
      ]
    },
    {
      "cell_type": "markdown",
      "metadata": {
        "id": "u3B4kYTWw74z"
      },
      "source": [
        "For each pair we daily evaluate the z-score\n",
        "\n",
        "$$\n",
        "z_t = \\frac{\\text{spread}_t - \\mu_{\\text{spread}}}{\\hat{\\sigma}_{\\text{spread}}},\n",
        "$$\n",
        "\n",
        "where both the mean and the standard deviation are the rolling-estimates for ```LOOKBACK_PERIOD``` periods. When the z-score is big and positive, we go short (short the overperforming and buy the underperforming). Symmetrically, when the z-score is small and negative, we go long. We exit the position when the z-score become abnormally high or low, suggesting a break in the cointegration, or if our losses exceed ```MAX_PERCENTAGE_LOSS```. \n",
        "\n"
      ]
    },
    {
      "cell_type": "code",
      "metadata": {
        "id": "o53ueiXf4Hcu"
      },
      "source": [
        "def create_spread(ticker_a, ticker_b,data):\n",
        "  df1 = data[ticker_a]\n",
        "  df2 = data[ticker_b]\n",
        "  df = pd.DataFrame(index = df1.index)\n",
        "  df['X'] = df1\n",
        "  df['Y'] = df2\n",
        "\n",
        "  # computing the hedge ratio (beta of the strategy)\n",
        "  df['cov'] = df.rolling(LOOKBACK_PERIOD).cov().unstack()['X']['Y']\n",
        "  df['var'] = df['Y'].rolling(LOOKBACK_PERIOD).var()\n",
        "  df['Hedge ratio'] = df['cov']/df['var']\n",
        "\n",
        "  # column with spread\n",
        "  df['Spread'] = df['X'] - df['Hedge ratio']*df['Y']\n",
        "  return df\n"
      ],
      "execution_count": null,
      "outputs": []
    },
    {
      "cell_type": "code",
      "metadata": {
        "id": "znPU1-MBRpOQ"
      },
      "source": [
        "def long_short_strat(ticker_a, ticker_b, data):\n",
        "  df = create_spread(ticker_a, ticker_b, data)\n",
        "  df['Z-score'] = (df['Spread'] - df['Spread'].rolling(LOOKBACK_PERIOD).mean())\\\n",
        "                  /(df['Spread'].rolling(LOOKBACK_PERIOD).std())\n",
        "\n",
        "  # Buy vs Sell signals\n",
        "  df['Long'] =  (df['Z-score'] < FLOOR)*1\n",
        "  df['Short']= (df['Z-score'] > CEIL)*1\n",
        "  df['Exit'] = (np.abs(df['Z-score'])>EXIT)*1\n",
        "  \n",
        "  df['In Long'] = (((df['Long'] == 1) & (~(df['Exit'] == 1))))*1\n",
        "  df['In Short'] = (((df['Short'] == 1) & (~(df['Exit'] == 1))))*1\n",
        "\n",
        "  return df\n"
      ],
      "execution_count": null,
      "outputs": []
    },
    {
      "cell_type": "code",
      "metadata": {
        "id": "6DvHHa5oQ_ZM"
      },
      "source": [
        "def compute_returns(investment, ticker_a, ticker_b, data):\n",
        "    df = long_short_strat(ticker_a, ticker_b, data)\n",
        "    portfolio = pd.DataFrame(index = df.index)\n",
        "\n",
        "    portfolio['Positions'] = df['In Long'] - df['In Short']\n",
        "    portfolio['X'] = -1.0 * df['X'] * portfolio['Positions']\n",
        "    portfolio['Y'] = df['Y'] * portfolio['Positions']\n",
        "    portfolio['Total']= portfolio['X'] + portfolio['Y']\n",
        "\n",
        "    # Show percentage returns\n",
        "    portfolio['Returns']= portfolio['Total'].pct_change()\n",
        "    portfolio['Returns'].fillna(0.0, inplace = True)\n",
        "    portfolio['Returns'].replace([np.inf, -np.inf], 0.0, inplace = True)\n",
        "    portfolio['Returns'].replace(-1.0, 0.0, inplace = True)\n",
        "    \n",
        "    # Equity curve\n",
        "    portfolio['Returns'] = (1.0 + portfolio['Returns']).cumprod()\n",
        "    \n",
        "\n",
        "    mu = portfolio['Returns'].mean()\n",
        "    sigma = portfolio['Returns'].std()\n",
        "    sharpe = ((mu- INTEREST_RATE)/sigma)\n",
        "    \n",
        "    \n",
        "    # Calculate if Stop Loss Condition has been met\n",
        "    loss_indices = portfolio[portfolio['Returns'] <= MAX_PERCENTAGE_LOSS/100].index\n",
        "    if loss_indices.any():\n",
        "        terminate_after = min(loss_indices)\n",
        "        portfolio.at[terminate_after:, 'Returns'] = MAX_PERCENTAGE_LOSS/100\n",
        "        new_mu = portfolio['Returns'].mean()\n",
        "        new_sigma = portfolio['Returns'].std()\n",
        "        sharpe = ((new_mu- INTEREST_RATE)/new_sigma)\n",
        "    \n",
        "    \n",
        "    # Calculate Portfolio\n",
        "    portfolio['Trade Returns'] = portfolio['Total'].pct_change()\n",
        "    portfolio['Portfolio Value'] = investment*portfolio['Returns']\n",
        "    portfolio['Portfolio Returns'] = portfolio['Portfolio Value'].pct_change()\n",
        "    portfolio['Initial Value'] = investment\n",
        "    \n",
        "    returns_to_date = ((portfolio['Portfolio Value'][-1] - investment)/investment)*100\n",
        "  \n",
        "\n",
        "    with plt.style.context(['bmh', 'seaborn-paper']):\n",
        "        fig = plt.figure(figsize= (15,5))\n",
        "        plt.plot(portfolio['Portfolio Value'])\n",
        "        plt.plot(portfolio['Initial Value'])\n",
        "        plt.title(\"Pair ({},{}), Profit to Date: {}%, Sharpe Ratio: {}\".format(\n",
        "                  ticker_a,\n",
        "                  ticker_b,\n",
        "                  np.around(returns_to_date, 2),\n",
        "                  np.around(sharpe, 2)\n",
        "                  ))\n",
        "        plt.xticks([])\n",
        "        plt.show()\n",
        "    return \n",
        "\n"
      ],
      "execution_count": null,
      "outputs": []
    },
    {
      "cell_type": "markdown",
      "metadata": {
        "id": "Z2Ok-h_BvbIe"
      },
      "source": [
        "### Computing the returns"
      ]
    },
    {
      "cell_type": "code",
      "metadata": {
        "colab": {
          "base_uri": "https://localhost:8080/",
          "height": 919
        },
        "id": "TsNhA9S6HGq2",
        "outputId": "d509fb75-a0a4-4b06-b241-41622b69b599"
      },
      "source": [
        "for stock1, stock2 in pairs[:3]: \n",
        "    compute_returns(1e6,stock1,stock2, data)"
      ],
      "execution_count": null,
      "outputs": [
        {
          "output_type": "display_data",
          "data": {
            "image/png": "[encoded data removed]",
            "text/plain": [
              "<Figure size 1080x360 with 1 Axes>"
            ]
          },
          "metadata": {
            "tags": [],
            "needs_background": "light"
          }
        },
        {
          "output_type": "display_data",
          "data": {
            "image/png": "[encoded data removed]",
            "text/plain": [
              "<Figure size 1080x360 with 1 Axes>"
            ]
          },
          "metadata": {
            "tags": [],
            "needs_background": "light"
          }
        },
        {
          "output_type": "display_data",
          "data": {
            "image/png": "[encoded data removed]",
            "text/plain": [
              "<Figure size 1080x360 with 1 Axes>"
            ]
          },
          "metadata": {
            "tags": [],
            "needs_background": "light"
          }
        }
      ]
    },
    {
      "cell_type": "markdown",
      "metadata": {
        "id": "AkP9eUo_vA64"
      },
      "source": [
        "As a benchmark of the performance, we attempt our strategy on a random pair in the S&P500 index."
      ]
    },
    {
      "cell_type": "code",
      "metadata": {
        "colab": {
          "base_uri": "https://localhost:8080/",
          "height": 317
        },
        "id": "ViYrLYwZvIEm",
        "outputId": "388d599e-460b-41f5-9710-e9c7bd5d8d33"
      },
      "source": [
        "rand_ticker1, rand_ticker2 = np.random.choice(test_data.columns, 2)\n",
        "compute_returns(1e6, rand_ticker1, rand_ticker2, test_data)"
      ],
      "execution_count": null,
      "outputs": [
        {
          "output_type": "display_data",
          "data": {
            "image/png": "[encoded data removed]",
            "text/plain": [
              "<Figure size 1080x360 with 1 Axes>"
            ]
          },
          "metadata": {
            "tags": [],
            "needs_background": "light"
          }
        }
      ]
    },
    {
      "cell_type": "markdown",
      "metadata": {
        "id": "dy2JQ-neeiyY"
      },
      "source": [
        "So far in our implementation we have not incorporated the costs associated with trading. We now attempt to estimate the slippage. The transaction costs are assumed fixed."
      ]
    },
    {
      "cell_type": "markdown",
      "metadata": {
        "id": "hz-ZmrU_cSA2"
      },
      "source": [
        "# Estimating bid-ask spread without intraday information\n",
        "\n",
        "In this section, we include an algorithm that estimates the size of the bid-ask spread of a stock's price given only daily date. We follow [Corwin and Schultz (2012)](https://onlinelibrary.wiley.com/doi/full/10.1111/j.1540-6261.2012.01729.x) (CS) method for estimating volatilities and bid-ask spreads from OHLCV data."
      ]
    },
    {
      "cell_type": "markdown",
      "metadata": {
        "id": "im-93vi0dfOQ"
      },
      "source": [
        "## Mathematical details\n",
        "\n",
        "We just provide few mathematical details illustrating the CS method. The estimator used is High-Low estimator, which is asssumed to combine information about volatity of the stock and its bid ask-spread. The main underlying assumptions, which allow to estimate these two contributions, are\n",
        "\n",
        "* daily high (resp. low) prices are buyer (resp. seller) - initiated trades.\n",
        "* high-low price variance's component in High-Low grows proportionately to the length of the trading interval, while bid-ask does not.\n",
        "\n",
        "To leverage the second property, CS uses 2-day period. Introduce the notation:\n",
        "\n",
        "* $S$ - spread, assumed constant over 2-day periods. This means that for each transaction on a stock bought (resp. sold), we pay (resp. gain) $S/2$% 'extra' (resp. 'less). \n",
        "* $\\beta$ - the expected squared return over a 2-day period:\n",
        "\n",
        "$$\n",
        "  \\mathbb{E}\\Big[\\ln^2\\frac{H_t}{L_t} + \\ln^2\\frac{H_{t+1}}{L_{t+1}}\\Big] ,\n",
        "$$\n",
        "where $H_t$ and $L_t$ are the observed prices at time period $t$.\n",
        "\n",
        "* Let $\\alpha$ be given by \n",
        "$$\n",
        "\\alpha = \\frac{\\sqrt{2\\beta}-\\sqrt{\\beta}}{3-2\\sqrt{2}} - \\sqrt{\\frac{\\gamma}{3-2\\sqrt{2}}},\n",
        "$$\n",
        "where $\\gamma$ is the \"max-min return\" squared over a two day-period:\n",
        "$$\n",
        "\\gamma  = \\ln^2 \\Big(\\frac{\\max(H_{t},H_{t+1})}{\\max(L_{t},L_{t+1})}\\Big)\n",
        "$$\n",
        "\n",
        "Then, under some assumptions, Corwin and Schultz propose that \n",
        "$$\n",
        "S =2\\frac{e^{\\alpha}-1}{1+e^\\alpha}.\n",
        "$$\n",
        "\n",
        "Despite indimidating-looking, the formula for $\\alpha$ is convenient since it is closed form and allows for direct substitution for $S$.\n"
      ]
    },
    {
      "cell_type": "markdown",
      "metadata": {
        "id": "CV91tanziVQD"
      },
      "source": [
        "## Estimating the parameters of the spread\n",
        "\n",
        "For $\\beta$, we estimate the average as a rolling average for a 30-day period (monthly), i.e. 21 trading days. We incorporate a few of the adjustments of Corwin and Schultz, namely\n",
        "\n",
        "* To account for overnight changes in price, we adjust as follows:\n",
        " 1. If $L_{t+1}>H_t$, we decrease both $H_{t+1}$ and $L_{t+1}$ by $L_{t+1}-H_t$\n",
        " 2. If $L_t>H_{t+1}$, we increase both $H_{t+1}$ and $L_{t+1}$ by $L_{t}-H_{t+1}$.\n",
        "\n",
        "* All negative 2-day spreads are set to zero before calculating monthly averages. This occurs when $\\alpha<0$. For example, thi is if the observed 2-day variance is more than twice as large as the single day one, traditionally when there is a lot of volatility in the markets.\n",
        " \n"
      ]
    },
    {
      "cell_type": "code",
      "metadata": {
        "colab": {
          "base_uri": "https://localhost:8080/",
          "height": 400
        },
        "id": "IGDdetJM_sic",
        "outputId": "f793c30d-7593-413a-d260-c351e3914162"
      },
      "source": [
        "raw_data.head(5)"
      ],
      "execution_count": null,
      "outputs": [
        {
          "output_type": "execute_result",
          "data": {
            "text/html": [
              "<div>\n",
              "<style scoped>\n",
              "    .dataframe tbody tr th:only-of-type {\n",
              "        vertical-align: middle;\n",
              "    }\n",
              "\n",
              "    .dataframe tbody tr th {\n",
              "        vertical-align: top;\n",
              "    }\n",
              "\n",
              "    .dataframe thead tr th {\n",
              "        text-align: left;\n",
              "    }\n",
              "\n",
              "    .dataframe thead tr:last-of-type th {\n",
              "        text-align: right;\n",
              "    }\n",
              "</style>\n",
              "<table border=\"1\" class=\"dataframe\">\n",
              "  <thead>\n",
              "    <tr>\n",
              "      <th></th>\n",
              "      <th colspan=\"40\" halign=\"left\">high</th>\n",
              "      <th>...</th>\n",
              "      <th colspan=\"40\" halign=\"left\">low</th>\n",
              "    </tr>\n",
              "    <tr>\n",
              "      <th>ticker</th>\n",
              "      <th>A</th>\n",
              "      <th>AAL</th>\n",
              "      <th>AAP</th>\n",
              "      <th>AAPL</th>\n",
              "      <th>ABBV</th>\n",
              "      <th>ABC</th>\n",
              "      <th>ABMD</th>\n",
              "      <th>ABT</th>\n",
              "      <th>ACN</th>\n",
              "      <th>ADBE</th>\n",
              "      <th>ADI</th>\n",
              "      <th>ADM</th>\n",
              "      <th>ADP</th>\n",
              "      <th>ADSK</th>\n",
              "      <th>AEE</th>\n",
              "      <th>AEP</th>\n",
              "      <th>AES</th>\n",
              "      <th>AFL</th>\n",
              "      <th>AIG</th>\n",
              "      <th>AIZ</th>\n",
              "      <th>AJG</th>\n",
              "      <th>AKAM</th>\n",
              "      <th>ALB</th>\n",
              "      <th>ALGN</th>\n",
              "      <th>ALK</th>\n",
              "      <th>ALL</th>\n",
              "      <th>ALLE</th>\n",
              "      <th>AMAT</th>\n",
              "      <th>AMCR</th>\n",
              "      <th>AMD</th>\n",
              "      <th>AME</th>\n",
              "      <th>AMGN</th>\n",
              "      <th>AMP</th>\n",
              "      <th>AMT</th>\n",
              "      <th>AMZN</th>\n",
              "      <th>ANET</th>\n",
              "      <th>ANSS</th>\n",
              "      <th>ANTM</th>\n",
              "      <th>AON</th>\n",
              "      <th>AOS</th>\n",
              "      <th>...</th>\n",
              "      <th>V</th>\n",
              "      <th>VFC</th>\n",
              "      <th>VIAC</th>\n",
              "      <th>VLO</th>\n",
              "      <th>VMC</th>\n",
              "      <th>VNO</th>\n",
              "      <th>VRSK</th>\n",
              "      <th>VRSN</th>\n",
              "      <th>VRTX</th>\n",
              "      <th>VTR</th>\n",
              "      <th>VTRS</th>\n",
              "      <th>VZ</th>\n",
              "      <th>WAB</th>\n",
              "      <th>WAT</th>\n",
              "      <th>WBA</th>\n",
              "      <th>WDC</th>\n",
              "      <th>WEC</th>\n",
              "      <th>WELL</th>\n",
              "      <th>WFC</th>\n",
              "      <th>WHR</th>\n",
              "      <th>WLTW</th>\n",
              "      <th>WM</th>\n",
              "      <th>WMB</th>\n",
              "      <th>WMT</th>\n",
              "      <th>WRB</th>\n",
              "      <th>WRK</th>\n",
              "      <th>WST</th>\n",
              "      <th>WU</th>\n",
              "      <th>WY</th>\n",
              "      <th>WYNN</th>\n",
              "      <th>XEL</th>\n",
              "      <th>XLNX</th>\n",
              "      <th>XOM</th>\n",
              "      <th>XRAY</th>\n",
              "      <th>XYL</th>\n",
              "      <th>YUM</th>\n",
              "      <th>ZBH</th>\n",
              "      <th>ZBRA</th>\n",
              "      <th>ZION</th>\n",
              "      <th>ZTS</th>\n",
              "    </tr>\n",
              "    <tr>\n",
              "      <th>date</th>\n",
              "      <th></th>\n",
              "      <th></th>\n",
              "      <th></th>\n",
              "      <th></th>\n",
              "      <th></th>\n",
              "      <th></th>\n",
              "      <th></th>\n",
              "      <th></th>\n",
              "      <th></th>\n",
              "      <th></th>\n",
              "      <th></th>\n",
              "      <th></th>\n",
              "      <th></th>\n",
              "      <th></th>\n",
              "      <th></th>\n",
              "      <th></th>\n",
              "      <th></th>\n",
              "      <th></th>\n",
              "      <th></th>\n",
              "      <th></th>\n",
              "      <th></th>\n",
              "      <th></th>\n",
              "      <th></th>\n",
              "      <th></th>\n",
              "      <th></th>\n",
              "      <th></th>\n",
              "      <th></th>\n",
              "      <th></th>\n",
              "      <th></th>\n",
              "      <th></th>\n",
              "      <th></th>\n",
              "      <th></th>\n",
              "      <th></th>\n",
              "      <th></th>\n",
              "      <th></th>\n",
              "      <th></th>\n",
              "      <th></th>\n",
              "      <th></th>\n",
              "      <th></th>\n",
              "      <th></th>\n",
              "      <th></th>\n",
              "      <th></th>\n",
              "      <th></th>\n",
              "      <th></th>\n",
              "      <th></th>\n",
              "      <th></th>\n",
              "      <th></th>\n",
              "      <th></th>\n",
              "      <th></th>\n",
              "      <th></th>\n",
              "      <th></th>\n",
              "      <th></th>\n",
              "      <th></th>\n",
              "      <th></th>\n",
              "      <th></th>\n",
              "      <th></th>\n",
              "      <th></th>\n",
              "      <th></th>\n",
              "      <th></th>\n",
              "      <th></th>\n",
              "      <th></th>\n",
              "      <th></th>\n",
              "      <th></th>\n",
              "      <th></th>\n",
              "      <th></th>\n",
              "      <th></th>\n",
              "      <th></th>\n",
              "      <th></th>\n",
              "      <th></th>\n",
              "      <th></th>\n",
              "      <th></th>\n",
              "      <th></th>\n",
              "      <th></th>\n",
              "      <th></th>\n",
              "      <th></th>\n",
              "      <th></th>\n",
              "      <th></th>\n",
              "      <th></th>\n",
              "      <th></th>\n",
              "      <th></th>\n",
              "      <th></th>\n",
              "    </tr>\n",
              "  </thead>\n",
              "  <tbody>\n",
              "    <tr>\n",
              "      <th>2016-01-04</th>\n",
              "      <td>41.19</td>\n",
              "      <td>41.35</td>\n",
              "      <td>154.48</td>\n",
              "      <td>26.343</td>\n",
              "      <td>58.32</td>\n",
              "      <td>102.64</td>\n",
              "      <td>89.42</td>\n",
              "      <td>44.05</td>\n",
              "      <td>102.65</td>\n",
              "      <td>92.00</td>\n",
              "      <td>54.47</td>\n",
              "      <td>36.15</td>\n",
              "      <td>83.19</td>\n",
              "      <td>60.54</td>\n",
              "      <td>43.22</td>\n",
              "      <td>58.36</td>\n",
              "      <td>9.48</td>\n",
              "      <td>29.590</td>\n",
              "      <td>61.07</td>\n",
              "      <td>79.40</td>\n",
              "      <td>40.49</td>\n",
              "      <td>52.32</td>\n",
              "      <td>55.69</td>\n",
              "      <td>65.00</td>\n",
              "      <td>79.29</td>\n",
              "      <td>60.98</td>\n",
              "      <td>64.88</td>\n",
              "      <td>18.47</td>\n",
              "      <td>9.65</td>\n",
              "      <td>2.82</td>\n",
              "      <td>52.93</td>\n",
              "      <td>159.22</td>\n",
              "      <td>104.33</td>\n",
              "      <td>96.78</td>\n",
              "      <td>657.72</td>\n",
              "      <td>78.000</td>\n",
              "      <td>91.62</td>\n",
              "      <td>139.43</td>\n",
              "      <td>90.88</td>\n",
              "      <td>37.735</td>\n",
              "      <td>...</td>\n",
              "      <td>75.01</td>\n",
              "      <td>56.742</td>\n",
              "      <td>46.13</td>\n",
              "      <td>68.71</td>\n",
              "      <td>89.91</td>\n",
              "      <td>78.812</td>\n",
              "      <td>74.41</td>\n",
              "      <td>82.44</td>\n",
              "      <td>121.04</td>\n",
              "      <td>55.51</td>\n",
              "      <td>52.70</td>\n",
              "      <td>45.36</td>\n",
              "      <td>69.47</td>\n",
              "      <td>129.13</td>\n",
              "      <td>82.12</td>\n",
              "      <td>58.86</td>\n",
              "      <td>50.53</td>\n",
              "      <td>67.11</td>\n",
              "      <td>52.30</td>\n",
              "      <td>142.60</td>\n",
              "      <td>122.993</td>\n",
              "      <td>52.00</td>\n",
              "      <td>25.32</td>\n",
              "      <td>60.36</td>\n",
              "      <td>35.293</td>\n",
              "      <td>39.999</td>\n",
              "      <td>56.96</td>\n",
              "      <td>17.38</td>\n",
              "      <td>29.44</td>\n",
              "      <td>64.64</td>\n",
              "      <td>35.39</td>\n",
              "      <td>45.36</td>\n",
              "      <td>76.46</td>\n",
              "      <td>58.29</td>\n",
              "      <td>35.60</td>\n",
              "      <td>50.784</td>\n",
              "      <td>100.17</td>\n",
              "      <td>65.62</td>\n",
              "      <td>26.23</td>\n",
              "      <td>46.75</td>\n",
              "    </tr>\n",
              "    <tr>\n",
              "      <th>2016-01-05</th>\n",
              "      <td>40.95</td>\n",
              "      <td>41.49</td>\n",
              "      <td>153.79</td>\n",
              "      <td>26.462</td>\n",
              "      <td>58.25</td>\n",
              "      <td>103.40</td>\n",
              "      <td>87.30</td>\n",
              "      <td>43.20</td>\n",
              "      <td>102.87</td>\n",
              "      <td>92.85</td>\n",
              "      <td>54.84</td>\n",
              "      <td>36.27</td>\n",
              "      <td>83.21</td>\n",
              "      <td>60.80</td>\n",
              "      <td>43.59</td>\n",
              "      <td>58.98</td>\n",
              "      <td>9.59</td>\n",
              "      <td>29.815</td>\n",
              "      <td>60.95</td>\n",
              "      <td>80.44</td>\n",
              "      <td>40.45</td>\n",
              "      <td>52.65</td>\n",
              "      <td>56.10</td>\n",
              "      <td>67.00</td>\n",
              "      <td>79.17</td>\n",
              "      <td>60.97</td>\n",
              "      <td>65.40</td>\n",
              "      <td>18.63</td>\n",
              "      <td>9.45</td>\n",
              "      <td>2.80</td>\n",
              "      <td>52.87</td>\n",
              "      <td>160.21</td>\n",
              "      <td>105.47</td>\n",
              "      <td>98.75</td>\n",
              "      <td>646.91</td>\n",
              "      <td>79.225</td>\n",
              "      <td>90.92</td>\n",
              "      <td>141.95</td>\n",
              "      <td>91.45</td>\n",
              "      <td>38.170</td>\n",
              "      <td>...</td>\n",
              "      <td>75.54</td>\n",
              "      <td>57.119</td>\n",
              "      <td>45.95</td>\n",
              "      <td>69.77</td>\n",
              "      <td>92.01</td>\n",
              "      <td>79.620</td>\n",
              "      <td>74.73</td>\n",
              "      <td>80.58</td>\n",
              "      <td>121.90</td>\n",
              "      <td>56.66</td>\n",
              "      <td>53.25</td>\n",
              "      <td>45.63</td>\n",
              "      <td>68.63</td>\n",
              "      <td>129.54</td>\n",
              "      <td>80.83</td>\n",
              "      <td>59.79</td>\n",
              "      <td>50.44</td>\n",
              "      <td>68.15</td>\n",
              "      <td>52.55</td>\n",
              "      <td>144.64</td>\n",
              "      <td>122.310</td>\n",
              "      <td>52.23</td>\n",
              "      <td>25.91</td>\n",
              "      <td>61.85</td>\n",
              "      <td>35.413</td>\n",
              "      <td>40.760</td>\n",
              "      <td>56.68</td>\n",
              "      <td>17.44</td>\n",
              "      <td>29.63</td>\n",
              "      <td>67.65</td>\n",
              "      <td>35.19</td>\n",
              "      <td>45.61</td>\n",
              "      <td>76.92</td>\n",
              "      <td>58.90</td>\n",
              "      <td>35.51</td>\n",
              "      <td>51.265</td>\n",
              "      <td>101.60</td>\n",
              "      <td>64.62</td>\n",
              "      <td>26.24</td>\n",
              "      <td>47.28</td>\n",
              "    </tr>\n",
              "    <tr>\n",
              "      <th>2016-01-06</th>\n",
              "      <td>40.99</td>\n",
              "      <td>41.70</td>\n",
              "      <td>150.05</td>\n",
              "      <td>25.593</td>\n",
              "      <td>57.56</td>\n",
              "      <td>102.64</td>\n",
              "      <td>87.13</td>\n",
              "      <td>42.98</td>\n",
              "      <td>103.06</td>\n",
              "      <td>91.50</td>\n",
              "      <td>53.54</td>\n",
              "      <td>35.83</td>\n",
              "      <td>81.71</td>\n",
              "      <td>59.80</td>\n",
              "      <td>43.93</td>\n",
              "      <td>59.35</td>\n",
              "      <td>9.48</td>\n",
              "      <td>29.305</td>\n",
              "      <td>59.95</td>\n",
              "      <td>79.38</td>\n",
              "      <td>39.92</td>\n",
              "      <td>51.76</td>\n",
              "      <td>54.25</td>\n",
              "      <td>65.82</td>\n",
              "      <td>78.25</td>\n",
              "      <td>60.20</td>\n",
              "      <td>63.83</td>\n",
              "      <td>18.23</td>\n",
              "      <td>9.44</td>\n",
              "      <td>2.71</td>\n",
              "      <td>51.91</td>\n",
              "      <td>157.93</td>\n",
              "      <td>102.22</td>\n",
              "      <td>98.64</td>\n",
              "      <td>639.79</td>\n",
              "      <td>78.175</td>\n",
              "      <td>89.10</td>\n",
              "      <td>140.48</td>\n",
              "      <td>90.59</td>\n",
              "      <td>37.100</td>\n",
              "      <td>...</td>\n",
              "      <td>74.85</td>\n",
              "      <td>56.365</td>\n",
              "      <td>45.50</td>\n",
              "      <td>69.80</td>\n",
              "      <td>89.75</td>\n",
              "      <td>79.402</td>\n",
              "      <td>73.75</td>\n",
              "      <td>79.82</td>\n",
              "      <td>119.51</td>\n",
              "      <td>56.73</td>\n",
              "      <td>52.78</td>\n",
              "      <td>45.28</td>\n",
              "      <td>66.10</td>\n",
              "      <td>128.46</td>\n",
              "      <td>79.43</td>\n",
              "      <td>58.12</td>\n",
              "      <td>51.36</td>\n",
              "      <td>69.30</td>\n",
              "      <td>51.83</td>\n",
              "      <td>140.40</td>\n",
              "      <td>119.940</td>\n",
              "      <td>52.12</td>\n",
              "      <td>22.90</td>\n",
              "      <td>62.47</td>\n",
              "      <td>35.173</td>\n",
              "      <td>39.643</td>\n",
              "      <td>56.10</td>\n",
              "      <td>17.10</td>\n",
              "      <td>29.12</td>\n",
              "      <td>65.36</td>\n",
              "      <td>35.74</td>\n",
              "      <td>45.17</td>\n",
              "      <td>76.59</td>\n",
              "      <td>58.85</td>\n",
              "      <td>35.22</td>\n",
              "      <td>50.913</td>\n",
              "      <td>102.37</td>\n",
              "      <td>61.55</td>\n",
              "      <td>25.47</td>\n",
              "      <td>47.26</td>\n",
              "    </tr>\n",
              "    <tr>\n",
              "      <th>2016-01-07</th>\n",
              "      <td>40.15</td>\n",
              "      <td>41.52</td>\n",
              "      <td>149.46</td>\n",
              "      <td>25.032</td>\n",
              "      <td>57.84</td>\n",
              "      <td>101.15</td>\n",
              "      <td>84.88</td>\n",
              "      <td>42.18</td>\n",
              "      <td>100.84</td>\n",
              "      <td>91.40</td>\n",
              "      <td>51.46</td>\n",
              "      <td>35.09</td>\n",
              "      <td>80.35</td>\n",
              "      <td>58.69</td>\n",
              "      <td>44.08</td>\n",
              "      <td>58.98</td>\n",
              "      <td>9.20</td>\n",
              "      <td>29.000</td>\n",
              "      <td>59.50</td>\n",
              "      <td>78.65</td>\n",
              "      <td>38.96</td>\n",
              "      <td>50.70</td>\n",
              "      <td>51.70</td>\n",
              "      <td>64.89</td>\n",
              "      <td>77.19</td>\n",
              "      <td>59.66</td>\n",
              "      <td>62.29</td>\n",
              "      <td>17.61</td>\n",
              "      <td>9.44</td>\n",
              "      <td>2.48</td>\n",
              "      <td>50.44</td>\n",
              "      <td>156.45</td>\n",
              "      <td>99.42</td>\n",
              "      <td>97.33</td>\n",
              "      <td>630.00</td>\n",
              "      <td>72.460</td>\n",
              "      <td>88.18</td>\n",
              "      <td>137.82</td>\n",
              "      <td>88.97</td>\n",
              "      <td>35.850</td>\n",
              "      <td>...</td>\n",
              "      <td>73.35</td>\n",
              "      <td>55.716</td>\n",
              "      <td>44.75</td>\n",
              "      <td>69.57</td>\n",
              "      <td>87.75</td>\n",
              "      <td>78.925</td>\n",
              "      <td>72.48</td>\n",
              "      <td>79.40</td>\n",
              "      <td>113.85</td>\n",
              "      <td>56.01</td>\n",
              "      <td>51.57</td>\n",
              "      <td>45.00</td>\n",
              "      <td>63.73</td>\n",
              "      <td>127.20</td>\n",
              "      <td>79.03</td>\n",
              "      <td>57.03</td>\n",
              "      <td>51.11</td>\n",
              "      <td>67.60</td>\n",
              "      <td>50.15</td>\n",
              "      <td>137.53</td>\n",
              "      <td>114.930</td>\n",
              "      <td>52.42</td>\n",
              "      <td>20.60</td>\n",
              "      <td>62.92</td>\n",
              "      <td>34.713</td>\n",
              "      <td>38.877</td>\n",
              "      <td>55.63</td>\n",
              "      <td>16.81</td>\n",
              "      <td>28.10</td>\n",
              "      <td>59.80</td>\n",
              "      <td>36.06</td>\n",
              "      <td>43.74</td>\n",
              "      <td>75.90</td>\n",
              "      <td>58.04</td>\n",
              "      <td>34.49</td>\n",
              "      <td>49.375</td>\n",
              "      <td>101.43</td>\n",
              "      <td>58.11</td>\n",
              "      <td>24.81</td>\n",
              "      <td>46.29</td>\n",
              "    </tr>\n",
              "    <tr>\n",
              "      <th>2016-01-08</th>\n",
              "      <td>39.71</td>\n",
              "      <td>41.36</td>\n",
              "      <td>149.44</td>\n",
              "      <td>24.778</td>\n",
              "      <td>57.81</td>\n",
              "      <td>99.51</td>\n",
              "      <td>85.71</td>\n",
              "      <td>41.90</td>\n",
              "      <td>99.81</td>\n",
              "      <td>89.99</td>\n",
              "      <td>51.55</td>\n",
              "      <td>35.10</td>\n",
              "      <td>79.25</td>\n",
              "      <td>56.46</td>\n",
              "      <td>44.05</td>\n",
              "      <td>58.93</td>\n",
              "      <td>9.20</td>\n",
              "      <td>28.895</td>\n",
              "      <td>59.01</td>\n",
              "      <td>78.30</td>\n",
              "      <td>39.06</td>\n",
              "      <td>49.18</td>\n",
              "      <td>51.08</td>\n",
              "      <td>66.10</td>\n",
              "      <td>74.89</td>\n",
              "      <td>58.94</td>\n",
              "      <td>61.71</td>\n",
              "      <td>17.26</td>\n",
              "      <td>9.44</td>\n",
              "      <td>2.42</td>\n",
              "      <td>50.60</td>\n",
              "      <td>154.86</td>\n",
              "      <td>99.36</td>\n",
              "      <td>96.49</td>\n",
              "      <td>624.14</td>\n",
              "      <td>70.860</td>\n",
              "      <td>87.81</td>\n",
              "      <td>136.51</td>\n",
              "      <td>89.09</td>\n",
              "      <td>34.630</td>\n",
              "      <td>...</td>\n",
              "      <td>72.75</td>\n",
              "      <td>54.680</td>\n",
              "      <td>45.52</td>\n",
              "      <td>68.10</td>\n",
              "      <td>85.92</td>\n",
              "      <td>77.551</td>\n",
              "      <td>72.78</td>\n",
              "      <td>77.97</td>\n",
              "      <td>110.55</td>\n",
              "      <td>56.01</td>\n",
              "      <td>49.26</td>\n",
              "      <td>44.70</td>\n",
              "      <td>63.04</td>\n",
              "      <td>126.45</td>\n",
              "      <td>80.92</td>\n",
              "      <td>54.79</td>\n",
              "      <td>51.37</td>\n",
              "      <td>67.95</td>\n",
              "      <td>49.46</td>\n",
              "      <td>135.26</td>\n",
              "      <td>113.500</td>\n",
              "      <td>52.23</td>\n",
              "      <td>19.47</td>\n",
              "      <td>63.41</td>\n",
              "      <td>34.613</td>\n",
              "      <td>37.607</td>\n",
              "      <td>55.34</td>\n",
              "      <td>16.85</td>\n",
              "      <td>27.84</td>\n",
              "      <td>57.55</td>\n",
              "      <td>36.08</td>\n",
              "      <td>42.84</td>\n",
              "      <td>74.50</td>\n",
              "      <td>56.89</td>\n",
              "      <td>34.28</td>\n",
              "      <td>48.864</td>\n",
              "      <td>101.37</td>\n",
              "      <td>58.97</td>\n",
              "      <td>24.55</td>\n",
              "      <td>45.65</td>\n",
              "    </tr>\n",
              "  </tbody>\n",
              "</table>\n",
              "<p>5 rows × 994 columns</p>\n",
              "</div>"
            ],
            "text/plain": [
              "             high                         ...     low                     \n",
              "ticker          A    AAL     AAP    AAPL  ...     ZBH   ZBRA   ZION    ZTS\n",
              "date                                      ...                             \n",
              "2016-01-04  41.19  41.35  154.48  26.343  ...  100.17  65.62  26.23  46.75\n",
              "2016-01-05  40.95  41.49  153.79  26.462  ...  101.60  64.62  26.24  47.28\n",
              "2016-01-06  40.99  41.70  150.05  25.593  ...  102.37  61.55  25.47  47.26\n",
              "2016-01-07  40.15  41.52  149.46  25.032  ...  101.43  58.11  24.81  46.29\n",
              "2016-01-08  39.71  41.36  149.44  24.778  ...  101.37  58.97  24.55  45.65\n",
              "\n",
              "[5 rows x 994 columns]"
            ]
          },
          "metadata": {
            "tags": []
          },
          "execution_count": 35
        }
      ]
    },
    {
      "cell_type": "code",
      "metadata": {
        "id": "7sU925Zj_sdd"
      },
      "source": [
        "# Get daily High/Low\n",
        "raw_inpairs_high = raw_data['high'][data.columns]\n",
        "raw_inpairs_low = raw_data['low'][data.columns]"
      ],
      "execution_count": null,
      "outputs": []
    },
    {
      "cell_type": "code",
      "metadata": {
        "id": "0mIRe2iJ_sZW"
      },
      "source": [
        "# Adjust Prices according to conditions 1. and 2.\n",
        "raw_inpairs_adj_low = raw_inpairs_low.copy()\n",
        "raw_inpairs_adj_high = raw_inpairs_high.copy()\n",
        "\n",
        "for ix in range(len(raw_inpairs_low)-1):\n",
        "    rows_cond1 = raw_inpairs_low.iloc[ix][raw_inpairs_low.iloc[ix+1] > raw_inpairs_high.iloc[ix]].index\n",
        "    rows_cond2 = raw_inpairs_low.iloc[ix][raw_inpairs_low.iloc[ix] > raw_inpairs_high.iloc[ix+1]].index\n",
        "    \n",
        "    raw_inpairs_adj_low.iloc[ix+1][rows_cond1] -= (raw_inpairs_low.iloc[ix+1] - raw_inpairs_high.iloc[ix])[rows_cond1]\n",
        "    raw_inpairs_adj_high.iloc[ix+1][rows_cond1] -= (raw_inpairs_low.iloc[ix+1] - raw_inpairs_high.iloc[ix])[rows_cond1]\n",
        "    \n",
        "    raw_inpairs_adj_low.iloc[ix+1][rows_cond1] += (raw_inpairs_low.iloc[ix] - raw_inpairs_high.iloc[ix+1])[rows_cond1]\n",
        "    raw_inpairs_adj_high.iloc[ix+1][rows_cond1] += (raw_inpairs_low.iloc[ix] - raw_inpairs_high.iloc[ix+1])[rows_cond1]\n"
      ],
      "execution_count": null,
      "outputs": []
    },
    {
      "cell_type": "code",
      "metadata": {
        "colab": {
          "base_uri": "https://localhost:8080/",
          "height": 369
        },
        "id": "VcEoYbUp_sPb",
        "outputId": "e4afedf2-ca86-490e-a134-97cc1653f06e"
      },
      "source": [
        "# Calculate beta\n",
        "T = 21\n",
        "SHIFT = 22\n",
        "beta_df = pd.DataFrame(index=raw_inpairs_high.index, columns = data.columns)\n",
        "\n",
        "# Shift indices so we always have a positive index\n",
        "for t in range(SHIFT, len(beta_df.index)):\n",
        "    val = 0\n",
        "    for ix in range(0,T):\n",
        "        val += np.log(raw_inpairs_adj_high.iloc[t-T-1+ix]/raw_inpairs_adj_low.iloc[t-T-1+ix])**2 +\\\n",
        "              np.log(raw_inpairs_adj_high.iloc[t-T+ix]/raw_inpairs_adj_low.iloc[t-T+ix])**2\n",
        "\n",
        "    val*= (1/T)\n",
        "    beta_df.iloc[t] = val\n",
        "beta_df = beta_df.iloc[SHIFT:]\n",
        "beta_df.fillna(method='ffill')\n",
        "beta_df = beta_df.apply(pd.to_numeric)\n",
        "beta_df.head()"
      ],
      "execution_count": null,
      "outputs": [
        {
          "output_type": "execute_result",
          "data": {
            "text/html": [
              "<div>\n",
              "<style scoped>\n",
              "    .dataframe tbody tr th:only-of-type {\n",
              "        vertical-align: middle;\n",
              "    }\n",
              "\n",
              "    .dataframe tbody tr th {\n",
              "        vertical-align: top;\n",
              "    }\n",
              "\n",
              "    .dataframe thead th {\n",
              "        text-align: right;\n",
              "    }\n",
              "</style>\n",
              "<table border=\"1\" class=\"dataframe\">\n",
              "  <thead>\n",
              "    <tr style=\"text-align: right;\">\n",
              "      <th></th>\n",
              "      <th>A</th>\n",
              "      <th>AAL</th>\n",
              "      <th>AAP</th>\n",
              "      <th>AAPL</th>\n",
              "      <th>ABBV</th>\n",
              "      <th>ABC</th>\n",
              "      <th>ABMD</th>\n",
              "      <th>ABT</th>\n",
              "      <th>ACN</th>\n",
              "      <th>ADBE</th>\n",
              "      <th>ADI</th>\n",
              "      <th>ADM</th>\n",
              "      <th>ADP</th>\n",
              "      <th>ADSK</th>\n",
              "      <th>AEE</th>\n",
              "      <th>AEP</th>\n",
              "      <th>AES</th>\n",
              "      <th>AFL</th>\n",
              "      <th>AIG</th>\n",
              "      <th>AIZ</th>\n",
              "      <th>AJG</th>\n",
              "      <th>AKAM</th>\n",
              "      <th>ALB</th>\n",
              "      <th>ALGN</th>\n",
              "      <th>ALK</th>\n",
              "      <th>ALL</th>\n",
              "      <th>ALLE</th>\n",
              "      <th>AMAT</th>\n",
              "      <th>AMCR</th>\n",
              "      <th>AMD</th>\n",
              "      <th>AMGN</th>\n",
              "      <th>AMP</th>\n",
              "      <th>AMT</th>\n",
              "      <th>AMZN</th>\n",
              "      <th>ANET</th>\n",
              "      <th>ANSS</th>\n",
              "      <th>ANTM</th>\n",
              "      <th>AOS</th>\n",
              "      <th>APA</th>\n",
              "      <th>APD</th>\n",
              "      <th>...</th>\n",
              "      <th>UPS</th>\n",
              "      <th>URI</th>\n",
              "      <th>USB</th>\n",
              "      <th>V</th>\n",
              "      <th>VFC</th>\n",
              "      <th>VIAC</th>\n",
              "      <th>VLO</th>\n",
              "      <th>VMC</th>\n",
              "      <th>VNO</th>\n",
              "      <th>VRSK</th>\n",
              "      <th>VRSN</th>\n",
              "      <th>VTR</th>\n",
              "      <th>VTRS</th>\n",
              "      <th>VZ</th>\n",
              "      <th>WAB</th>\n",
              "      <th>WAT</th>\n",
              "      <th>WDC</th>\n",
              "      <th>WEC</th>\n",
              "      <th>WELL</th>\n",
              "      <th>WFC</th>\n",
              "      <th>WHR</th>\n",
              "      <th>WLTW</th>\n",
              "      <th>WM</th>\n",
              "      <th>WMB</th>\n",
              "      <th>WMT</th>\n",
              "      <th>WRB</th>\n",
              "      <th>WRK</th>\n",
              "      <th>WST</th>\n",
              "      <th>WU</th>\n",
              "      <th>WY</th>\n",
              "      <th>WYNN</th>\n",
              "      <th>XEL</th>\n",
              "      <th>XLNX</th>\n",
              "      <th>XOM</th>\n",
              "      <th>XYL</th>\n",
              "      <th>YUM</th>\n",
              "      <th>ZBH</th>\n",
              "      <th>ZBRA</th>\n",
              "      <th>ZION</th>\n",
              "      <th>ZTS</th>\n",
              "    </tr>\n",
              "    <tr>\n",
              "      <th>date</th>\n",
              "      <th></th>\n",
              "      <th></th>\n",
              "      <th></th>\n",
              "      <th></th>\n",
              "      <th></th>\n",
              "      <th></th>\n",
              "      <th></th>\n",
              "      <th></th>\n",
              "      <th></th>\n",
              "      <th></th>\n",
              "      <th></th>\n",
              "      <th></th>\n",
              "      <th></th>\n",
              "      <th></th>\n",
              "      <th></th>\n",
              "      <th></th>\n",
              "      <th></th>\n",
              "      <th></th>\n",
              "      <th></th>\n",
              "      <th></th>\n",
              "      <th></th>\n",
              "      <th></th>\n",
              "      <th></th>\n",
              "      <th></th>\n",
              "      <th></th>\n",
              "      <th></th>\n",
              "      <th></th>\n",
              "      <th></th>\n",
              "      <th></th>\n",
              "      <th></th>\n",
              "      <th></th>\n",
              "      <th></th>\n",
              "      <th></th>\n",
              "      <th></th>\n",
              "      <th></th>\n",
              "      <th></th>\n",
              "      <th></th>\n",
              "      <th></th>\n",
              "      <th></th>\n",
              "      <th></th>\n",
              "      <th></th>\n",
              "      <th></th>\n",
              "      <th></th>\n",
              "      <th></th>\n",
              "      <th></th>\n",
              "      <th></th>\n",
              "      <th></th>\n",
              "      <th></th>\n",
              "      <th></th>\n",
              "      <th></th>\n",
              "      <th></th>\n",
              "      <th></th>\n",
              "      <th></th>\n",
              "      <th></th>\n",
              "      <th></th>\n",
              "      <th></th>\n",
              "      <th></th>\n",
              "      <th></th>\n",
              "      <th></th>\n",
              "      <th></th>\n",
              "      <th></th>\n",
              "      <th></th>\n",
              "      <th></th>\n",
              "      <th></th>\n",
              "      <th></th>\n",
              "      <th></th>\n",
              "      <th></th>\n",
              "      <th></th>\n",
              "      <th></th>\n",
              "      <th></th>\n",
              "      <th></th>\n",
              "      <th></th>\n",
              "      <th></th>\n",
              "      <th></th>\n",
              "      <th></th>\n",
              "      <th></th>\n",
              "      <th></th>\n",
              "      <th></th>\n",
              "      <th></th>\n",
              "      <th></th>\n",
              "      <th></th>\n",
              "    </tr>\n",
              "  </thead>\n",
              "  <tbody>\n",
              "    <tr>\n",
              "      <th>2016-02-04</th>\n",
              "      <td>0.002</td>\n",
              "      <td>0.005</td>\n",
              "      <td>0.003</td>\n",
              "      <td>0.002</td>\n",
              "      <td>0.005</td>\n",
              "      <td>9.215e-04</td>\n",
              "      <td>0.004</td>\n",
              "      <td>0.002</td>\n",
              "      <td>0.001</td>\n",
              "      <td>0.002</td>\n",
              "      <td>0.002</td>\n",
              "      <td>0.002</td>\n",
              "      <td>9.611e-04</td>\n",
              "      <td>0.004</td>\n",
              "      <td>0.001</td>\n",
              "      <td>0.001</td>\n",
              "      <td>0.004</td>\n",
              "      <td>0.001</td>\n",
              "      <td>0.001</td>\n",
              "      <td>9.005e-04</td>\n",
              "      <td>0.001</td>\n",
              "      <td>0.004</td>\n",
              "      <td>0.004</td>\n",
              "      <td>0.004</td>\n",
              "      <td>0.004</td>\n",
              "      <td>8.338e-04</td>\n",
              "      <td>0.002</td>\n",
              "      <td>0.003</td>\n",
              "      <td>1.068e-07</td>\n",
              "      <td>0.016</td>\n",
              "      <td>0.003</td>\n",
              "      <td>0.004</td>\n",
              "      <td>0.001</td>\n",
              "      <td>0.003</td>\n",
              "      <td>0.007</td>\n",
              "      <td>0.001</td>\n",
              "      <td>0.002</td>\n",
              "      <td>0.004</td>\n",
              "      <td>0.009</td>\n",
              "      <td>0.002</td>\n",
              "      <td>...</td>\n",
              "      <td>8.421e-04</td>\n",
              "      <td>0.009</td>\n",
              "      <td>0.001</td>\n",
              "      <td>0.002</td>\n",
              "      <td>0.002</td>\n",
              "      <td>0.003</td>\n",
              "      <td>0.006</td>\n",
              "      <td>0.003</td>\n",
              "      <td>0.002</td>\n",
              "      <td>0.001</td>\n",
              "      <td>0.002</td>\n",
              "      <td>0.002</td>\n",
              "      <td>0.004</td>\n",
              "      <td>9.942e-04</td>\n",
              "      <td>0.002</td>\n",
              "      <td>0.002</td>\n",
              "      <td>0.007</td>\n",
              "      <td>0.001</td>\n",
              "      <td>0.002</td>\n",
              "      <td>0.001</td>\n",
              "      <td>0.003</td>\n",
              "      <td>0.002</td>\n",
              "      <td>7.628e-04</td>\n",
              "      <td>0.046</td>\n",
              "      <td>0.001</td>\n",
              "      <td>0.001</td>\n",
              "      <td>0.006</td>\n",
              "      <td>0.002</td>\n",
              "      <td>0.002</td>\n",
              "      <td>0.002</td>\n",
              "      <td>0.011</td>\n",
              "      <td>0.001</td>\n",
              "      <td>0.002</td>\n",
              "      <td>0.002</td>\n",
              "      <td>0.001</td>\n",
              "      <td>0.001</td>\n",
              "      <td>0.002</td>\n",
              "      <td>0.005</td>\n",
              "      <td>0.003</td>\n",
              "      <td>0.002</td>\n",
              "    </tr>\n",
              "    <tr>\n",
              "      <th>2016-02-05</th>\n",
              "      <td>0.002</td>\n",
              "      <td>0.005</td>\n",
              "      <td>0.002</td>\n",
              "      <td>0.002</td>\n",
              "      <td>0.005</td>\n",
              "      <td>1.291e-03</td>\n",
              "      <td>0.004</td>\n",
              "      <td>0.002</td>\n",
              "      <td>0.001</td>\n",
              "      <td>0.002</td>\n",
              "      <td>0.002</td>\n",
              "      <td>0.002</td>\n",
              "      <td>9.757e-04</td>\n",
              "      <td>0.005</td>\n",
              "      <td>0.001</td>\n",
              "      <td>0.001</td>\n",
              "      <td>0.004</td>\n",
              "      <td>0.001</td>\n",
              "      <td>0.001</td>\n",
              "      <td>8.928e-04</td>\n",
              "      <td>0.001</td>\n",
              "      <td>0.004</td>\n",
              "      <td>0.004</td>\n",
              "      <td>0.004</td>\n",
              "      <td>0.005</td>\n",
              "      <td>9.120e-04</td>\n",
              "      <td>0.002</td>\n",
              "      <td>0.003</td>\n",
              "      <td>5.338e-08</td>\n",
              "      <td>0.016</td>\n",
              "      <td>0.003</td>\n",
              "      <td>0.004</td>\n",
              "      <td>0.001</td>\n",
              "      <td>0.003</td>\n",
              "      <td>0.007</td>\n",
              "      <td>0.001</td>\n",
              "      <td>0.002</td>\n",
              "      <td>0.004</td>\n",
              "      <td>0.009</td>\n",
              "      <td>0.002</td>\n",
              "      <td>...</td>\n",
              "      <td>8.531e-04</td>\n",
              "      <td>0.009</td>\n",
              "      <td>0.001</td>\n",
              "      <td>0.002</td>\n",
              "      <td>0.002</td>\n",
              "      <td>0.003</td>\n",
              "      <td>0.007</td>\n",
              "      <td>0.003</td>\n",
              "      <td>0.002</td>\n",
              "      <td>0.001</td>\n",
              "      <td>0.002</td>\n",
              "      <td>0.002</td>\n",
              "      <td>0.004</td>\n",
              "      <td>1.012e-03</td>\n",
              "      <td>0.002</td>\n",
              "      <td>0.002</td>\n",
              "      <td>0.007</td>\n",
              "      <td>0.001</td>\n",
              "      <td>0.002</td>\n",
              "      <td>0.001</td>\n",
              "      <td>0.003</td>\n",
              "      <td>0.002</td>\n",
              "      <td>8.016e-04</td>\n",
              "      <td>0.046</td>\n",
              "      <td>0.001</td>\n",
              "      <td>0.001</td>\n",
              "      <td>0.006</td>\n",
              "      <td>0.002</td>\n",
              "      <td>0.002</td>\n",
              "      <td>0.002</td>\n",
              "      <td>0.011</td>\n",
              "      <td>0.002</td>\n",
              "      <td>0.002</td>\n",
              "      <td>0.002</td>\n",
              "      <td>0.002</td>\n",
              "      <td>0.001</td>\n",
              "      <td>0.002</td>\n",
              "      <td>0.005</td>\n",
              "      <td>0.004</td>\n",
              "      <td>0.002</td>\n",
              "    </tr>\n",
              "    <tr>\n",
              "      <th>2016-02-08</th>\n",
              "      <td>0.002</td>\n",
              "      <td>0.005</td>\n",
              "      <td>0.002</td>\n",
              "      <td>0.002</td>\n",
              "      <td>0.006</td>\n",
              "      <td>1.723e-03</td>\n",
              "      <td>0.005</td>\n",
              "      <td>0.002</td>\n",
              "      <td>0.001</td>\n",
              "      <td>0.002</td>\n",
              "      <td>0.002</td>\n",
              "      <td>0.002</td>\n",
              "      <td>9.999e-04</td>\n",
              "      <td>0.005</td>\n",
              "      <td>0.001</td>\n",
              "      <td>0.001</td>\n",
              "      <td>0.004</td>\n",
              "      <td>0.001</td>\n",
              "      <td>0.002</td>\n",
              "      <td>8.772e-04</td>\n",
              "      <td>0.001</td>\n",
              "      <td>0.004</td>\n",
              "      <td>0.004</td>\n",
              "      <td>0.004</td>\n",
              "      <td>0.005</td>\n",
              "      <td>9.706e-04</td>\n",
              "      <td>0.002</td>\n",
              "      <td>0.003</td>\n",
              "      <td>0.000e+00</td>\n",
              "      <td>0.016</td>\n",
              "      <td>0.003</td>\n",
              "      <td>0.004</td>\n",
              "      <td>0.001</td>\n",
              "      <td>0.004</td>\n",
              "      <td>0.007</td>\n",
              "      <td>0.002</td>\n",
              "      <td>0.002</td>\n",
              "      <td>0.004</td>\n",
              "      <td>0.009</td>\n",
              "      <td>0.002</td>\n",
              "      <td>...</td>\n",
              "      <td>8.596e-04</td>\n",
              "      <td>0.009</td>\n",
              "      <td>0.001</td>\n",
              "      <td>0.002</td>\n",
              "      <td>0.002</td>\n",
              "      <td>0.003</td>\n",
              "      <td>0.007</td>\n",
              "      <td>0.003</td>\n",
              "      <td>0.002</td>\n",
              "      <td>0.001</td>\n",
              "      <td>0.002</td>\n",
              "      <td>0.002</td>\n",
              "      <td>0.004</td>\n",
              "      <td>1.014e-03</td>\n",
              "      <td>0.003</td>\n",
              "      <td>0.002</td>\n",
              "      <td>0.008</td>\n",
              "      <td>0.001</td>\n",
              "      <td>0.002</td>\n",
              "      <td>0.001</td>\n",
              "      <td>0.003</td>\n",
              "      <td>0.002</td>\n",
              "      <td>7.984e-04</td>\n",
              "      <td>0.046</td>\n",
              "      <td>0.001</td>\n",
              "      <td>0.001</td>\n",
              "      <td>0.006</td>\n",
              "      <td>0.002</td>\n",
              "      <td>0.002</td>\n",
              "      <td>0.002</td>\n",
              "      <td>0.010</td>\n",
              "      <td>0.002</td>\n",
              "      <td>0.002</td>\n",
              "      <td>0.002</td>\n",
              "      <td>0.002</td>\n",
              "      <td>0.002</td>\n",
              "      <td>0.002</td>\n",
              "      <td>0.005</td>\n",
              "      <td>0.004</td>\n",
              "      <td>0.002</td>\n",
              "    </tr>\n",
              "    <tr>\n",
              "      <th>2016-02-09</th>\n",
              "      <td>0.002</td>\n",
              "      <td>0.005</td>\n",
              "      <td>0.003</td>\n",
              "      <td>0.002</td>\n",
              "      <td>0.006</td>\n",
              "      <td>1.778e-03</td>\n",
              "      <td>0.008</td>\n",
              "      <td>0.002</td>\n",
              "      <td>0.001</td>\n",
              "      <td>0.003</td>\n",
              "      <td>0.002</td>\n",
              "      <td>0.003</td>\n",
              "      <td>1.045e-03</td>\n",
              "      <td>0.005</td>\n",
              "      <td>0.001</td>\n",
              "      <td>0.001</td>\n",
              "      <td>0.004</td>\n",
              "      <td>0.001</td>\n",
              "      <td>0.002</td>\n",
              "      <td>8.718e-04</td>\n",
              "      <td>0.001</td>\n",
              "      <td>0.004</td>\n",
              "      <td>0.004</td>\n",
              "      <td>0.005</td>\n",
              "      <td>0.005</td>\n",
              "      <td>9.823e-04</td>\n",
              "      <td>0.003</td>\n",
              "      <td>0.003</td>\n",
              "      <td>0.000e+00</td>\n",
              "      <td>0.016</td>\n",
              "      <td>0.003</td>\n",
              "      <td>0.004</td>\n",
              "      <td>0.002</td>\n",
              "      <td>0.004</td>\n",
              "      <td>0.007</td>\n",
              "      <td>0.002</td>\n",
              "      <td>0.003</td>\n",
              "      <td>0.005</td>\n",
              "      <td>0.009</td>\n",
              "      <td>0.002</td>\n",
              "      <td>...</td>\n",
              "      <td>8.958e-04</td>\n",
              "      <td>0.009</td>\n",
              "      <td>0.001</td>\n",
              "      <td>0.002</td>\n",
              "      <td>0.002</td>\n",
              "      <td>0.003</td>\n",
              "      <td>0.008</td>\n",
              "      <td>0.003</td>\n",
              "      <td>0.002</td>\n",
              "      <td>0.001</td>\n",
              "      <td>0.002</td>\n",
              "      <td>0.002</td>\n",
              "      <td>0.004</td>\n",
              "      <td>1.028e-03</td>\n",
              "      <td>0.003</td>\n",
              "      <td>0.002</td>\n",
              "      <td>0.008</td>\n",
              "      <td>0.001</td>\n",
              "      <td>0.002</td>\n",
              "      <td>0.001</td>\n",
              "      <td>0.003</td>\n",
              "      <td>0.002</td>\n",
              "      <td>8.058e-04</td>\n",
              "      <td>0.053</td>\n",
              "      <td>0.001</td>\n",
              "      <td>0.001</td>\n",
              "      <td>0.006</td>\n",
              "      <td>0.002</td>\n",
              "      <td>0.002</td>\n",
              "      <td>0.003</td>\n",
              "      <td>0.011</td>\n",
              "      <td>0.002</td>\n",
              "      <td>0.002</td>\n",
              "      <td>0.002</td>\n",
              "      <td>0.002</td>\n",
              "      <td>0.002</td>\n",
              "      <td>0.002</td>\n",
              "      <td>0.005</td>\n",
              "      <td>0.004</td>\n",
              "      <td>0.002</td>\n",
              "    </tr>\n",
              "    <tr>\n",
              "      <th>2016-02-10</th>\n",
              "      <td>0.002</td>\n",
              "      <td>0.005</td>\n",
              "      <td>0.003</td>\n",
              "      <td>0.002</td>\n",
              "      <td>0.006</td>\n",
              "      <td>1.785e-03</td>\n",
              "      <td>0.009</td>\n",
              "      <td>0.002</td>\n",
              "      <td>0.001</td>\n",
              "      <td>0.004</td>\n",
              "      <td>0.002</td>\n",
              "      <td>0.003</td>\n",
              "      <td>1.064e-03</td>\n",
              "      <td>0.006</td>\n",
              "      <td>0.001</td>\n",
              "      <td>0.001</td>\n",
              "      <td>0.004</td>\n",
              "      <td>0.001</td>\n",
              "      <td>0.002</td>\n",
              "      <td>8.644e-04</td>\n",
              "      <td>0.001</td>\n",
              "      <td>0.004</td>\n",
              "      <td>0.004</td>\n",
              "      <td>0.006</td>\n",
              "      <td>0.005</td>\n",
              "      <td>9.731e-04</td>\n",
              "      <td>0.003</td>\n",
              "      <td>0.003</td>\n",
              "      <td>0.000e+00</td>\n",
              "      <td>0.015</td>\n",
              "      <td>0.003</td>\n",
              "      <td>0.004</td>\n",
              "      <td>0.002</td>\n",
              "      <td>0.004</td>\n",
              "      <td>0.007</td>\n",
              "      <td>0.002</td>\n",
              "      <td>0.003</td>\n",
              "      <td>0.005</td>\n",
              "      <td>0.009</td>\n",
              "      <td>0.002</td>\n",
              "      <td>...</td>\n",
              "      <td>9.455e-04</td>\n",
              "      <td>0.010</td>\n",
              "      <td>0.001</td>\n",
              "      <td>0.002</td>\n",
              "      <td>0.002</td>\n",
              "      <td>0.003</td>\n",
              "      <td>0.008</td>\n",
              "      <td>0.004</td>\n",
              "      <td>0.002</td>\n",
              "      <td>0.002</td>\n",
              "      <td>0.002</td>\n",
              "      <td>0.002</td>\n",
              "      <td>0.004</td>\n",
              "      <td>1.043e-03</td>\n",
              "      <td>0.003</td>\n",
              "      <td>0.002</td>\n",
              "      <td>0.009</td>\n",
              "      <td>0.001</td>\n",
              "      <td>0.003</td>\n",
              "      <td>0.001</td>\n",
              "      <td>0.003</td>\n",
              "      <td>0.002</td>\n",
              "      <td>8.420e-04</td>\n",
              "      <td>0.059</td>\n",
              "      <td>0.001</td>\n",
              "      <td>0.001</td>\n",
              "      <td>0.006</td>\n",
              "      <td>0.002</td>\n",
              "      <td>0.002</td>\n",
              "      <td>0.003</td>\n",
              "      <td>0.010</td>\n",
              "      <td>0.002</td>\n",
              "      <td>0.002</td>\n",
              "      <td>0.002</td>\n",
              "      <td>0.002</td>\n",
              "      <td>0.002</td>\n",
              "      <td>0.002</td>\n",
              "      <td>0.005</td>\n",
              "      <td>0.004</td>\n",
              "      <td>0.002</td>\n",
              "    </tr>\n",
              "  </tbody>\n",
              "</table>\n",
              "<p>5 rows × 472 columns</p>\n",
              "</div>"
            ],
            "text/plain": [
              "                A    AAL    AAP   AAPL  ...    ZBH   ZBRA   ZION    ZTS\n",
              "date                                    ...                            \n",
              "2016-02-04  0.002  0.005  0.003  0.002  ...  0.002  0.005  0.003  0.002\n",
              "2016-02-05  0.002  0.005  0.002  0.002  ...  0.002  0.005  0.004  0.002\n",
              "2016-02-08  0.002  0.005  0.002  0.002  ...  0.002  0.005  0.004  0.002\n",
              "2016-02-09  0.002  0.005  0.003  0.002  ...  0.002  0.005  0.004  0.002\n",
              "2016-02-10  0.002  0.005  0.003  0.002  ...  0.002  0.005  0.004  0.002\n",
              "\n",
              "[5 rows x 472 columns]"
            ]
          },
          "metadata": {
            "tags": []
          },
          "execution_count": 38
        }
      ]
    },
    {
      "cell_type": "code",
      "metadata": {
        "id": "dSsi35J1_sMI"
      },
      "source": [
        "gamma_df = pd.DataFrame(index=raw_inpairs_high.index, columns =data.columns)\n",
        "\n",
        "for t in range(1, len(gamma_df.index)):\n",
        "    gamma_df.iloc[t] = np.log(np.maximum(raw_inpairs_adj_high.iloc[t-1],raw_inpairs_adj_high.iloc[t])\\\n",
        "                         /np.maximum(raw_inpairs_adj_low.iloc[t-1],raw_inpairs_adj_low.iloc[t]))**2\n",
        "\n",
        "gamma_df = gamma_df[SHIFT:]\n",
        "gamma_df.fillna(method='ffill')\n",
        "gamma_df = gamma_df.apply(pd.to_numeric)\n"
      ],
      "execution_count": null,
      "outputs": []
    },
    {
      "cell_type": "code",
      "metadata": {
        "id": "NkfRZ0U-_sJo"
      },
      "source": [
        "alpha_df = pd.DataFrame(index=gamma_df.index, columns = data.columns)\n",
        "alpha_df = (np.sqrt(2*beta_df)-np.sqrt(beta_df))/(3-2*np.sqrt(2)) - np.sqrt(gamma_df/(3-2*np.sqrt(2)))\n",
        "alpha_df.fillna(method='ffill')\n",
        "alpha_df = alpha_df.apply(pd.to_numeric)\n"
      ],
      "execution_count": null,
      "outputs": []
    },
    {
      "cell_type": "code",
      "metadata": {
        "colab": {
          "base_uri": "https://localhost:8080/",
          "height": 369
        },
        "id": "4RLiXJn9DRuC",
        "outputId": "0533f66c-a387-426f-b12c-082d18e7eedc"
      },
      "source": [
        "spreads_df = pd.DataFrame(index=alpha_df.index, columns =  data.columns)\n",
        "\n",
        "\n",
        "spreads_df = 2*(np.exp(alpha_df) - 1)/(1+np.exp(alpha_df))\n",
        "spreads_df[spreads_df < 0] = 0\n",
        "spreads_df.head(5)"
      ],
      "execution_count": null,
      "outputs": [
        {
          "output_type": "execute_result",
          "data": {
            "text/html": [
              "<div>\n",
              "<style scoped>\n",
              "    .dataframe tbody tr th:only-of-type {\n",
              "        vertical-align: middle;\n",
              "    }\n",
              "\n",
              "    .dataframe tbody tr th {\n",
              "        vertical-align: top;\n",
              "    }\n",
              "\n",
              "    .dataframe thead th {\n",
              "        text-align: right;\n",
              "    }\n",
              "</style>\n",
              "<table border=\"1\" class=\"dataframe\">\n",
              "  <thead>\n",
              "    <tr style=\"text-align: right;\">\n",
              "      <th></th>\n",
              "      <th>A</th>\n",
              "      <th>AAL</th>\n",
              "      <th>AAP</th>\n",
              "      <th>AAPL</th>\n",
              "      <th>ABBV</th>\n",
              "      <th>ABC</th>\n",
              "      <th>ABMD</th>\n",
              "      <th>ABT</th>\n",
              "      <th>ACN</th>\n",
              "      <th>ADBE</th>\n",
              "      <th>ADI</th>\n",
              "      <th>ADM</th>\n",
              "      <th>ADP</th>\n",
              "      <th>ADSK</th>\n",
              "      <th>AEE</th>\n",
              "      <th>AEP</th>\n",
              "      <th>AES</th>\n",
              "      <th>AFL</th>\n",
              "      <th>AIG</th>\n",
              "      <th>AIZ</th>\n",
              "      <th>AJG</th>\n",
              "      <th>AKAM</th>\n",
              "      <th>ALB</th>\n",
              "      <th>ALGN</th>\n",
              "      <th>ALK</th>\n",
              "      <th>ALL</th>\n",
              "      <th>ALLE</th>\n",
              "      <th>AMAT</th>\n",
              "      <th>AMCR</th>\n",
              "      <th>AMD</th>\n",
              "      <th>AMGN</th>\n",
              "      <th>AMP</th>\n",
              "      <th>AMT</th>\n",
              "      <th>AMZN</th>\n",
              "      <th>ANET</th>\n",
              "      <th>ANSS</th>\n",
              "      <th>ANTM</th>\n",
              "      <th>AOS</th>\n",
              "      <th>APA</th>\n",
              "      <th>APD</th>\n",
              "      <th>...</th>\n",
              "      <th>UPS</th>\n",
              "      <th>URI</th>\n",
              "      <th>USB</th>\n",
              "      <th>V</th>\n",
              "      <th>VFC</th>\n",
              "      <th>VIAC</th>\n",
              "      <th>VLO</th>\n",
              "      <th>VMC</th>\n",
              "      <th>VNO</th>\n",
              "      <th>VRSK</th>\n",
              "      <th>VRSN</th>\n",
              "      <th>VTR</th>\n",
              "      <th>VTRS</th>\n",
              "      <th>VZ</th>\n",
              "      <th>WAB</th>\n",
              "      <th>WAT</th>\n",
              "      <th>WDC</th>\n",
              "      <th>WEC</th>\n",
              "      <th>WELL</th>\n",
              "      <th>WFC</th>\n",
              "      <th>WHR</th>\n",
              "      <th>WLTW</th>\n",
              "      <th>WM</th>\n",
              "      <th>WMB</th>\n",
              "      <th>WMT</th>\n",
              "      <th>WRB</th>\n",
              "      <th>WRK</th>\n",
              "      <th>WST</th>\n",
              "      <th>WU</th>\n",
              "      <th>WY</th>\n",
              "      <th>WYNN</th>\n",
              "      <th>XEL</th>\n",
              "      <th>XLNX</th>\n",
              "      <th>XOM</th>\n",
              "      <th>XYL</th>\n",
              "      <th>YUM</th>\n",
              "      <th>ZBH</th>\n",
              "      <th>ZBRA</th>\n",
              "      <th>ZION</th>\n",
              "      <th>ZTS</th>\n",
              "    </tr>\n",
              "    <tr>\n",
              "      <th>date</th>\n",
              "      <th></th>\n",
              "      <th></th>\n",
              "      <th></th>\n",
              "      <th></th>\n",
              "      <th></th>\n",
              "      <th></th>\n",
              "      <th></th>\n",
              "      <th></th>\n",
              "      <th></th>\n",
              "      <th></th>\n",
              "      <th></th>\n",
              "      <th></th>\n",
              "      <th></th>\n",
              "      <th></th>\n",
              "      <th></th>\n",
              "      <th></th>\n",
              "      <th></th>\n",
              "      <th></th>\n",
              "      <th></th>\n",
              "      <th></th>\n",
              "      <th></th>\n",
              "      <th></th>\n",
              "      <th></th>\n",
              "      <th></th>\n",
              "      <th></th>\n",
              "      <th></th>\n",
              "      <th></th>\n",
              "      <th></th>\n",
              "      <th></th>\n",
              "      <th></th>\n",
              "      <th></th>\n",
              "      <th></th>\n",
              "      <th></th>\n",
              "      <th></th>\n",
              "      <th></th>\n",
              "      <th></th>\n",
              "      <th></th>\n",
              "      <th></th>\n",
              "      <th></th>\n",
              "      <th></th>\n",
              "      <th></th>\n",
              "      <th></th>\n",
              "      <th></th>\n",
              "      <th></th>\n",
              "      <th></th>\n",
              "      <th></th>\n",
              "      <th></th>\n",
              "      <th></th>\n",
              "      <th></th>\n",
              "      <th></th>\n",
              "      <th></th>\n",
              "      <th></th>\n",
              "      <th></th>\n",
              "      <th></th>\n",
              "      <th></th>\n",
              "      <th></th>\n",
              "      <th></th>\n",
              "      <th></th>\n",
              "      <th></th>\n",
              "      <th></th>\n",
              "      <th></th>\n",
              "      <th></th>\n",
              "      <th></th>\n",
              "      <th></th>\n",
              "      <th></th>\n",
              "      <th></th>\n",
              "      <th></th>\n",
              "      <th></th>\n",
              "      <th></th>\n",
              "      <th></th>\n",
              "      <th></th>\n",
              "      <th></th>\n",
              "      <th></th>\n",
              "      <th></th>\n",
              "      <th></th>\n",
              "      <th></th>\n",
              "      <th></th>\n",
              "      <th></th>\n",
              "      <th></th>\n",
              "      <th></th>\n",
              "      <th></th>\n",
              "    </tr>\n",
              "  </thead>\n",
              "  <tbody>\n",
              "    <tr>\n",
              "      <th>2016-02-04</th>\n",
              "      <td>0.048</td>\n",
              "      <td>0.043</td>\n",
              "      <td>0.009</td>\n",
              "      <td>0.051</td>\n",
              "      <td>0.092</td>\n",
              "      <td>0.027</td>\n",
              "      <td>0.067</td>\n",
              "      <td>0.055</td>\n",
              "      <td>0.002</td>\n",
              "      <td>0.033</td>\n",
              "      <td>0.051</td>\n",
              "      <td>0.020</td>\n",
              "      <td>0.025</td>\n",
              "      <td>0.047</td>\n",
              "      <td>0.019</td>\n",
              "      <td>0.025</td>\n",
              "      <td>0.045</td>\n",
              "      <td>0.006</td>\n",
              "      <td>0.013</td>\n",
              "      <td>0.019</td>\n",
              "      <td>0.032</td>\n",
              "      <td>0.074</td>\n",
              "      <td>0.014</td>\n",
              "      <td>0.109</td>\n",
              "      <td>8.824e-02</td>\n",
              "      <td>0.000</td>\n",
              "      <td>0.039</td>\n",
              "      <td>0.063</td>\n",
              "      <td>7.888e-04</td>\n",
              "      <td>0.148</td>\n",
              "      <td>0.079</td>\n",
              "      <td>0.096</td>\n",
              "      <td>0.041</td>\n",
              "      <td>0.000</td>\n",
              "      <td>0.131</td>\n",
              "      <td>0.036</td>\n",
              "      <td>0.035</td>\n",
              "      <td>0.073</td>\n",
              "      <td>0.034</td>\n",
              "      <td>2.494e-02</td>\n",
              "      <td>...</td>\n",
              "      <td>0.024</td>\n",
              "      <td>0.075</td>\n",
              "      <td>0.026</td>\n",
              "      <td>0.039</td>\n",
              "      <td>0.036</td>\n",
              "      <td>0.003</td>\n",
              "      <td>0.000</td>\n",
              "      <td>0.035</td>\n",
              "      <td>0.034</td>\n",
              "      <td>0.000</td>\n",
              "      <td>0.015</td>\n",
              "      <td>0.042</td>\n",
              "      <td>0.056</td>\n",
              "      <td>0.030</td>\n",
              "      <td>0.000</td>\n",
              "      <td>0.049</td>\n",
              "      <td>0.041</td>\n",
              "      <td>0.035</td>\n",
              "      <td>0.070</td>\n",
              "      <td>0.021</td>\n",
              "      <td>0.068</td>\n",
              "      <td>0.070</td>\n",
              "      <td>0.029</td>\n",
              "      <td>0.326</td>\n",
              "      <td>0.000</td>\n",
              "      <td>0.032</td>\n",
              "      <td>0.077</td>\n",
              "      <td>0.039</td>\n",
              "      <td>0.034</td>\n",
              "      <td>0.048</td>\n",
              "      <td>0.089</td>\n",
              "      <td>0.048</td>\n",
              "      <td>0.059</td>\n",
              "      <td>0.036</td>\n",
              "      <td>0.000</td>\n",
              "      <td>0.030</td>\n",
              "      <td>0.059</td>\n",
              "      <td>0.029</td>\n",
              "      <td>0.039</td>\n",
              "      <td>0.051</td>\n",
              "    </tr>\n",
              "    <tr>\n",
              "      <th>2016-02-05</th>\n",
              "      <td>0.049</td>\n",
              "      <td>0.045</td>\n",
              "      <td>0.072</td>\n",
              "      <td>0.050</td>\n",
              "      <td>0.094</td>\n",
              "      <td>0.000</td>\n",
              "      <td>0.000</td>\n",
              "      <td>0.059</td>\n",
              "      <td>0.043</td>\n",
              "      <td>0.044</td>\n",
              "      <td>0.052</td>\n",
              "      <td>0.064</td>\n",
              "      <td>0.033</td>\n",
              "      <td>0.060</td>\n",
              "      <td>0.019</td>\n",
              "      <td>0.031</td>\n",
              "      <td>0.047</td>\n",
              "      <td>0.053</td>\n",
              "      <td>0.044</td>\n",
              "      <td>0.027</td>\n",
              "      <td>0.043</td>\n",
              "      <td>0.076</td>\n",
              "      <td>0.017</td>\n",
              "      <td>0.110</td>\n",
              "      <td>8.895e-02</td>\n",
              "      <td>0.018</td>\n",
              "      <td>0.040</td>\n",
              "      <td>0.065</td>\n",
              "      <td>5.578e-04</td>\n",
              "      <td>0.149</td>\n",
              "      <td>0.079</td>\n",
              "      <td>0.098</td>\n",
              "      <td>0.043</td>\n",
              "      <td>0.051</td>\n",
              "      <td>0.133</td>\n",
              "      <td>0.036</td>\n",
              "      <td>0.028</td>\n",
              "      <td>0.076</td>\n",
              "      <td>0.041</td>\n",
              "      <td>6.159e-02</td>\n",
              "      <td>...</td>\n",
              "      <td>0.025</td>\n",
              "      <td>0.080</td>\n",
              "      <td>0.055</td>\n",
              "      <td>0.041</td>\n",
              "      <td>0.015</td>\n",
              "      <td>0.006</td>\n",
              "      <td>0.095</td>\n",
              "      <td>0.027</td>\n",
              "      <td>0.033</td>\n",
              "      <td>0.049</td>\n",
              "      <td>0.025</td>\n",
              "      <td>0.060</td>\n",
              "      <td>0.060</td>\n",
              "      <td>0.034</td>\n",
              "      <td>0.000</td>\n",
              "      <td>0.049</td>\n",
              "      <td>0.044</td>\n",
              "      <td>0.034</td>\n",
              "      <td>0.069</td>\n",
              "      <td>0.033</td>\n",
              "      <td>0.055</td>\n",
              "      <td>0.067</td>\n",
              "      <td>0.031</td>\n",
              "      <td>0.345</td>\n",
              "      <td>0.027</td>\n",
              "      <td>0.046</td>\n",
              "      <td>0.071</td>\n",
              "      <td>0.048</td>\n",
              "      <td>0.039</td>\n",
              "      <td>0.050</td>\n",
              "      <td>0.096</td>\n",
              "      <td>0.049</td>\n",
              "      <td>0.060</td>\n",
              "      <td>0.069</td>\n",
              "      <td>0.000</td>\n",
              "      <td>0.000</td>\n",
              "      <td>0.066</td>\n",
              "      <td>0.033</td>\n",
              "      <td>0.042</td>\n",
              "      <td>0.055</td>\n",
              "    </tr>\n",
              "    <tr>\n",
              "      <th>2016-02-08</th>\n",
              "      <td>0.006</td>\n",
              "      <td>0.043</td>\n",
              "      <td>0.045</td>\n",
              "      <td>0.022</td>\n",
              "      <td>0.017</td>\n",
              "      <td>0.003</td>\n",
              "      <td>0.000</td>\n",
              "      <td>0.034</td>\n",
              "      <td>0.000</td>\n",
              "      <td>0.000</td>\n",
              "      <td>0.005</td>\n",
              "      <td>0.063</td>\n",
              "      <td>0.016</td>\n",
              "      <td>0.000</td>\n",
              "      <td>0.005</td>\n",
              "      <td>0.014</td>\n",
              "      <td>0.042</td>\n",
              "      <td>0.053</td>\n",
              "      <td>0.025</td>\n",
              "      <td>0.031</td>\n",
              "      <td>0.051</td>\n",
              "      <td>0.080</td>\n",
              "      <td>0.064</td>\n",
              "      <td>0.075</td>\n",
              "      <td>0.000e+00</td>\n",
              "      <td>0.030</td>\n",
              "      <td>0.000</td>\n",
              "      <td>0.019</td>\n",
              "      <td>0.000e+00</td>\n",
              "      <td>0.188</td>\n",
              "      <td>0.037</td>\n",
              "      <td>0.055</td>\n",
              "      <td>0.028</td>\n",
              "      <td>0.002</td>\n",
              "      <td>0.076</td>\n",
              "      <td>0.000</td>\n",
              "      <td>0.037</td>\n",
              "      <td>0.043</td>\n",
              "      <td>0.116</td>\n",
              "      <td>6.330e-02</td>\n",
              "      <td>...</td>\n",
              "      <td>0.012</td>\n",
              "      <td>0.107</td>\n",
              "      <td>0.055</td>\n",
              "      <td>0.002</td>\n",
              "      <td>0.032</td>\n",
              "      <td>0.005</td>\n",
              "      <td>0.006</td>\n",
              "      <td>0.030</td>\n",
              "      <td>0.039</td>\n",
              "      <td>0.033</td>\n",
              "      <td>0.027</td>\n",
              "      <td>0.060</td>\n",
              "      <td>0.065</td>\n",
              "      <td>0.035</td>\n",
              "      <td>0.016</td>\n",
              "      <td>0.047</td>\n",
              "      <td>0.030</td>\n",
              "      <td>0.016</td>\n",
              "      <td>0.060</td>\n",
              "      <td>0.034</td>\n",
              "      <td>0.055</td>\n",
              "      <td>0.000</td>\n",
              "      <td>0.027</td>\n",
              "      <td>0.297</td>\n",
              "      <td>0.028</td>\n",
              "      <td>0.041</td>\n",
              "      <td>0.074</td>\n",
              "      <td>0.028</td>\n",
              "      <td>0.040</td>\n",
              "      <td>0.000</td>\n",
              "      <td>0.138</td>\n",
              "      <td>0.017</td>\n",
              "      <td>0.047</td>\n",
              "      <td>0.030</td>\n",
              "      <td>0.025</td>\n",
              "      <td>0.000</td>\n",
              "      <td>0.060</td>\n",
              "      <td>0.016</td>\n",
              "      <td>0.056</td>\n",
              "      <td>0.062</td>\n",
              "    </tr>\n",
              "    <tr>\n",
              "      <th>2016-02-09</th>\n",
              "      <td>0.010</td>\n",
              "      <td>0.045</td>\n",
              "      <td>0.044</td>\n",
              "      <td>0.053</td>\n",
              "      <td>0.093</td>\n",
              "      <td>0.035</td>\n",
              "      <td>0.000</td>\n",
              "      <td>0.055</td>\n",
              "      <td>0.002</td>\n",
              "      <td>0.000</td>\n",
              "      <td>0.039</td>\n",
              "      <td>0.002</td>\n",
              "      <td>0.034</td>\n",
              "      <td>0.000</td>\n",
              "      <td>0.022</td>\n",
              "      <td>0.040</td>\n",
              "      <td>0.052</td>\n",
              "      <td>0.033</td>\n",
              "      <td>0.047</td>\n",
              "      <td>0.013</td>\n",
              "      <td>0.050</td>\n",
              "      <td>0.000</td>\n",
              "      <td>0.020</td>\n",
              "      <td>0.000</td>\n",
              "      <td>6.510e-04</td>\n",
              "      <td>0.034</td>\n",
              "      <td>0.007</td>\n",
              "      <td>0.031</td>\n",
              "      <td>0.000e+00</td>\n",
              "      <td>0.140</td>\n",
              "      <td>0.052</td>\n",
              "      <td>0.073</td>\n",
              "      <td>0.000</td>\n",
              "      <td>0.031</td>\n",
              "      <td>0.000</td>\n",
              "      <td>0.000</td>\n",
              "      <td>0.000</td>\n",
              "      <td>0.060</td>\n",
              "      <td>0.128</td>\n",
              "      <td>6.940e-04</td>\n",
              "      <td>...</td>\n",
              "      <td>0.008</td>\n",
              "      <td>0.099</td>\n",
              "      <td>0.027</td>\n",
              "      <td>0.000</td>\n",
              "      <td>0.034</td>\n",
              "      <td>0.004</td>\n",
              "      <td>0.099</td>\n",
              "      <td>0.000</td>\n",
              "      <td>0.000</td>\n",
              "      <td>0.000</td>\n",
              "      <td>0.000</td>\n",
              "      <td>0.000</td>\n",
              "      <td>0.050</td>\n",
              "      <td>0.028</td>\n",
              "      <td>0.072</td>\n",
              "      <td>0.000</td>\n",
              "      <td>0.000</td>\n",
              "      <td>0.038</td>\n",
              "      <td>0.000</td>\n",
              "      <td>0.022</td>\n",
              "      <td>0.048</td>\n",
              "      <td>0.057</td>\n",
              "      <td>0.006</td>\n",
              "      <td>0.000</td>\n",
              "      <td>0.014</td>\n",
              "      <td>0.038</td>\n",
              "      <td>0.069</td>\n",
              "      <td>0.042</td>\n",
              "      <td>0.021</td>\n",
              "      <td>0.027</td>\n",
              "      <td>0.068</td>\n",
              "      <td>0.029</td>\n",
              "      <td>0.060</td>\n",
              "      <td>0.031</td>\n",
              "      <td>0.019</td>\n",
              "      <td>0.032</td>\n",
              "      <td>0.000</td>\n",
              "      <td>0.048</td>\n",
              "      <td>0.009</td>\n",
              "      <td>0.032</td>\n",
              "    </tr>\n",
              "    <tr>\n",
              "      <th>2016-02-10</th>\n",
              "      <td>0.027</td>\n",
              "      <td>0.098</td>\n",
              "      <td>0.045</td>\n",
              "      <td>0.046</td>\n",
              "      <td>0.089</td>\n",
              "      <td>0.032</td>\n",
              "      <td>0.151</td>\n",
              "      <td>0.045</td>\n",
              "      <td>0.048</td>\n",
              "      <td>0.027</td>\n",
              "      <td>0.053</td>\n",
              "      <td>0.059</td>\n",
              "      <td>0.020</td>\n",
              "      <td>0.090</td>\n",
              "      <td>0.046</td>\n",
              "      <td>0.028</td>\n",
              "      <td>0.052</td>\n",
              "      <td>0.029</td>\n",
              "      <td>0.047</td>\n",
              "      <td>0.006</td>\n",
              "      <td>0.051</td>\n",
              "      <td>0.033</td>\n",
              "      <td>0.082</td>\n",
              "      <td>0.024</td>\n",
              "      <td>1.716e-04</td>\n",
              "      <td>0.035</td>\n",
              "      <td>0.036</td>\n",
              "      <td>0.076</td>\n",
              "      <td>0.000e+00</td>\n",
              "      <td>0.105</td>\n",
              "      <td>0.081</td>\n",
              "      <td>0.087</td>\n",
              "      <td>0.048</td>\n",
              "      <td>0.057</td>\n",
              "      <td>0.099</td>\n",
              "      <td>0.021</td>\n",
              "      <td>0.061</td>\n",
              "      <td>0.105</td>\n",
              "      <td>0.081</td>\n",
              "      <td>2.146e-02</td>\n",
              "      <td>...</td>\n",
              "      <td>0.010</td>\n",
              "      <td>0.125</td>\n",
              "      <td>0.016</td>\n",
              "      <td>0.048</td>\n",
              "      <td>0.063</td>\n",
              "      <td>0.049</td>\n",
              "      <td>0.105</td>\n",
              "      <td>0.059</td>\n",
              "      <td>0.030</td>\n",
              "      <td>0.019</td>\n",
              "      <td>0.046</td>\n",
              "      <td>0.000</td>\n",
              "      <td>0.034</td>\n",
              "      <td>0.030</td>\n",
              "      <td>0.000</td>\n",
              "      <td>0.012</td>\n",
              "      <td>0.093</td>\n",
              "      <td>0.049</td>\n",
              "      <td>0.000</td>\n",
              "      <td>0.032</td>\n",
              "      <td>0.059</td>\n",
              "      <td>0.063</td>\n",
              "      <td>0.033</td>\n",
              "      <td>0.106</td>\n",
              "      <td>0.052</td>\n",
              "      <td>0.048</td>\n",
              "      <td>0.074</td>\n",
              "      <td>0.035</td>\n",
              "      <td>0.023</td>\n",
              "      <td>0.038</td>\n",
              "      <td>0.117</td>\n",
              "      <td>0.056</td>\n",
              "      <td>0.059</td>\n",
              "      <td>0.053</td>\n",
              "      <td>0.060</td>\n",
              "      <td>0.043</td>\n",
              "      <td>0.047</td>\n",
              "      <td>0.008</td>\n",
              "      <td>0.071</td>\n",
              "      <td>0.019</td>\n",
              "    </tr>\n",
              "  </tbody>\n",
              "</table>\n",
              "<p>5 rows × 472 columns</p>\n",
              "</div>"
            ],
            "text/plain": [
              "                A    AAL    AAP   AAPL  ...    ZBH   ZBRA   ZION    ZTS\n",
              "date                                    ...                            \n",
              "2016-02-04  0.048  0.043  0.009  0.051  ...  0.059  0.029  0.039  0.051\n",
              "2016-02-05  0.049  0.045  0.072  0.050  ...  0.066  0.033  0.042  0.055\n",
              "2016-02-08  0.006  0.043  0.045  0.022  ...  0.060  0.016  0.056  0.062\n",
              "2016-02-09  0.010  0.045  0.044  0.053  ...  0.000  0.048  0.009  0.032\n",
              "2016-02-10  0.027  0.098  0.045  0.046  ...  0.047  0.008  0.071  0.019\n",
              "\n",
              "[5 rows x 472 columns]"
            ]
          },
          "metadata": {
            "tags": []
          },
          "execution_count": 41
        }
      ]
    },
    {
      "cell_type": "markdown",
      "metadata": {
        "id": "bStY5XHNmab2"
      },
      "source": [
        "# Pairs Trading class and tuning\n"
      ]
    },
    {
      "cell_type": "markdown",
      "metadata": {
        "id": "FPm8vCkPvA25"
      },
      "source": [
        "## Class \n",
        "\n",
        "Now that we have estimates for the bid-ask spreads, we can wrap our strategy in a class. We will also add fixed rate transaction costs and will preiodically test if the stocks are still cointegrated."
      ]
    },
    {
      "cell_type": "code",
      "metadata": {
        "id": "A9fg7aI-uH83"
      },
      "source": [
        "class PairsTrading:\n",
        "  def __init__(self, data, spread_df = None, transaction_cost_pct = 0, significance  = 0.03,\n",
        "                retest_coint_period = None, LOOKBACK_PERIOD=21, \n",
        "                FLOOR=-1, CEIL = 1, EXIT = 2.2, interest_rate=0.0008, MAX_PERCENTAGE_LOSS=50):\n",
        "      self.data = data\n",
        "      self.spread_df = spread_df\n",
        "      self.LOOKBACK_PERIOD = LOOKBACK_PERIOD\n",
        "      self.FLOOR = FLOOR\n",
        "      self.CEIL = CEIL\n",
        "      self.EXIT = EXIT\n",
        "      self.significance = significance\n",
        "      self.transaction_cost_pct = transaction_cost_pct\n",
        "      self.retest_coint_period = retest_coint_period\n",
        "      self.spreads = spread_df is not None\n",
        "      self.retest = retest_coint_period is not None\n",
        "      self.interest_rate = interest_rate\n",
        "      self.MAX_PERCENTAGE_LOSS = MAX_PERCENTAGE_LOSS\n",
        "  \n",
        "  def test_coint_pairs(self, ticker_a, ticker_b, start, end):\n",
        "      '''Tests if the stocks are still cointegraated'''\n",
        "      data = self.data\n",
        "      t1 = data[ticker_a].iloc[start:end]            \n",
        "      t2 = data[ticker_b].iloc[start:end]\n",
        "      t1 = t1.fillna(method = 'ffill')\n",
        "      t2 = t2.fillna(method = 'ffill')\n",
        "      score, pval, _ = coint(t1, t2)\n",
        "      if pval < self.significance:\n",
        "          return True\n",
        "      return False\n",
        "  \n",
        "  def compute_returns(self, investment, ticker_a, ticker_b, plot = True, return_portfolio=False):\n",
        "      data = self.data\n",
        "      spreads_data = self.spread_df\n",
        "      df = self.long_short_strat(ticker_a, ticker_b)\n",
        "      portfolio = pd.DataFrame(index = df.index)\n",
        "      portfolio['Positions'] = df['In Long'] - df['In Short']\n",
        "      \n",
        "      \n",
        "      if self.spreads:\n",
        "          sx = spreads_data.loc[data.index][ticker_a]\n",
        "          sy = spreads_data.loc[data.index][ticker_b]\n",
        "          df['sx'] = sx.values\n",
        "          df['sy'] = sy.values\n",
        "          portfolio['X'] = -1.0 * df['X'] * portfolio['Positions'] * (1 + portfolio['Positions']*df['sx']/2)\n",
        "          portfolio['Y'] = df['Y'] * portfolio['Positions'] * (1 + (-1)*portfolio['Positions']*df['sy']/2)\n",
        "      else:\n",
        "          portfolio['Positions'] = df['In Long'] - df['In Short'] \n",
        "          portfolio['X'] = -1.0 * df['X'] * portfolio['Positions']\n",
        "          portfolio['Y'] = df['Y'] * portfolio['Positions']\n",
        "      \n",
        "      portfolio['Total']= portfolio['X'] + portfolio['Y']\\\n",
        "                              - self.transaction_cost_pct*(portfolio['X']+portfolio['Y'])\n",
        "      \n",
        "      # Show percentage returns\n",
        "      portfolio['Returns']= portfolio['Total'].pct_change()\n",
        "      portfolio['Returns'].fillna(0.0, inplace = True)\n",
        "      portfolio['Returns'].replace([np.inf, -np.inf], 0.0, inplace = True)\n",
        "      portfolio['Returns'].replace(-1.0, 0.0, inplace = True)\n",
        "      \n",
        "\n",
        "      # Computing relevant statistics\n",
        "      mu = portfolio['Returns'].mean()\n",
        "      sigma = portfolio['Returns'].std()\n",
        "      # Sharpe Ratio Annualized (250 trading days)\n",
        "      sharpe = np.sqrt(250)*(mu- self.interest_rate)/sigma\n",
        "\n",
        "        \n",
        "\n",
        "      # Equity curve\n",
        "      portfolio['Returns'] = (1.0 + portfolio['Returns']).cumprod() \n",
        "      loss_indices = portfolio[portfolio['Returns'] <= self.MAX_PERCENTAGE_LOSS/100].index\n",
        "      if loss_indices.any():\n",
        "        terminate_after = min(loss_indices)\n",
        "        portfolio.at[terminate_after:, 'Returns'] = self.MAX_PERCENTAGE_LOSS/100\n",
        "        new_mu = portfolio['Returns'].mean()\n",
        "        new_sigma = portfolio['Returns'].std()\n",
        "        sharpe = np.sqrt(250)*((new_mu- INTEREST_RATE)/new_sigma)\n",
        "\n",
        "    \n",
        "      portfolio['Trade Returns'] = portfolio['Total'].pct_change()\n",
        "      portfolio['Portfolio Value'] = investment*portfolio['Returns']\n",
        "      portfolio['Portfolio Returns'] = portfolio['Portfolio Value'].pct_change()\n",
        "      portfolio['Initial Value'] = investment\n",
        "      returns_to_date = ((portfolio['Portfolio Value'][-1] - investment)/investment)*100\n",
        "      \n",
        "      if plot:\n",
        "          with plt.style.context(['bmh', 'seaborn-paper']):\n",
        "              plt.plot(portfolio['Portfolio Value'])\n",
        "              plt.plot(portfolio['Initial Value'])\n",
        "              plt.xticks([])\n",
        "              plt.title(\"Pair ({},{}), Profit to Date: {}%, Sharpe Ratio: {}\".format(\n",
        "                        ticker_a,\n",
        "                        ticker_b,\n",
        "                        np.around(returns_to_date, 2),\n",
        "                        np.around(sharpe, 2)\n",
        "                        ))\n",
        "              plt.show()\n",
        "      if return_portfolio:\n",
        "          return returns_to_date, sharpe, portfolio\n",
        "      else:\n",
        "          return returns_to_date, sharpe\n",
        "\n",
        "\n",
        "  def create_spread(self, ticker_a, ticker_b):\n",
        "      data = self.data\n",
        "      df1 = data[ticker_a]\n",
        "      df2 = data[ticker_b]\n",
        "      df = pd.DataFrame(index = df1.index)\n",
        "      df['X'] = df1\n",
        "      df['Y'] = df2\n",
        "      # computing the hedge ratio (beta of the strategy)\n",
        "      df['cov'] = df.rolling(LOOKBACK_PERIOD).cov().unstack()['X']['Y']\n",
        "      df['var'] = df['Y'].rolling(LOOKBACK_PERIOD).var()\n",
        "      df['Hedge ratio'] = df['cov']/df['var']\n",
        "      \n",
        "      # column with spread\n",
        "      df['Spread'] = df['X'] - df['Hedge ratio']*df['Y']\n",
        "      return df\n",
        "  \n",
        "  def long_short_strat(self, ticker_a, ticker_b):\n",
        "      data = self.data\n",
        "      df = self.create_spread(ticker_a, ticker_b)\n",
        "      df['Z-score'] = (df['Spread'] - df['Spread'].rolling(self.LOOKBACK_PERIOD).mean())\\\n",
        "                      /(df['Spread'].rolling(self.LOOKBACK_PERIOD).std())\n",
        "      \n",
        "      # Buy vs Sell signals\n",
        "      df['Long'] =  (df['Z-score'] < self.FLOOR)*1\n",
        "      df['Short']= (df['Z-score'] > self.CEIL)*1\n",
        "      df['Exit'] = (np.abs(df['Z-score'])> self.EXIT)*1\n",
        "      \n",
        "      \n",
        "      # Test if stocks are still cointegrated\n",
        "      coint_test = pd.DataFrame(index=df.index)\n",
        "      if self.retest:\n",
        "          for ix in range(len(df)-self.retest_coint_period):\n",
        "              still_coint = self.test_coint_pairs(ticker_a, \n",
        "                                                  ticker_b, \n",
        "                                                  ix, \n",
        "                                                  ix+self.retest_coint_period)\n",
        "              \n",
        "              coint_test.iloc[ix:ix+self.retest_coint_period] = (not still_coint)*1\n",
        "      # If stocks are not cointegrated, exit    \n",
        "      df['Exit'] = df['Exit'] ^ coint_test\n",
        "\n",
        "      df['In Long'] = (((df['Long'] == 1) & (~(df['Exit'] == 1))))*1\n",
        "      df['In Short'] = (((df['Short'] == 1) & (~(df['Exit'] == 1))))*1\n",
        "\n",
        "      return df\n",
        "\n"
      ],
      "execution_count": null,
      "outputs": []
    },
    {
      "cell_type": "code",
      "metadata": {
        "colab": {
          "base_uri": "https://localhost:8080/",
          "height": 301
        },
        "id": "KWpm5YR6GRht",
        "outputId": "8106ed46-4561-44d0-ffb6-0b6a21db98e0"
      },
      "source": [
        "pt = PairsTrading(data=data.iloc[SHIFT:],\n",
        "                  spread_df=spreads_df,\n",
        "                  LOOKBACK_PERIOD = LOOKBACK_PERIOD,\n",
        "                  FLOOR = FLOOR,\n",
        "                  CEIL = CEIL,\n",
        "                  EXIT = EXIT,)\n",
        "stock1, stock2 = pairs[0]\n",
        "pt.compute_returns(1000000,stock1,stock2)"
      ],
      "execution_count": null,
      "outputs": [
        {
          "output_type": "display_data",
          "data": {
            "image/png": "[encoded data removed]",
            "text/plain": [
              "<Figure size 460.8x316.8 with 1 Axes>"
            ]
          },
          "metadata": {
            "tags": [],
            "needs_background": "light"
          }
        },
        {
          "output_type": "execute_result",
          "data": {
            "text/plain": [
              "(3.637978332894586, 0.017980263913055353)"
            ]
          },
          "metadata": {
            "tags": []
          },
          "execution_count": 43
        }
      ]
    },
    {
      "cell_type": "markdown",
      "metadata": {
        "id": "glWfdLXDm_7J"
      },
      "source": [
        "## Tuning the hyperparameters\n",
        "\n",
        "Lastly, we use grid search to tune the hyperparameters of the strategy."
      ]
    },
    {
      "cell_type": "code",
      "metadata": {
        "colab": {
          "base_uri": "https://localhost:8080/"
        },
        "id": "6-Wxp5j3Fxo4",
        "outputId": "53a0c58d-3d69-4bcf-ae2a-364a66063993"
      },
      "source": [
        "ceil = [x for x in np.arange(0.8, 1.6, 0.2)]\n",
        "exit = [x for x in np.arange(1.8, 2.4, 0.2)]\n",
        "retest_period = [None, 90, 180]\n",
        "transaction_cost_pct = 0.02\n",
        "print(\"Search Space Size: {}\".format(len(ceil)*len(exit)*len(retest_period)))\n"
      ],
      "execution_count": null,
      "outputs": [
        {
          "output_type": "stream",
          "text": [
            "Search Space Size: 36\n"
          ],
          "name": "stdout"
        }
      ]
    },
    {
      "cell_type": "code",
      "metadata": {
        "colab": {
          "base_uri": "https://localhost:8080/"
        },
        "id": "g1773D0ADRpD",
        "outputId": "2c7f67c4-aa47-430d-92c6-eeb8ffde22ce"
      },
      "source": [
        "results = []\n",
        "NUM_PAIRS  = 10\n",
        "investment = 1e6\n",
        "for c in ceil:\n",
        "    if results:\n",
        "        print('Best So Far: {}'.format(max(results, key = lambda x: x[-1])))\n",
        "    for ex in exit:\n",
        "        for rtp in retest_period:\n",
        "            pt = PairsTrading(data=data.iloc[SHIFT:],\n",
        "                              spread_df=spreads_df,\n",
        "                              transaction_cost_pct=transaction_cost_pct,\n",
        "                              retest_coint_period=rtp,\n",
        "                              FLOOR = c*-1,\n",
        "                              CEIL = c,\n",
        "                              EXIT = ex)\n",
        "            r = []\n",
        "            for pair in pairs[:NUM_PAIRS]:\n",
        "                ret, shp = pt.compute_returns(investment, *pair, plot=False)\n",
        "                r.append(shp)\n",
        "            results.append((c,-1*c,ex,rtp,np.median(r)))"
      ],
      "execution_count": null,
      "outputs": [
        {
          "output_type": "stream",
          "text": [
            "Best So Far: (0.8, -0.8, 1.8, None, 23.466869039846934)\n",
            "Best So Far: (0.8, -0.8, 1.8, None, 23.466869039846934)\n",
            "Best So Far: (0.8, -0.8, 1.8, None, 23.466869039846934)\n"
          ],
          "name": "stdout"
        }
      ]
    },
    {
      "cell_type": "code",
      "metadata": {
        "colab": {
          "base_uri": "https://localhost:8080/",
          "height": 818
        },
        "id": "PyPAxzmnDigm",
        "outputId": "2ea7b352-480d-4ac8-e0a5-d027c41dd0b9"
      },
      "source": [
        "best = max(results, key = lambda x: x[-1])\n",
        "c, f, ex, rtp, _ = best\n",
        "\n",
        "investment = 1e6\n",
        "pt_test = PairsTrading(data=test_data,\n",
        "                  spread_df=spreads_df,\n",
        "                  transaction_cost_pct=transaction_cost_pct,\n",
        "                  retest_coint_period=rtp,\n",
        "                  FLOOR = f,\n",
        "                  CEIL = c,\n",
        "                  EXIT = ex)\n",
        "\n",
        "pt_train = PairsTrading(data=data[SHIFT:],\n",
        "                  spread_df=spreads_df,\n",
        "                  transaction_cost_pct=transaction_cost_pct,\n",
        "                  retest_coint_period=rtp,\n",
        "                  FLOOR = f,\n",
        "                  CEIL = c,\n",
        "                  EXIT = ex)\n",
        "\n",
        "\n",
        "returns = []\n",
        "for pair in pairs[:3]:\n",
        "    ret = pt_test.compute_returns(investment, *pair)\n",
        "    returns.append(ret)"
      ],
      "execution_count": null,
      "outputs": [
        {
          "output_type": "display_data",
          "data": {
            "image/png": "[encoded data removed]",
            "text/plain": [
              "<Figure size 460.8x316.8 with 1 Axes>"
            ]
          },
          "metadata": {
            "tags": [],
            "needs_background": "light"
          }
        },
        {
          "output_type": "display_data",
          "data": {
            "image/png": "[encoded data removed]",
            "text/plain": [
              "<Figure size 460.8x316.8 with 1 Axes>"
            ]
          },
          "metadata": {
            "tags": [],
            "needs_background": "light"
          }
        },
        {
          "output_type": "display_data",
          "data": {
            "image/png": "[encoded data removed]",
            "text/plain": [
              "<Figure size 460.8x316.8 with 1 Axes>"
            ]
          },
          "metadata": {
            "tags": [],
            "needs_background": "light"
          }
        }
      ]
    },
    {
      "cell_type": "markdown",
      "metadata": {
        "id": "u9y7Hn3EvFL_"
      },
      "source": [
        "# Backtest on a basket of pair trades\n",
        "\n",
        "We now trade a full basket of pair trades. We have weighted the strategies by their in-sample performance, where a pair with better in-sample performance, constitutes a bigger portion of our portfolio. We remove all strategies that perform below certain treshold on the test data.\n"
      ]
    },
    {
      "cell_type": "code",
      "metadata": {
        "id": "xU71FwzuBxFQ"
      },
      "source": [
        "initial_investment = 1e6\n",
        "pairs_dict = {}\n",
        "\n",
        "for pair in pairs:\n",
        "  ticker_1 = pair[0]\n",
        "  ticker_2 = pair[1]\n",
        "  ret, shp, portfolio = pt_train.compute_returns(initial_investment, *pair, plot=False, return_portfolio=True)\n",
        "  pairs_dict[pair] = ret, shp\n"
      ],
      "execution_count": null,
      "outputs": []
    },
    {
      "cell_type": "code",
      "metadata": {
        "colab": {
          "base_uri": "https://localhost:8080/",
          "height": 376
        },
        "id": "xpf-VdKkECLA",
        "outputId": "81df030c-7586-47fd-9c8a-c0c7e6688932"
      },
      "source": [
        "threshold = 0\n",
        "basket = pd.DataFrame.from_dict(pairs_dict, orient='index',columns = [\"returns\", \"sharpe\"])\n",
        "basket = basket[basket['returns'] > threshold]\n",
        "\n",
        "print(\"{} Pairs chosen\".format(basket.shape[0]))\n",
        "\n",
        "basket['weights'] = basket['returns']/sum(basket['returns'])\n",
        "\n",
        "basket.head(10)"
      ],
      "execution_count": null,
      "outputs": [
        {
          "output_type": "stream",
          "text": [
            "22 Pairs chosen\n"
          ],
          "name": "stdout"
        },
        {
          "output_type": "execute_result",
          "data": {
            "text/html": [
              "<div>\n",
              "<style scoped>\n",
              "    .dataframe tbody tr th:only-of-type {\n",
              "        vertical-align: middle;\n",
              "    }\n",
              "\n",
              "    .dataframe tbody tr th {\n",
              "        vertical-align: top;\n",
              "    }\n",
              "\n",
              "    .dataframe thead th {\n",
              "        text-align: right;\n",
              "    }\n",
              "</style>\n",
              "<table border=\"1\" class=\"dataframe\">\n",
              "  <thead>\n",
              "    <tr style=\"text-align: right;\">\n",
              "      <th></th>\n",
              "      <th>returns</th>\n",
              "      <th>sharpe</th>\n",
              "      <th>weights</th>\n",
              "    </tr>\n",
              "  </thead>\n",
              "  <tbody>\n",
              "    <tr>\n",
              "      <th>(ABBV, NWL)</th>\n",
              "      <td>208.538</td>\n",
              "      <td>1.323</td>\n",
              "      <td>0.148</td>\n",
              "    </tr>\n",
              "    <tr>\n",
              "      <th>(ABBV, PHM)</th>\n",
              "      <td>8.666</td>\n",
              "      <td>-0.349</td>\n",
              "      <td>0.006</td>\n",
              "    </tr>\n",
              "    <tr>\n",
              "      <th>(ALLE, FBHS)</th>\n",
              "      <td>419.547</td>\n",
              "      <td>2.030</td>\n",
              "      <td>0.298</td>\n",
              "    </tr>\n",
              "    <tr>\n",
              "      <th>(ALLE, PHM)</th>\n",
              "      <td>16.200</td>\n",
              "      <td>-0.080</td>\n",
              "      <td>0.011</td>\n",
              "    </tr>\n",
              "    <tr>\n",
              "      <th>(ALLE, TMO)</th>\n",
              "      <td>12.455</td>\n",
              "      <td>-0.218</td>\n",
              "      <td>0.009</td>\n",
              "    </tr>\n",
              "    <tr>\n",
              "      <th>(EOG, WRK)</th>\n",
              "      <td>48.195</td>\n",
              "      <td>0.787</td>\n",
              "      <td>0.034</td>\n",
              "    </tr>\n",
              "    <tr>\n",
              "      <th>(A, AFL)</th>\n",
              "      <td>25.417</td>\n",
              "      <td>0.388</td>\n",
              "      <td>0.018</td>\n",
              "    </tr>\n",
              "    <tr>\n",
              "      <th>(A, BR)</th>\n",
              "      <td>129.948</td>\n",
              "      <td>1.592</td>\n",
              "      <td>0.092</td>\n",
              "    </tr>\n",
              "    <tr>\n",
              "      <th>(AEE, CB)</th>\n",
              "      <td>3.339</td>\n",
              "      <td>-0.706</td>\n",
              "      <td>0.002</td>\n",
              "    </tr>\n",
              "    <tr>\n",
              "      <th>(AEE, XOM)</th>\n",
              "      <td>12.317</td>\n",
              "      <td>0.079</td>\n",
              "      <td>0.009</td>\n",
              "    </tr>\n",
              "  </tbody>\n",
              "</table>\n",
              "</div>"
            ],
            "text/plain": [
              "              returns  sharpe  weights\n",
              "(ABBV, NWL)   208.538   1.323    0.148\n",
              "(ABBV, PHM)     8.666  -0.349    0.006\n",
              "(ALLE, FBHS)  419.547   2.030    0.298\n",
              "(ALLE, PHM)    16.200  -0.080    0.011\n",
              "(ALLE, TMO)    12.455  -0.218    0.009\n",
              "(EOG, WRK)     48.195   0.787    0.034\n",
              "(A, AFL)       25.417   0.388    0.018\n",
              "(A, BR)       129.948   1.592    0.092\n",
              "(AEE, CB)       3.339  -0.706    0.002\n",
              "(AEE, XOM)     12.317   0.079    0.009"
            ]
          },
          "metadata": {
            "tags": []
          },
          "execution_count": 48
        }
      ]
    },
    {
      "cell_type": "code",
      "metadata": {
        "colab": {
          "base_uri": "https://localhost:8080/"
        },
        "id": "Llo-j6IuGnQ4",
        "outputId": "6d10c099-5798-4f10-c789-e3d9bfde1e0b"
      },
      "source": [
        "# Sanity check. The weights must add up to 1\n",
        "sum(basket['weights'])"
      ],
      "execution_count": null,
      "outputs": [
        {
          "output_type": "execute_result",
          "data": {
            "text/plain": [
              "0.9999999999999999"
            ]
          },
          "metadata": {
            "tags": []
          },
          "execution_count": 49
        }
      ]
    },
    {
      "cell_type": "code",
      "metadata": {
        "colab": {
          "base_uri": "https://localhost:8080/",
          "height": 204
        },
        "id": "c0Dh1m9dIDlw",
        "outputId": "568f55ae-7548-43e9-e204-e323f2520037"
      },
      "source": [
        "basket['allocation'] = basket['weights']*initial_investment\n",
        "basket.head()"
      ],
      "execution_count": null,
      "outputs": [
        {
          "output_type": "execute_result",
          "data": {
            "text/html": [
              "<div>\n",
              "<style scoped>\n",
              "    .dataframe tbody tr th:only-of-type {\n",
              "        vertical-align: middle;\n",
              "    }\n",
              "\n",
              "    .dataframe tbody tr th {\n",
              "        vertical-align: top;\n",
              "    }\n",
              "\n",
              "    .dataframe thead th {\n",
              "        text-align: right;\n",
              "    }\n",
              "</style>\n",
              "<table border=\"1\" class=\"dataframe\">\n",
              "  <thead>\n",
              "    <tr style=\"text-align: right;\">\n",
              "      <th></th>\n",
              "      <th>returns</th>\n",
              "      <th>sharpe</th>\n",
              "      <th>weights</th>\n",
              "      <th>allocation</th>\n",
              "    </tr>\n",
              "  </thead>\n",
              "  <tbody>\n",
              "    <tr>\n",
              "      <th>(ABBV, NWL)</th>\n",
              "      <td>208.538</td>\n",
              "      <td>1.323</td>\n",
              "      <td>0.148</td>\n",
              "      <td>147944.369</td>\n",
              "    </tr>\n",
              "    <tr>\n",
              "      <th>(ABBV, PHM)</th>\n",
              "      <td>8.666</td>\n",
              "      <td>-0.349</td>\n",
              "      <td>0.006</td>\n",
              "      <td>6148.073</td>\n",
              "    </tr>\n",
              "    <tr>\n",
              "      <th>(ALLE, FBHS)</th>\n",
              "      <td>419.547</td>\n",
              "      <td>2.030</td>\n",
              "      <td>0.298</td>\n",
              "      <td>297641.196</td>\n",
              "    </tr>\n",
              "    <tr>\n",
              "      <th>(ALLE, PHM)</th>\n",
              "      <td>16.200</td>\n",
              "      <td>-0.080</td>\n",
              "      <td>0.011</td>\n",
              "      <td>11492.892</td>\n",
              "    </tr>\n",
              "    <tr>\n",
              "      <th>(ALLE, TMO)</th>\n",
              "      <td>12.455</td>\n",
              "      <td>-0.218</td>\n",
              "      <td>0.009</td>\n",
              "      <td>8836.095</td>\n",
              "    </tr>\n",
              "  </tbody>\n",
              "</table>\n",
              "</div>"
            ],
            "text/plain": [
              "              returns  sharpe  weights  allocation\n",
              "(ABBV, NWL)   208.538   1.323    0.148  147944.369\n",
              "(ABBV, PHM)     8.666  -0.349    0.006    6148.073\n",
              "(ALLE, FBHS)  419.547   2.030    0.298  297641.196\n",
              "(ALLE, PHM)    16.200  -0.080    0.011   11492.892\n",
              "(ALLE, TMO)    12.455  -0.218    0.009    8836.095"
            ]
          },
          "metadata": {
            "tags": []
          },
          "execution_count": 50
        }
      ]
    },
    {
      "cell_type": "code",
      "metadata": {
        "id": "l_LUDD47KPkA"
      },
      "source": [
        "basket_returns = []\n",
        "\n",
        "portfolios = pd.DataFrame()\n",
        "\n",
        "for pair in basket.index:\n",
        "    ret, _, port = pt_test.compute_returns(basket['allocation'][pair], \n",
        "                                           *pair, \n",
        "                                           plot=False, \n",
        "                                           return_portfolio=True)\n",
        "    basket_returns.append(ret/100)\n",
        "    portfolios[pair] = port['Returns']\n",
        "    \n",
        "basket_returns = np.array(basket_returns)\n",
        "basket['money_after'] = basket['allocation']*(1+basket_returns)"
      ],
      "execution_count": null,
      "outputs": []
    },
    {
      "cell_type": "code",
      "metadata": {
        "colab": {
          "base_uri": "https://localhost:8080/",
          "height": 359
        },
        "id": "RduIWNjWNtHC",
        "outputId": "7d0b20da-5eba-48a3-9e26-e46badcf5ae2"
      },
      "source": [
        "basket.head(10)"
      ],
      "execution_count": null,
      "outputs": [
        {
          "output_type": "execute_result",
          "data": {
            "text/html": [
              "<div>\n",
              "<style scoped>\n",
              "    .dataframe tbody tr th:only-of-type {\n",
              "        vertical-align: middle;\n",
              "    }\n",
              "\n",
              "    .dataframe tbody tr th {\n",
              "        vertical-align: top;\n",
              "    }\n",
              "\n",
              "    .dataframe thead th {\n",
              "        text-align: right;\n",
              "    }\n",
              "</style>\n",
              "<table border=\"1\" class=\"dataframe\">\n",
              "  <thead>\n",
              "    <tr style=\"text-align: right;\">\n",
              "      <th></th>\n",
              "      <th>returns</th>\n",
              "      <th>sharpe</th>\n",
              "      <th>weights</th>\n",
              "      <th>allocation</th>\n",
              "      <th>money_after</th>\n",
              "    </tr>\n",
              "  </thead>\n",
              "  <tbody>\n",
              "    <tr>\n",
              "      <th>(ABBV, NWL)</th>\n",
              "      <td>208.538</td>\n",
              "      <td>1.323</td>\n",
              "      <td>0.148</td>\n",
              "      <td>147944.369</td>\n",
              "      <td>301554.229</td>\n",
              "    </tr>\n",
              "    <tr>\n",
              "      <th>(ABBV, PHM)</th>\n",
              "      <td>8.666</td>\n",
              "      <td>-0.349</td>\n",
              "      <td>0.006</td>\n",
              "      <td>6148.073</td>\n",
              "      <td>12165.096</td>\n",
              "    </tr>\n",
              "    <tr>\n",
              "      <th>(ALLE, FBHS)</th>\n",
              "      <td>419.547</td>\n",
              "      <td>2.030</td>\n",
              "      <td>0.298</td>\n",
              "      <td>297641.196</td>\n",
              "      <td>148820.598</td>\n",
              "    </tr>\n",
              "    <tr>\n",
              "      <th>(ALLE, PHM)</th>\n",
              "      <td>16.200</td>\n",
              "      <td>-0.080</td>\n",
              "      <td>0.011</td>\n",
              "      <td>11492.892</td>\n",
              "      <td>9073.001</td>\n",
              "    </tr>\n",
              "    <tr>\n",
              "      <th>(ALLE, TMO)</th>\n",
              "      <td>12.455</td>\n",
              "      <td>-0.218</td>\n",
              "      <td>0.009</td>\n",
              "      <td>8836.095</td>\n",
              "      <td>11319.083</td>\n",
              "    </tr>\n",
              "    <tr>\n",
              "      <th>(EOG, WRK)</th>\n",
              "      <td>48.195</td>\n",
              "      <td>0.787</td>\n",
              "      <td>0.034</td>\n",
              "      <td>34191.251</td>\n",
              "      <td>30663.690</td>\n",
              "    </tr>\n",
              "    <tr>\n",
              "      <th>(A, AFL)</th>\n",
              "      <td>25.417</td>\n",
              "      <td>0.388</td>\n",
              "      <td>0.018</td>\n",
              "      <td>18031.721</td>\n",
              "      <td>9015.861</td>\n",
              "    </tr>\n",
              "    <tr>\n",
              "      <th>(A, BR)</th>\n",
              "      <td>129.948</td>\n",
              "      <td>1.592</td>\n",
              "      <td>0.092</td>\n",
              "      <td>92189.940</td>\n",
              "      <td>46094.970</td>\n",
              "    </tr>\n",
              "    <tr>\n",
              "      <th>(AEE, CB)</th>\n",
              "      <td>3.339</td>\n",
              "      <td>-0.706</td>\n",
              "      <td>0.002</td>\n",
              "      <td>2368.640</td>\n",
              "      <td>1184.320</td>\n",
              "    </tr>\n",
              "    <tr>\n",
              "      <th>(AEE, XOM)</th>\n",
              "      <td>12.317</td>\n",
              "      <td>0.079</td>\n",
              "      <td>0.009</td>\n",
              "      <td>8738.020</td>\n",
              "      <td>4369.010</td>\n",
              "    </tr>\n",
              "  </tbody>\n",
              "</table>\n",
              "</div>"
            ],
            "text/plain": [
              "              returns  sharpe  weights  allocation  money_after\n",
              "(ABBV, NWL)   208.538   1.323    0.148  147944.369   301554.229\n",
              "(ABBV, PHM)     8.666  -0.349    0.006    6148.073    12165.096\n",
              "(ALLE, FBHS)  419.547   2.030    0.298  297641.196   148820.598\n",
              "(ALLE, PHM)    16.200  -0.080    0.011   11492.892     9073.001\n",
              "(ALLE, TMO)    12.455  -0.218    0.009    8836.095    11319.083\n",
              "(EOG, WRK)     48.195   0.787    0.034   34191.251    30663.690\n",
              "(A, AFL)       25.417   0.388    0.018   18031.721     9015.861\n",
              "(A, BR)       129.948   1.592    0.092   92189.940    46094.970\n",
              "(AEE, CB)       3.339  -0.706    0.002    2368.640     1184.320\n",
              "(AEE, XOM)     12.317   0.079    0.009    8738.020     4369.010"
            ]
          },
          "metadata": {
            "tags": []
          },
          "execution_count": 52
        }
      ]
    },
    {
      "cell_type": "code",
      "metadata": {
        "colab": {
          "base_uri": "https://localhost:8080/"
        },
        "id": "hHhQ83TBXUbk",
        "outputId": "a79588a2-733d-489a-fe1c-154f10c2d366"
      },
      "source": [
        "# Profits\n",
        "print(\"Profits on {} investment :\".format(initial_investment), sum(basket['money_after'])-initial_investment)"
      ],
      "execution_count": null,
      "outputs": [
        {
          "output_type": "stream",
          "text": [
            "Profits on 1000000.0 : 176373.68132056016\n"
          ],
          "name": "stdout"
        }
      ]
    },
    {
      "cell_type": "code",
      "metadata": {
        "colab": {
          "base_uri": "https://localhost:8080/",
          "height": 367
        },
        "id": "z-HjmB6uuH86",
        "outputId": "a4928b1f-8f12-40d6-d63f-de1a518de46d"
      },
      "source": [
        "color_dict = {x:'#808080' for x in portfolios.columns} # Grey\n",
        "\n",
        "portfolios['mean'] = portfolios.mean(axis=1)\n",
        "color_dict['mean'] = '#FF0000' # Red\n",
        "\n",
        "weighted_portfolios = portfolios.copy() # Introduced to compute basket sharpe ratio below\n",
        "\n",
        "for basket_pair in portfolios.columns:\n",
        "  if basket_pair!=\"mean\":\n",
        "    weighted_portfolios[basket_pair] = weighted_portfolios[basket_pair]*basket['weights'][basket_pair]\n",
        "\n",
        "weighted_portfolios['sum'] = weighted_portfolios.sum(axis=1)\n",
        "\n",
        "basket_sharpe = (weighted_portfolios['sum'].mean() - INTEREST_RATE)/weighted_portfolios['sum'].std()\n",
        "overall_return =  ((sum(basket['money_after'])-investment)/investment)*100\n",
        "\n",
        "\n",
        "portfolios.iloc[22:].plot(color=color_dict, \n",
        "                          legend=False, \n",
        "                          figsize=(10,5),\n",
        "                          xlabel='date',\n",
        "                          ylabel='returns',\n",
        "                          title = \"Mean Returns. Overall Portfolio Return: {}%, Overall Portfolio Sharpe: {}\".format(np.around(overall_return, 2),\n",
        "                                                                   np.around(basket_sharpe,2)))"
      ],
      "execution_count": null,
      "outputs": [
        {
          "output_type": "execute_result",
          "data": {
            "text/plain": [
              "<matplotlib.axes._subplots.AxesSubplot at 0x7ff08550e490>"
            ]
          },
          "metadata": {
            "tags": []
          },
          "execution_count": 54
        },
        {
          "output_type": "display_data",
          "data": {
            "image/png": "[encoded data removed]",
            "text/plain": [
              "<Figure size 720x360 with 1 Axes>"
            ]
          },
          "metadata": {
            "tags": [],
            "needs_background": "light"
          }
        }
      ]
    }
  ]
}