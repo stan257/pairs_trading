{
 "cells": [
  {
   "cell_type": "code",
   "execution_count": 233,
   "metadata": {},
   "outputs": [
    {
     "data": {
      "text/html": [
       "<style>.container { width:100% !important; }</style>"
      ],
      "text/plain": [
       "<IPython.core.display.HTML object>"
      ]
     },
     "metadata": {},
     "output_type": "display_data"
    }
   ],
   "source": [
    "from IPython.core.display import display, HTML\n",
    "display(HTML(\"<style>.container { width:100% !important; }</style>\"))"
   ]
  },
  {
   "cell_type": "code",
   "execution_count": 234,
   "metadata": {
    "id": "rdeZYqSR58V1"
   },
   "outputs": [],
   "source": [
    "# Data API\n",
    "!pip install yahoo_fin statsmodels >> /dev/null"
   ]
  },
  {
   "cell_type": "code",
   "execution_count": 235,
   "metadata": {
    "colab": {
     "base_uri": "https://localhost:8080/"
    },
    "id": "iKUhu97EUFxB",
    "outputId": "55c55953-1402-4a9b-8fe0-094e41256277"
   },
   "outputs": [],
   "source": [
    "import pandas as pd\n",
    "import numpy as np\n",
    "from collections import Counter\n",
    "import os\n",
    "\n",
    "# Data API\n",
    "import yahoo_fin.stock_info as si\n",
    "\n",
    "# Plotting\n",
    "import seaborn as sns\n",
    "import matplotlib.pyplot as plt\n",
    "import matplotlib.cm as cm\n",
    "\n",
    "# Cointegration Testing\n",
    "from statsmodels.tsa.stattools import coint\n",
    "\n",
    "# Stationarity Testing\n",
    "from statsmodels.tsa.stattools import adfuller\n",
    "\n",
    "# Pair Selection \n",
    "from sklearn.cluster import KMeans\n",
    "from sklearn import metrics\n",
    "from sklearn.manifold import TSNE\n",
    "from sklearn.preprocessing import StandardScaler"
   ]
  },
  {
   "cell_type": "code",
   "execution_count": 236,
   "metadata": {
    "id": "Q208scf9ZYcp"
   },
   "outputs": [],
   "source": [
    "START_DATE = pd.Timestamp(\"2016-01-04\")\n",
    "END_DATE = pd.Timestamp(\"2017-12-29\")\n",
    "TRADING_DAYS = 2*250"
   ]
  },
  {
   "cell_type": "code",
   "execution_count": 237,
   "metadata": {
    "id": "NUD4_-YN5-xM"
   },
   "outputs": [],
   "source": [
    "sp500_list = si.tickers_sp500()"
   ]
  },
  {
   "cell_type": "code",
   "execution_count": 238,
   "metadata": {
    "colab": {
     "base_uri": "https://localhost:8080/"
    },
    "id": "4YO-ntZtZu0O",
    "outputId": "e398e2d7-faa4-464d-9f69-5502080576d5"
   },
   "outputs": [],
   "source": [
    "# from google.colab import drive\n",
    "# drive.mount('/content/gdrive')"
   ]
  },
  {
   "cell_type": "code",
   "execution_count": 239,
   "metadata": {
    "id": "5NK6HqOoakFN"
   },
   "outputs": [],
   "source": [
    "# data_dir = os.path.join('/','content','gdrive','MyDrive','trading_pairs')\n",
    "# data_path = os.path.join(data_dir, 'S&P500_stock_data.csv')\n",
    "# test_data_path = os.path.join(data_dir, 'S&P500_stock_data_test.csv')\n",
    "# raw_data_path = os.path.join(data_dir, 'S&P500_raw.csv')\n",
    "\n",
    "\n",
    "\n",
    "data_dir = ''\n",
    "data_path = os.path.join(data_dir, 'S&P500_stock_data.csv')\n",
    "test_data_path = os.path.join(data_dir, 'S&P500_stock_data_test.csv')\n",
    "raw_data_path = os.path.join(data_dir, 'S&P500_raw.csv')"
   ]
  },
  {
   "cell_type": "code",
   "execution_count": 240,
   "metadata": {
    "colab": {
     "base_uri": "https://localhost:8080/"
    },
    "id": "KrT5-67aI3qy",
    "outputId": "a977b460-e62b-4b3a-e776-2ec2a257432f"
   },
   "outputs": [],
   "source": [
    "# !ls gdrive/MyDrive/trading_pairs\n"
   ]
  },
  {
   "cell_type": "code",
   "execution_count": 241,
   "metadata": {
    "colab": {
     "base_uri": "https://localhost:8080/",
     "height": 35
    },
    "id": "htM3btt9Khc8",
    "outputId": "9d1e1155-3197-4eb7-f3a9-235ce3ddee96"
   },
   "outputs": [
    {
     "data": {
      "text/plain": [
       "'S&P500_stock_data.csv'"
      ]
     },
     "execution_count": 241,
     "metadata": {},
     "output_type": "execute_result"
    }
   ],
   "source": [
    "data_path"
   ]
  },
  {
   "cell_type": "code",
   "execution_count": 242,
   "metadata": {
    "id": "Y60bQGktbmBC"
   },
   "outputs": [],
   "source": [
    "if os.path.isfile(data_path):\n",
    "    # Load Files\n",
    "    data = pd.read_csv(data_path)\n",
    "    test_data = pd.read_csv(test_data_path)\n",
    "    data = data.set_index('date')\n",
    "    test_data = test_data.set_index('date')\n",
    "    raw_data = pd.read_csv(raw_data_path)\n",
    "    raw_data.reset_index(drop = True, inplace = True)\n",
    "    raw_data = raw_data.pivot(index = 'date', columns = 'ticker', values = ['high', 'low'])\n",
    "else:\n",
    "    # Download Files\n",
    "    sp500_historical_data = {}\n",
    "    for ticker in sp500_list:\n",
    "        try:\n",
    "            sp500_historical_data[ticker] = si.get_data(ticker, \n",
    "                                                        start_date=START_DATE, \n",
    "                                                        index_as_date = False,\n",
    "                                                        end_date=END_DATE,\n",
    "                                                        interval=\"1d\")\n",
    "        # Tickers listed later than the period\n",
    "        except AssertionError:\n",
    "            print(\"{} Listed Later\".format(ticker))\n",
    "            continue\n",
    "        \n",
    "        # yahoo_fin has issues with some tickers\n",
    "        except KeyError:\n",
    "            print(\"{} Malformed Data\".format(ticker))\n",
    "            continue\n",
    "\n",
    "    data = pd.concat(sp500_historical_data)\n",
    "    data.reset_index(drop = True, inplace = True)\n",
    "    data = data.pivot(index = 'date', columns = 'ticker', values = 'adjclose')\n",
    "    data, test_data = data[:TRADING_DAYS//2], data[TRADING_DAYS//2:]\n",
    "    data.to_csv(data_path)\n",
    "    test_data.to_csv(test_data_path)\n",
    "\n",
    "    # Process data for daily High/Low\n",
    "    raw_data =  pd.concat(sp500_historical_data)\n",
    "    raw_data.reset_index(drop = True, inplace = True)\n",
    "    raw_data.to_csv(raw_data_path)\n",
    "    raw_data = raw_data.pivot(index = 'date', columns = 'ticker', values = ['high', 'low'])\n"
   ]
  },
  {
   "cell_type": "markdown",
   "metadata": {
    "id": "egKKe8u9niw9"
   },
   "source": [
    "# Dealing with missing data"
   ]
  },
  {
   "cell_type": "markdown",
   "metadata": {
    "id": "18b69ps4TNmU"
   },
   "source": [
    "Yahoo finance gives us very refined data. To improve visibility we truncate all numbers to have at most 3 digits after the decimal."
   ]
  },
  {
   "cell_type": "code",
   "execution_count": 243,
   "metadata": {
    "colab": {
     "base_uri": "https://localhost:8080/",
     "height": 359
    },
    "id": "9-m6q-ra7uHa",
    "outputId": "a2c02261-774a-4a5f-bf6f-2f6d239ec1f2"
   },
   "outputs": [
    {
     "data": {
      "text/html": [
       "<div>\n",
       "<style scoped>\n",
       "    .dataframe tbody tr th:only-of-type {\n",
       "        vertical-align: middle;\n",
       "    }\n",
       "\n",
       "    .dataframe tbody tr th {\n",
       "        vertical-align: top;\n",
       "    }\n",
       "\n",
       "    .dataframe thead th {\n",
       "        text-align: right;\n",
       "    }\n",
       "</style>\n",
       "<table border=\"1\" class=\"dataframe\">\n",
       "  <thead>\n",
       "    <tr style=\"text-align: right;\">\n",
       "      <th></th>\n",
       "      <th>count</th>\n",
       "      <th>mean</th>\n",
       "      <th>std</th>\n",
       "      <th>min</th>\n",
       "      <th>25%</th>\n",
       "      <th>50%</th>\n",
       "      <th>75%</th>\n",
       "      <th>max</th>\n",
       "    </tr>\n",
       "  </thead>\n",
       "  <tbody>\n",
       "    <tr>\n",
       "      <th>A</th>\n",
       "      <td>250.0</td>\n",
       "      <td>41.479</td>\n",
       "      <td>3.544</td>\n",
       "      <td>33.152</td>\n",
       "      <td>38.266</td>\n",
       "      <td>42.906</td>\n",
       "      <td>44.361</td>\n",
       "      <td>46.402</td>\n",
       "    </tr>\n",
       "    <tr>\n",
       "      <th>AAL</th>\n",
       "      <td>250.0</td>\n",
       "      <td>36.647</td>\n",
       "      <td>4.850</td>\n",
       "      <td>24.285</td>\n",
       "      <td>33.676</td>\n",
       "      <td>36.775</td>\n",
       "      <td>39.246</td>\n",
       "      <td>47.969</td>\n",
       "    </tr>\n",
       "    <tr>\n",
       "      <th>AAP</th>\n",
       "      <td>250.0</td>\n",
       "      <td>152.243</td>\n",
       "      <td>9.373</td>\n",
       "      <td>133.517</td>\n",
       "      <td>145.108</td>\n",
       "      <td>151.640</td>\n",
       "      <td>158.441</td>\n",
       "      <td>173.310</td>\n",
       "    </tr>\n",
       "    <tr>\n",
       "      <th>AAPL</th>\n",
       "      <td>250.0</td>\n",
       "      <td>24.390</td>\n",
       "      <td>1.882</td>\n",
       "      <td>21.067</td>\n",
       "      <td>22.557</td>\n",
       "      <td>24.550</td>\n",
       "      <td>25.961</td>\n",
       "      <td>27.725</td>\n",
       "    </tr>\n",
       "    <tr>\n",
       "      <th>ABBV</th>\n",
       "      <td>250.0</td>\n",
       "      <td>48.091</td>\n",
       "      <td>3.166</td>\n",
       "      <td>40.050</td>\n",
       "      <td>45.610</td>\n",
       "      <td>48.785</td>\n",
       "      <td>50.451</td>\n",
       "      <td>53.709</td>\n",
       "    </tr>\n",
       "    <tr>\n",
       "      <th>ABC</th>\n",
       "      <td>250.0</td>\n",
       "      <td>75.932</td>\n",
       "      <td>5.319</td>\n",
       "      <td>63.237</td>\n",
       "      <td>72.255</td>\n",
       "      <td>76.817</td>\n",
       "      <td>79.573</td>\n",
       "      <td>93.532</td>\n",
       "    </tr>\n",
       "    <tr>\n",
       "      <th>ABMD</th>\n",
       "      <td>250.0</td>\n",
       "      <td>105.020</td>\n",
       "      <td>15.097</td>\n",
       "      <td>71.000</td>\n",
       "      <td>94.395</td>\n",
       "      <td>104.535</td>\n",
       "      <td>117.775</td>\n",
       "      <td>131.740</td>\n",
       "    </tr>\n",
       "    <tr>\n",
       "      <th>ABT</th>\n",
       "      <td>250.0</td>\n",
       "      <td>36.852</td>\n",
       "      <td>2.058</td>\n",
       "      <td>32.775</td>\n",
       "      <td>35.276</td>\n",
       "      <td>36.571</td>\n",
       "      <td>38.429</td>\n",
       "      <td>41.350</td>\n",
       "    </tr>\n",
       "    <tr>\n",
       "      <th>ACN</th>\n",
       "      <td>250.0</td>\n",
       "      <td>103.547</td>\n",
       "      <td>6.839</td>\n",
       "      <td>84.809</td>\n",
       "      <td>101.484</td>\n",
       "      <td>105.164</td>\n",
       "      <td>108.375</td>\n",
       "      <td>116.266</td>\n",
       "    </tr>\n",
       "    <tr>\n",
       "      <th>ADBE</th>\n",
       "      <td>250.0</td>\n",
       "      <td>97.277</td>\n",
       "      <td>7.787</td>\n",
       "      <td>73.850</td>\n",
       "      <td>93.270</td>\n",
       "      <td>97.710</td>\n",
       "      <td>103.500</td>\n",
       "      <td>110.810</td>\n",
       "    </tr>\n",
       "  </tbody>\n",
       "</table>\n",
       "</div>"
      ],
      "text/plain": [
       "      count     mean     std      min      25%      50%      75%      max\n",
       "A     250.0   41.479   3.544   33.152   38.266   42.906   44.361   46.402\n",
       "AAL   250.0   36.647   4.850   24.285   33.676   36.775   39.246   47.969\n",
       "AAP   250.0  152.243   9.373  133.517  145.108  151.640  158.441  173.310\n",
       "AAPL  250.0   24.390   1.882   21.067   22.557   24.550   25.961   27.725\n",
       "ABBV  250.0   48.091   3.166   40.050   45.610   48.785   50.451   53.709\n",
       "ABC   250.0   75.932   5.319   63.237   72.255   76.817   79.573   93.532\n",
       "ABMD  250.0  105.020  15.097   71.000   94.395  104.535  117.775  131.740\n",
       "ABT   250.0   36.852   2.058   32.775   35.276   36.571   38.429   41.350\n",
       "ACN   250.0  103.547   6.839   84.809  101.484  105.164  108.375  116.266\n",
       "ADBE  250.0   97.277   7.787   73.850   93.270   97.710  103.500  110.810"
      ]
     },
     "execution_count": 243,
     "metadata": {},
     "output_type": "execute_result"
    }
   ],
   "source": [
    "pd.set_option('precision',3)\n",
    "data.describe().T.head(10)"
   ]
  },
  {
   "cell_type": "code",
   "execution_count": 244,
   "metadata": {
    "colab": {
     "base_uri": "https://localhost:8080/"
    },
    "id": "ix7vZDvP9Yek",
    "outputId": "2097d02a-1bc8-491f-e321-a7f5ba406653"
   },
   "outputs": [
    {
     "name": "stdout",
     "output_type": "stream",
     "text": [
      "Data shape before: (250, 497)\n",
      "Data shape after: (250, 493)\n"
     ]
    }
   ],
   "source": [
    "print('Data shape before:', data.shape)\n",
    "\n",
    "null_percentage = data.isnull().sum() / data.shape[0]\n",
    "to_drop = null_percentage[null_percentage > 0.2].index\n",
    "data.drop(labels=to_drop, axis=1, inplace=True)\n",
    "\n",
    "print('Data shape after:', data.shape)\n",
    "\n",
    "# Fill null values\n",
    "data = data.fillna(method = 'ffill')"
   ]
  },
  {
   "cell_type": "code",
   "execution_count": 245,
   "metadata": {
    "colab": {
     "base_uri": "https://localhost:8080/"
    },
    "id": "Z4Jcq9rgFCiI",
    "outputId": "bc139c9b-5e7a-4170-8982-cd868d8217bd"
   },
   "outputs": [
    {
     "name": "stdout",
     "output_type": "stream",
     "text": [
      "Shape after removing added later (250, 493)\n"
     ]
    }
   ],
   "source": [
    "later_added = data.isnull().any()\n",
    "later_added = later_added[later_added == True] \n",
    "data.drop(labels=later_added.index, axis=1, inplace=True)\n",
    "\n",
    "print('Shape after removing added later', data.shape)"
   ]
  },
  {
   "cell_type": "markdown",
   "metadata": {
    "id": "YBna6N0fn37R"
   },
   "source": [
    "Traditionally what we are interested are not the prices but the returns, so we convert to them."
   ]
  },
  {
   "cell_type": "markdown",
   "metadata": {},
   "source": [
    "### Removing Stationary Series"
   ]
  },
  {
   "cell_type": "code",
   "execution_count": 246,
   "metadata": {},
   "outputs": [],
   "source": [
    "to_drop = []\n",
    "\n",
    "for ticker in data.columns:\n",
    "    pval = adfuller(data[ticker])[1]\n",
    "    \n",
    "    if pval < 0.05:\n",
    "        to_drop.append(ticker)\n",
    "    "
   ]
  },
  {
   "cell_type": "code",
   "execution_count": 247,
   "metadata": {},
   "outputs": [
    {
     "name": "stdout",
     "output_type": "stream",
     "text": [
      "21\n"
     ]
    }
   ],
   "source": [
    "print(len(to_drop))"
   ]
  },
  {
   "cell_type": "code",
   "execution_count": 248,
   "metadata": {},
   "outputs": [
    {
     "name": "stdout",
     "output_type": "stream",
     "text": [
      "472\n"
     ]
    }
   ],
   "source": [
    "data = data.drop(columns=to_drop)\n",
    "print(len(data.columns))"
   ]
  },
  {
   "cell_type": "markdown",
   "metadata": {},
   "source": [
    "### Creating Returns and Volatility DF"
   ]
  },
  {
   "cell_type": "code",
   "execution_count": 249,
   "metadata": {
    "colab": {
     "base_uri": "https://localhost:8080/",
     "height": 204
    },
    "id": "xZkecXKa-aKP",
    "outputId": "0cb14370-2b33-420d-d3cd-25e27e089023"
   },
   "outputs": [
    {
     "data": {
      "text/html": [
       "<div>\n",
       "<style scoped>\n",
       "    .dataframe tbody tr th:only-of-type {\n",
       "        vertical-align: middle;\n",
       "    }\n",
       "\n",
       "    .dataframe tbody tr th {\n",
       "        vertical-align: top;\n",
       "    }\n",
       "\n",
       "    .dataframe thead th {\n",
       "        text-align: right;\n",
       "    }\n",
       "</style>\n",
       "<table border=\"1\" class=\"dataframe\">\n",
       "  <thead>\n",
       "    <tr style=\"text-align: right;\">\n",
       "      <th></th>\n",
       "      <th>returns</th>\n",
       "      <th>volatility</th>\n",
       "    </tr>\n",
       "  </thead>\n",
       "  <tbody>\n",
       "    <tr>\n",
       "      <th>A</th>\n",
       "      <td>0.152</td>\n",
       "      <td>0.234</td>\n",
       "    </tr>\n",
       "    <tr>\n",
       "      <th>AAL</th>\n",
       "      <td>0.231</td>\n",
       "      <td>0.365</td>\n",
       "    </tr>\n",
       "    <tr>\n",
       "      <th>AAP</th>\n",
       "      <td>0.150</td>\n",
       "      <td>0.270</td>\n",
       "    </tr>\n",
       "    <tr>\n",
       "      <th>AAPL</th>\n",
       "      <td>0.153</td>\n",
       "      <td>0.234</td>\n",
       "    </tr>\n",
       "    <tr>\n",
       "      <th>ABBV</th>\n",
       "      <td>0.153</td>\n",
       "      <td>0.272</td>\n",
       "    </tr>\n",
       "  </tbody>\n",
       "</table>\n",
       "</div>"
      ],
      "text/plain": [
       "      returns  volatility\n",
       "A       0.152       0.234\n",
       "AAL     0.231       0.365\n",
       "AAP     0.150       0.270\n",
       "AAPL    0.153       0.234\n",
       "ABBV    0.153       0.272"
      ]
     },
     "execution_count": 249,
     "metadata": {},
     "output_type": "execute_result"
    }
   ],
   "source": [
    "# EDIT: тук деля на 2 защото в data имаме само 250 trading days\n",
    "ret = data.pct_change().mean()*TRADING_DAYS/2\n",
    "volatility = data.pct_change().std()*np.sqrt(TRADING_DAYS/2)\n",
    "returns = pd.DataFrame(index =  data.columns)\n",
    "returns['returns'] = ret.values\n",
    "returns['volatility'] = volatility.values\n",
    "\n",
    "returns.head(5)"
   ]
  },
  {
   "cell_type": "code",
   "execution_count": 250,
   "metadata": {
    "colab": {
     "base_uri": "https://localhost:8080/",
     "height": 204
    },
    "id": "_BxLKoH6B021",
    "outputId": "2b1d8a97-71af-43fc-8bc4-d6d596dbc6f9"
   },
   "outputs": [
    {
     "data": {
      "text/html": [
       "<div>\n",
       "<style scoped>\n",
       "    .dataframe tbody tr th:only-of-type {\n",
       "        vertical-align: middle;\n",
       "    }\n",
       "\n",
       "    .dataframe tbody tr th {\n",
       "        vertical-align: top;\n",
       "    }\n",
       "\n",
       "    .dataframe thead th {\n",
       "        text-align: right;\n",
       "    }\n",
       "</style>\n",
       "<table border=\"1\" class=\"dataframe\">\n",
       "  <thead>\n",
       "    <tr style=\"text-align: right;\">\n",
       "      <th></th>\n",
       "      <th>returns</th>\n",
       "      <th>volatility</th>\n",
       "    </tr>\n",
       "  </thead>\n",
       "  <tbody>\n",
       "    <tr>\n",
       "      <th>A</th>\n",
       "      <td>-0.255</td>\n",
       "      <td>-0.331</td>\n",
       "    </tr>\n",
       "    <tr>\n",
       "      <th>AAL</th>\n",
       "      <td>0.127</td>\n",
       "      <td>0.979</td>\n",
       "    </tr>\n",
       "    <tr>\n",
       "      <th>AAP</th>\n",
       "      <td>-0.266</td>\n",
       "      <td>0.035</td>\n",
       "    </tr>\n",
       "    <tr>\n",
       "      <th>AAPL</th>\n",
       "      <td>-0.254</td>\n",
       "      <td>-0.331</td>\n",
       "    </tr>\n",
       "    <tr>\n",
       "      <th>ABBV</th>\n",
       "      <td>-0.253</td>\n",
       "      <td>0.049</td>\n",
       "    </tr>\n",
       "  </tbody>\n",
       "</table>\n",
       "</div>"
      ],
      "text/plain": [
       "      returns  volatility\n",
       "A      -0.255      -0.331\n",
       "AAL     0.127       0.979\n",
       "AAP    -0.266       0.035\n",
       "AAPL   -0.254      -0.331\n",
       "ABBV   -0.253       0.049"
      ]
     },
     "execution_count": 250,
     "metadata": {},
     "output_type": "execute_result"
    }
   ],
   "source": [
    "# Scale values\n",
    "scale = StandardScaler().fit(returns)\n",
    "\n",
    "scaled_data = pd.DataFrame(scale.fit_transform(returns), \n",
    "                           columns = returns.columns, \n",
    "                           index = returns.index)\n",
    "X = scaled_data\n",
    "X.head()"
   ]
  },
  {
   "cell_type": "markdown",
   "metadata": {
    "id": "YVLdLK5fChBm"
   },
   "source": [
    "# Clustering of data rel returns and volatility\n",
    "\n",
    "After all the preprocessing and normalization, we now proceed to use standard clustering algorithms to group them based on returns and volatility.\n"
   ]
  },
  {
   "cell_type": "markdown",
   "metadata": {
    "id": "TTaDx97Uo7-b"
   },
   "source": [
    "## K-means\n",
    " We use the most standard clustering algorithm.\n"
   ]
  },
  {
   "cell_type": "code",
   "execution_count": 251,
   "metadata": {
    "colab": {
     "base_uri": "https://localhost:8080/",
     "height": 350
    },
    "id": "umd2ofgxE5Ny",
    "outputId": "81ce0dd0-361e-465d-e8c4-a178055de38d"
   },
   "outputs": [
    {
     "data": {
      "image/png": "[encoded data removed]",
      "text/plain": [
       "<Figure size 1080x360 with 1 Axes>"
      ]
     },
     "metadata": {
      "needs_background": "light"
     },
     "output_type": "display_data"
    }
   ],
   "source": [
    "\n",
    "K = range(1,15)\n",
    "distortions = []\n",
    "\n",
    "#Fit the method\n",
    "for k in K:\n",
    "    kmeans = KMeans(n_clusters = k)\n",
    "    kmeans.fit(X)\n",
    "    distortions.append(kmeans.inertia_)\n",
    "                                        \n",
    "\n",
    "#Plot the results\n",
    "fig = plt.figure(figsize= (15,5))\n",
    "plt.plot(K, distortions, 'bx-')\n",
    "plt.xlabel('Values of K')\n",
    "plt.ylabel('Inertia')\n",
    "plt.title('Elbow Method')\n",
    "plt.grid(True)\n",
    "plt.show()"
   ]
  },
  {
   "cell_type": "code",
   "execution_count": 252,
   "metadata": {
    "colab": {
     "base_uri": "https://localhost:8080/",
     "height": 458
    },
    "id": "7klCYY58InCr",
    "outputId": "5f56e166-a8cc-41c4-ca72-e210bbb6ae53"
   },
   "outputs": [
    {
     "data": {
      "image/png": "[encoded data removed]",
      "text/plain": [
       "<Figure size 1224x504 with 2 Axes>"
      ]
     },
     "metadata": {
      "needs_background": "light"
     },
     "output_type": "display_data"
    }
   ],
   "source": [
    "CLUSTERS = 6\n",
    "\n",
    "# Fit the model\n",
    "k_means = KMeans(n_clusters=CLUSTERS)\n",
    "k_means.fit(X)\n",
    "prediction = k_means.predict(X)\n",
    "centers = k_means.cluster_centers_\n",
    "\n",
    "# Plot the results\n",
    "fig = plt.figure(figsize = (17,7))\n",
    "colors = cm.get_cmap('Set2')\n",
    "\n",
    "# Scatter Plot\n",
    "plt.subplot(1, 2, 1)\n",
    "plt.scatter(X.iloc[:,0], X.iloc[:,1], c = colors(k_means.labels_), cmap=\"Set2\")\n",
    "plt.scatter(centers[:, 0], centers[:, 1], c='black', s=100, alpha=1, marker='X')\n",
    "plt.title('k-Means Cluster Analysis Results')\n",
    "plt.xlabel('Mean Return')\n",
    "plt.ylabel('Volatility')\n",
    "\n",
    "# Cluster Sizes\n",
    "plt.subplot(1, 2, 2)\n",
    "cluster_sizes = Counter(k_means.labels_)\n",
    "counts = sorted(cluster_sizes.items())\n",
    "x,y = [str(c[0]) for c in counts], [c[1] for c in counts]\n",
    "plt.bar(x=x, height=y, color = colors([int(i) for i in x]))\n",
    "plt.title('Clusters')\n",
    "plt.xlabel('Stocks per Cluster')\n",
    "plt.ylabel('Cluster Number')\n",
    "plt.show()\n"
   ]
  },
  {
   "cell_type": "markdown",
   "metadata": {
    "id": "0TRHmGH-pdeV"
   },
   "source": [
    "We might also be interested in the relative sizes of the clusters."
   ]
  },
  {
   "cell_type": "markdown",
   "metadata": {
    "id": "ZPjx1OcPpjDt"
   },
   "source": [
    "Just to experiment a little bit, let us see a few stocks in each cluster. They might give us intuition what is captured within each cluster."
   ]
  },
  {
   "cell_type": "code",
   "execution_count": 253,
   "metadata": {
    "colab": {
     "base_uri": "https://localhost:8080/"
    },
    "id": "ir9RCmQGpiv7",
    "outputId": "383481e6-3e1f-4683-e54a-8df9795273d5"
   },
   "outputs": [
    {
     "name": "stdout",
     "output_type": "stream",
     "text": [
      "Cluster 0: ['KMB' 'PSA' 'BWA' 'FLT' 'ABBV']\n",
      "Cluster 1: ['TDY' 'MGM' 'HPQ' 'FDX' 'MKTX']\n",
      "Cluster 2: ['FCX' 'OKE' 'OKE' 'OKE' 'OKE']\n",
      "Cluster 3: ['YUM' 'UPS' 'GD' 'COO' 'K']\n",
      "Cluster 4: ['VTRS' 'UAA' 'HWM' 'DXCM' 'ENPH']\n",
      "Cluster 5: ['DXC' 'APA' 'ZBRA' 'MPC' 'LNC']\n"
     ]
    }
   ],
   "source": [
    "ticker_to_cluster = pd.Series(index=X.index, data=k_means.labels_)\n",
    "for i in range(CLUSTERS):\n",
    "    print(\"Cluster {}: {}\".format(i, np.random.choice(ticker_to_cluster[ticker_to_cluster == i].index, 5)))"
   ]
  },
  {
   "cell_type": "markdown",
   "metadata": {
    "id": "szsjLOgPrLtS"
   },
   "source": [
    "In a previous version we explored other clustering algorithms but picked ```k-means``` due to its superior ```silhouette score```. This score is given by the simple formula\n",
    "\n",
    "$$\n",
    "\\text{silhouette_score} = \\frac{d_{inter}-d_{intra}}{\\max(d_{inter},d_{intra})},\n",
    "$$\n",
    "where $d_{inter}$ (resp., $d_{intra}$) denote the average inter (resp. intra)-cluster distance."
   ]
  },
  {
   "cell_type": "code",
   "execution_count": 254,
   "metadata": {
    "colab": {
     "base_uri": "https://localhost:8080/"
    },
    "id": "lEXCoQHDMkig",
    "outputId": "c73c4ae7-4f5c-48a9-f696-2d39cd875e53"
   },
   "outputs": [
    {
     "name": "stdout",
     "output_type": "stream",
     "text": [
      "k-Means: 0.36322877462680553\n"
     ]
    }
   ],
   "source": [
    "# Silhouette score for k-means\n",
    "# TODO ADD: предполагам който го чете ще го знае това, но дали да не сложим малко описание на тоя метрик\n",
    "print(\"k-Means:\", metrics.silhouette_score(X, k_means.labels_, metric='euclidean'))"
   ]
  },
  {
   "cell_type": "markdown",
   "metadata": {
    "id": "tsNqXzcF6F_A"
   },
   "source": [
    "# Finding cointegration pairs\n",
    "\n"
   ]
  },
  {
   "cell_type": "code",
   "execution_count": 255,
   "metadata": {
    "colab": {
     "base_uri": "https://localhost:8080/"
    },
    "id": "OUjpLZYF6f_q",
    "outputId": "3f2f3a24-1e2f-448c-bbf8-37903c0b56da"
   },
   "outputs": [
    {
     "name": "stdout",
     "output_type": "stream",
     "text": [
      "Number of clusters: 6\n",
      "Number of Pairs: 30714\n"
     ]
    }
   ],
   "source": [
    "counts = ticker_to_cluster.value_counts()\n",
    "print (\"Number of clusters: %d\" % len(counts))\n",
    "print (\"Number of Pairs: %d\" % ((counts-1)*counts//2).sum()) "
   ]
  },
  {
   "cell_type": "code",
   "execution_count": 290,
   "metadata": {
    "id": "kPE1V3hJ6Uj-"
   },
   "outputs": [],
   "source": [
    "def get_coint_pairs(ticker_data, significance=0.01):\n",
    "  '''Computes cointegrated pairs among tickers in ticker_data'''\n",
    "  N = ticker_data.shape[1]\n",
    "    \n",
    "  # We limit this since clusters are rather big\n",
    "  first_N = 15\n",
    "  pairs = []\n",
    "  tickers = ticker_data.keys()\n",
    "  for i in range(first_N):\n",
    "      for j in range(i+1, N):\n",
    "          t1 = ticker_data[tickers[i]]            \n",
    "          t2 = ticker_data[tickers[j]]\n",
    "          _, pval, _ = coint(t1, t2)\n",
    "          if pval < significance:\n",
    "              pairs.append((tickers[i], tickers[j]))\n",
    "  return pairs\n",
    "      \n",
    "def get_pairs_from_clusters(n_clusters, tikcer_to_cluster, data):\n",
    "  '''Computes cointegrated pairs for each cluster'''\n",
    "  cluster_lookup = {}\n",
    "  for cluster_ix in range(n_clusters):\n",
    "      tickers_in_cluster = ticker_to_cluster[ticker_to_cluster == cluster_ix].index\n",
    "      ticker_data = data[tickers_in_cluster]\n",
    "      pairs = get_coint_pairs(ticker_data)\n",
    "      cluster_lookup[cluster_ix] = pairs\n",
    "  return cluster_lookup       "
   ]
  },
  {
   "cell_type": "code",
   "execution_count": 291,
   "metadata": {
    "colab": {
     "base_uri": "https://localhost:8080/"
    },
    "id": "nP3UoCHZ9Fjc",
    "outputId": "9a772bde-ecdf-4ed6-ea2b-9abbc34f90e6"
   },
   "outputs": [
    {
     "name": "stdout",
     "output_type": "stream",
     "text": [
      "Total Pairs: 113\n"
     ]
    }
   ],
   "source": [
    "cluster_lookup = get_pairs_from_clusters(CLUSTERS, ticker_to_cluster, data)\n",
    "\n",
    "# Count Total Pairs\n",
    "pairs = []\n",
    "for ix in range(CLUSTERS):\n",
    "    pairs.extend(cluster_lookup[ix])\n",
    "print('Total Pairs: {}'.format(len(pairs)))"
   ]
  },
  {
   "cell_type": "code",
   "execution_count": 292,
   "metadata": {
    "colab": {
     "base_uri": "https://localhost:8080/",
     "height": 204
    },
    "id": "c96OsaBT6Y6q",
    "outputId": "00f302d4-5fe1-40aa-dffd-5de1ec7c9f2a"
   },
   "outputs": [
    {
     "data": {
      "text/html": [
       "<div>\n",
       "<style scoped>\n",
       "    .dataframe tbody tr th:only-of-type {\n",
       "        vertical-align: middle;\n",
       "    }\n",
       "\n",
       "    .dataframe tbody tr th {\n",
       "        vertical-align: top;\n",
       "    }\n",
       "\n",
       "    .dataframe thead th {\n",
       "        text-align: right;\n",
       "    }\n",
       "</style>\n",
       "<table border=\"1\" class=\"dataframe\">\n",
       "  <thead>\n",
       "    <tr style=\"text-align: right;\">\n",
       "      <th></th>\n",
       "      <th>returns</th>\n",
       "      <th>volatility</th>\n",
       "    </tr>\n",
       "  </thead>\n",
       "  <tbody>\n",
       "    <tr>\n",
       "      <th>A</th>\n",
       "      <td>-0.255</td>\n",
       "      <td>-0.331</td>\n",
       "    </tr>\n",
       "    <tr>\n",
       "      <th>AAPL</th>\n",
       "      <td>-0.254</td>\n",
       "      <td>-0.331</td>\n",
       "    </tr>\n",
       "    <tr>\n",
       "      <th>ABBV</th>\n",
       "      <td>-0.253</td>\n",
       "      <td>0.049</td>\n",
       "    </tr>\n",
       "    <tr>\n",
       "      <th>ADI</th>\n",
       "      <td>0.739</td>\n",
       "      <td>-0.318</td>\n",
       "    </tr>\n",
       "    <tr>\n",
       "      <th>ADM</th>\n",
       "      <td>0.504</td>\n",
       "      <td>0.218</td>\n",
       "    </tr>\n",
       "  </tbody>\n",
       "</table>\n",
       "</div>"
      ],
      "text/plain": [
       "      returns  volatility\n",
       "A      -0.255      -0.331\n",
       "AAPL   -0.254      -0.331\n",
       "ABBV   -0.253       0.049\n",
       "ADI     0.739      -0.318\n",
       "ADM     0.504       0.218"
      ]
     },
     "execution_count": 292,
     "metadata": {},
     "output_type": "execute_result"
    }
   ],
   "source": [
    "# Extract data for tickers in pairs\n",
    "tickers = np.unique(pairs)\n",
    "tickers_in_pairs = ticker_to_cluster.loc[tickers]\n",
    "X_pairs = X.T[tickers].T\n",
    "X_pairs.head()"
   ]
  },
  {
   "cell_type": "code",
   "execution_count": 293,
   "metadata": {
    "colab": {
     "base_uri": "https://localhost:8080/",
     "height": 482
    },
    "id": "3PsjRqaCBZSM",
    "outputId": "b3e46098-0c78-4ee1-a73f-d86fa82e01e4"
   },
   "outputs": [
    {
     "data": {
      "image/png": "[encoded data removed]",
      "text/plain": [
       "<Figure size 720x576 with 1 Axes>"
      ]
     },
     "metadata": {
      "needs_background": "light"
     },
     "output_type": "display_data"
    }
   ],
   "source": [
    "# Use TSNE for visualizations\n",
    "X_tsne = TSNE(learning_rate=30, perplexity=5, random_state=42, n_jobs=-1).fit_transform(X_pairs)\n",
    "\n",
    "plt.figure(figsize=(10,8))\n",
    "plt.axis('off')\n",
    "    \n",
    "plt.scatter(X_tsne[:, 0], X_tsne[:, 1], s=215, alpha=0.8, c=tickers_in_pairs.values, cmap='Set2')\n",
    "plt.title('TSNE Visualization of Pairs'); \n",
    "\n",
    "for x,y,name in zip(X_tsne[:,0], X_tsne[:,1], X_pairs.index):\n",
    "    plt.annotate(name, (x,y), textcoords=\"offset points\", xytext=(0,5))\n",
    "    \n",
    "plt.show()"
   ]
  },
  {
   "cell_type": "markdown",
   "metadata": {
    "id": "L3cHJKDBAh-M"
   },
   "source": [
    "# Trading strategy"
   ]
  },
  {
   "cell_type": "markdown",
   "metadata": {
    "id": "aoeNQnhO_5zn"
   },
   "source": [
    "For a pair of stocks A and B, we need evaluate the spread\n",
    "$$\n",
    "\\text{spread} = r_A - h_c*r_B,\n",
    "$$\n",
    "where $r_i$ is the return of the asset $i$, and $h_c$ is the hedge ratio, assumed constant. We calcuate $h_c$ using regression, so that this spread is as close to $0$ as possible."
   ]
  },
  {
   "cell_type": "markdown",
   "metadata": {
    "id": "tGxaGDi3S3NV"
   },
   "source": [
    "Recall that in a simple linear correlation of the form\n",
    "$ Y= \\alpha + \\beta X+\\varepsilon,$ \n",
    "we have that $\\beta$ is given by: \n",
    "$$\\beta = \\text{cov}(X,Y)/\\text{var}(X).$$"
   ]
  },
  {
   "cell_type": "code",
   "execution_count": 294,
   "metadata": {
    "id": "g2H8LxodO56i"
   },
   "outputs": [],
   "source": [
    "def calculate_hedge_ratio(ticker_a, ticker_b, data):\n",
    "    t_a = data[ticker_a].pct_change()\n",
    "    t_b = data[ticker_b].pct_change()\n",
    "    beta = (t_a.cov(t_b))/pd.Series.var(t_b)\n",
    "    return beta"
   ]
  },
  {
   "cell_type": "markdown",
   "metadata": {
    "id": "H_-Lt4WwFTUZ"
   },
   "source": [
    "Let's see them also in parallel."
   ]
  },
  {
   "cell_type": "code",
   "execution_count": 295,
   "metadata": {
    "colab": {
     "base_uri": "https://localhost:8080/",
     "height": 776
    },
    "id": "QYlw5uz3vzwG",
    "outputId": "b42795ea-31c7-472d-be10-6443c86fbfa8"
   },
   "outputs": [
    {
     "data": {
      "image/png": "[encoded data removed]",
      "text/plain": [
       "<Figure size 1080x864 with 1 Axes>"
      ]
     },
     "metadata": {
      "needs_background": "light"
     },
     "output_type": "display_data"
    },
    {
     "data": {
      "image/png": "[encoded data removed]",
      "text/plain": [
       "<Figure size 1080x864 with 1 Axes>"
      ]
     },
     "metadata": {
      "needs_background": "light"
     },
     "output_type": "display_data"
    },
    {
     "data": {
      "image/png": "[encoded data removed]",
      "text/plain": [
       "<Figure size 1080x864 with 1 Axes>"
      ]
     },
     "metadata": {
      "needs_background": "light"
     },
     "output_type": "display_data"
    }
   ],
   "source": [
    "for ix, t in enumerate(pairs[:3]):\n",
    "    ticker1, ticker2 = t\n",
    "    df1 = data[ticker1]\n",
    "    df2 = data[ticker2]\n",
    "    \n",
    "    fig = plt.figure(figsize= (15,12))\n",
    "    plt.subplot(3,1, ix+1)\n",
    "    plt.plot(range(len(df1)), df1, 'm-')\n",
    "    plt.plot(range(len(df2)), df2, 'g-')\n",
    "    plt.xlabel('Days')\n",
    "    plt.ylabel( \"Pair: ({}, {})\".format(ticker1, ticker2))\n",
    "    plt.title('Prices')\n",
    "    plt.grid()\n",
    "plt.show()"
   ]
  },
  {
   "cell_type": "markdown",
   "metadata": {
    "id": "jfIsH9wVg1jW"
   },
   "source": [
    "In comparison, if we pick two random stocks in the index their residuals look like this"
   ]
  },
  {
   "cell_type": "code",
   "execution_count": 296,
   "metadata": {
    "colab": {
     "base_uri": "https://localhost:8080/",
     "height": 350
    },
    "id": "Q0nxuVEFXzMT",
    "outputId": "a89179a2-f6d0-4eea-9641-7fcfa02c2b40"
   },
   "outputs": [
    {
     "data": {
      "image/png": "[encoded data removed]",
      "text/plain": [
       "<Figure size 1080x360 with 1 Axes>"
      ]
     },
     "metadata": {
      "needs_background": "light"
     },
     "output_type": "display_data"
    }
   ],
   "source": [
    "ticker1, ticker2 = np.random.choice(data.columns, 2)\n",
    "rand_df1 = data[ticker1]\n",
    "rand_df2 = data[ticker2]\n",
    "\n",
    "fig = plt.figure(figsize= (15, 5))\n",
    "plt.plot(range(len(rand_df1)), rand_df1 , 'g-')\n",
    "plt.plot(range(len(rand_df2)), rand_df2 , 'm-')\n",
    "plt.xlabel('Days')\n",
    "plt.ylabel( \"Pair: ({}, {})\".format(ticker1, ticker2))\n",
    "plt.title('Random Stocks (aug. Engle-Granger:{})'.format(\n",
    "    np.around(coint(rand_df1,rand_df2)[1], 4)\n",
    "))\n",
    "plt.grid()\n",
    "plt.show()\n"
   ]
  },
  {
   "cell_type": "markdown",
   "metadata": {
    "id": "UCP89kWIwE-1"
   },
   "source": [
    "### Implementing the strategy \n"
   ]
  },
  {
   "cell_type": "markdown",
   "metadata": {
    "id": "u3B4kYTWw74z"
   },
   "source": [
    "For each pair we evaluate the z-score\n",
    "\n",
    "$$\n",
    "z = \\frac{r_i - \\mu_i}{\\hat{\\sigma}},\n",
    "$$\n",
    "\n",
    "where both the mean and the standard deviation are the rolling-estimates for ```LOOKBACK_PERIOD``` periods. \n",
    "\n"
   ]
  },
  {
   "cell_type": "code",
   "execution_count": 297,
   "metadata": {
    "id": "Gd5OQp-0xazr"
   },
   "outputs": [],
   "source": [
    "# Set Hyperparameters\n",
    "LOOKBACK_PERIOD = 21\n",
    "FLOOR = -1\n",
    "CEIL = 1\n",
    "EXIT = 2.2\n",
    "\n",
    "#Add Stop Loss \n",
    "MAX_PERCENTAGE_LOSS = 50\n",
    "\n",
    "# TODO\n",
    "INTEREST_RATE = 0.0008"
   ]
  },
  {
   "cell_type": "code",
   "execution_count": 298,
   "metadata": {
    "id": "o53ueiXf4Hcu"
   },
   "outputs": [],
   "source": [
    "def create_spread(ticker_a, ticker_b,data):\n",
    "  df1 = data[ticker_a]\n",
    "  df2 = data[ticker_b]\n",
    "  df = pd.DataFrame(index = df1.index)\n",
    "  df['X'] = df1\n",
    "  df['Y'] = df2\n",
    "\n",
    "  # computing the hedge ratio (beta of the strategy)\n",
    "  # EDIT: тук добавих min_periods защото иначе за първите 21 неща нямаше data и го правеше nan\n",
    "  # което не правеше проблем преди но с този dataset прави\n",
    "  df['cov'] = df.rolling(LOOKBACK_PERIOD).cov().unstack()['X']['Y']\n",
    "  df['var'] = df['Y'].rolling(LOOKBACK_PERIOD).var()\n",
    "  df['Hedge ratio'] = df['cov']/df['var']\n",
    "\n",
    "  # column with spread\n",
    "  df['Spread'] = df['X'] - df['Hedge ratio']*df['Y']\n",
    "  return df\n"
   ]
  },
  {
   "cell_type": "code",
   "execution_count": 299,
   "metadata": {
    "id": "znPU1-MBRpOQ"
   },
   "outputs": [],
   "source": [
    "def long_short_strat(ticker_a, ticker_b, data):\n",
    "  df = create_spread(ticker_a, ticker_b, data)\n",
    "  df['Z-score'] = (df['Spread'] - df['Spread'].rolling(LOOKBACK_PERIOD).mean())\\\n",
    "                  /(df['Spread'].rolling(LOOKBACK_PERIOD).std())\n",
    "\n",
    "  # Buy vs Sell signals\n",
    "  df['Long'] =  (df['Z-score'] < FLOOR)*1\n",
    "  df['Short']= (df['Z-score'] > CEIL)*1\n",
    "  df['Exit'] = (np.abs(df['Z-score'])>EXIT)*1\n",
    "  \n",
    "  df['In Long'] = (((df['Long'] == 1) & (~(df['Exit'] == 1))))*1\n",
    "  df['In Short'] = (((df['Short'] == 1) & (~(df['Exit'] == 1))))*1\n",
    "\n",
    "  return df\n"
   ]
  },
  {
   "cell_type": "code",
   "execution_count": 300,
   "metadata": {
    "id": "6DvHHa5oQ_ZM"
   },
   "outputs": [],
   "source": [
    "def compute_returns(investment, ticker_a, ticker_b, data):\n",
    "    df = long_short_strat(ticker_a, ticker_b, data)\n",
    "    portfolio = pd.DataFrame(index = df.index)\n",
    "\n",
    "    portfolio['Positions'] = df['In Long'] - df['In Short']\n",
    "    portfolio['X'] = -1.0 * df['X'] * portfolio['Positions']\n",
    "    portfolio['Y'] = df['Y'] * portfolio['Positions']\n",
    "    portfolio['Total']= portfolio['X'] + portfolio['Y']\n",
    "\n",
    "    # Show percentage returns\n",
    "    portfolio['Returns']= portfolio['Total'].pct_change()\n",
    "    portfolio['Returns'].fillna(0.0, inplace = True)\n",
    "    portfolio['Returns'].replace([np.inf, -np.inf], 0.0, inplace = True)\n",
    "    portfolio['Returns'].replace(-1.0, 0.0, inplace = True)\n",
    "    \n",
    "    # Equity curve\n",
    "    portfolio['Returns'] = (1.0 + portfolio['Returns']).cumprod()\n",
    "    \n",
    "    # EDIT: тук как променяме sharpe ratio-то по-долу?\n",
    "    # (в случай, че сме излезли от позицията)\n",
    "    mu = portfolio['Returns'].mean()\n",
    "    sigma = portfolio['Returns'].std()\n",
    "    sharpe = np.sqrt(250)*((mu)/sigma) - INTEREST_RATE\n",
    "    \n",
    "    # EDIT: тук деля на 100,  че беше *100 (realno kak go smqtame tova :D)\n",
    "    # ще сменя формулата защото тази дава 2000% ако не деля на 100 и \n",
    "    # ако сме много under и накрая се вдигнем нагоре пак ще го изкара отрицателно\n",
    "    # returns_to_date = mu*len(portfolio.index)/100\n",
    "    \n",
    "    \n",
    "    \n",
    "    # Calculate if Stop Loss Condition has been met\n",
    "    loss_indices = portfolio[portfolio['Returns'] <= MAX_PERCENTAGE_LOSS/100].index\n",
    "    if loss_indices.any():\n",
    "        terminate_after = min(loss_indices)\n",
    "        portfolio.at[terminate_after:, 'Returns'] = MAX_PERCENTAGE_LOSS/100\n",
    "#         returns_to_date = -MAX_PERCENTAGE_LOSS/100 # с новата формула нямаме нужда от това\n",
    "    \n",
    "    \n",
    "    \n",
    "    # Calculate Portfolio\n",
    "    portfolio['Trade Returns'] = portfolio['Total'].pct_change()\n",
    "    portfolio['Portfolio Value'] = investment*portfolio['Returns']\n",
    "    portfolio['Portfolio Returns'] = portfolio['Portfolio Value'].pct_change()\n",
    "    portfolio['Initial Value'] = investment\n",
    "    \n",
    "    returns_to_date = ((portfolio['Portfolio Value'][-1] - investment)/investment)*100\n",
    "  \n",
    "\n",
    "    with plt.style.context(['bmh', 'seaborn-paper']):\n",
    "        fig = plt.figure(figsize= (15,5))\n",
    "        plt.plot(portfolio['Portfolio Value'])\n",
    "        plt.plot(portfolio['Initial Value'])\n",
    "        plt.title(\"Pair ({},{}), Profit to Date: {}%, Sharpe Ratio: {}\".format(\n",
    "                  ticker_a,\n",
    "                  ticker_b,\n",
    "                  np.around(returns_to_date, 2),\n",
    "                  np.around(sharpe, 2)\n",
    "                  ))\n",
    "        plt.xticks([])\n",
    "        plt.show()\n",
    "    return \n",
    "\n"
   ]
  },
  {
   "cell_type": "markdown",
   "metadata": {
    "id": "Z2Ok-h_BvbIe"
   },
   "source": [
    "### Computing the returns"
   ]
  },
  {
   "cell_type": "code",
   "execution_count": 301,
   "metadata": {
    "colab": {
     "base_uri": "https://localhost:8080/",
     "height": 820
    },
    "id": "TsNhA9S6HGq2",
    "outputId": "96a18f65-dcef-4efe-b751-bce057f93cb3"
   },
   "outputs": [
    {
     "data": {
      "image/png": "[encoded data removed]",
      "text/plain": [
       "<Figure size 1080x360 with 1 Axes>"
      ]
     },
     "metadata": {
      "needs_background": "light"
     },
     "output_type": "display_data"
    },
    {
     "data": {
      "image/png": "[encoded data removed]",
      "text/plain": [
       "<Figure size 1080x360 with 1 Axes>"
      ]
     },
     "metadata": {
      "needs_background": "light"
     },
     "output_type": "display_data"
    },
    {
     "data": {
      "image/png": "[encoded data removed]",
      "text/plain": [
       "<Figure size 1080x360 with 1 Axes>"
      ]
     },
     "metadata": {
      "needs_background": "light"
     },
     "output_type": "display_data"
    }
   ],
   "source": [
    "for stock1, stock2 in pairs[:3]: \n",
    "    compute_returns(1000000,stock1,stock2, data)"
   ]
  },
  {
   "cell_type": "markdown",
   "metadata": {
    "id": "AkP9eUo_vA64"
   },
   "source": [
    "As a benchmark of the performance, we attempt our strategy on a random pair in the S&P500 index."
   ]
  },
  {
   "cell_type": "code",
   "execution_count": 302,
   "metadata": {
    "colab": {
     "base_uri": "https://localhost:8080/",
     "height": 284
    },
    "id": "ViYrLYwZvIEm",
    "outputId": "8514b495-a8ed-4c3c-c91f-bfe558def553"
   },
   "outputs": [
    {
     "data": {
      "image/png": "[encoded data removed]",
      "text/plain": [
       "<Figure size 1080x360 with 1 Axes>"
      ]
     },
     "metadata": {
      "needs_background": "light"
     },
     "output_type": "display_data"
    }
   ],
   "source": [
    "rand_ticker1, rand_ticker2 = np.random.choice(test_data.columns, 2)\n",
    "compute_returns(1000000, rand_ticker1, rand_ticker2, test_data)"
   ]
  },
  {
   "cell_type": "code",
   "execution_count": 303,
   "metadata": {
    "colab": {
     "base_uri": "https://localhost:8080/",
     "height": 284
    },
    "id": "izHxDOyQXhZT",
    "outputId": "bfa59252-d526-45fe-c322-8d5c8aee0905"
   },
   "outputs": [
    {
     "data": {
      "image/png": "[encoded data removed]",
      "text/plain": [
       "<Figure size 1080x360 with 1 Axes>"
      ]
     },
     "metadata": {
      "needs_background": "light"
     },
     "output_type": "display_data"
    }
   ],
   "source": [
    "compute_returns(1000000, 'EXR', 'DOV', test_data)"
   ]
  },
  {
   "cell_type": "markdown",
   "metadata": {
    "id": "_dMZiQ6AyY6j"
   },
   "source": [
    "Remark: Really weird result on (EXR, DOV)"
   ]
  },
  {
   "cell_type": "markdown",
   "metadata": {
    "id": "9ZZDntVp5oyw"
   },
   "source": [
    "# Adding Bid Ask Spread\n",
    "\n",
    "Here we incorporate Bid-Ask Spread. \n",
    "\n"
   ]
  },
  {
   "cell_type": "markdown",
   "metadata": {
    "id": "hz-ZmrU_cSA2"
   },
   "source": [
    "## Estimating bid-ask spread without intraday information\n",
    "\n",
    "In this section, we include an algorithm that estimates the size of the bid-ask spread of a stock's price given only daily date. We follow [Corwin and Schultz (2012)](https://onlinelibrary.wiley.com/doi/full/10.1111/j.1540-6261.2012.01729.x) (CS) method for estimating volatilities and bid-ask spreads from OHLCV data."
   ]
  },
  {
   "cell_type": "markdown",
   "metadata": {
    "id": "im-93vi0dfOQ"
   },
   "source": [
    "### Mathematical details\n",
    "\n",
    "We just provide few mathematical details illustrating the CS method. The estimator used is High-Low estimator, which is asssumed to combine information about volatity of the stock and its bid ask-spread. The main underlying assumptions, which allow to estimate these two contributions, are\n",
    "\n",
    "* daily high (resp. low) prices are buyer (resp. seller) - initiated trades.\n",
    "* high-low price variance's component in High-Low grows proportionately to the length of the trading interval, while bid-ask does not.\n",
    "\n",
    "To leverage the second property, CS uses 2-day period. Introduce the notation:\n",
    "\n",
    "* $S$ - spread, assumed constant over 2-day periods. This means that for each transaction on a stock bought (resp. sold), we pay (resp. gain) $S/2$% 'extra' (resp. 'less). \n",
    "* $\\beta$ - the expected squared return over a 2-day period:\n",
    "\n",
    "$$\n",
    "  \\mathbb{E}\\Big[\\ln^2\\frac{H_t}{L_t} + \\ln^2\\frac{H_{t+1}}{L_{t+1}}\\Big] ,\n",
    "$$\n",
    "where $H_t$ and $L_t$ are the observed prices at time period $t$.\n",
    "\n",
    "* Let $\\alpha$ be given by \n",
    "$$\n",
    "\\alpha = \\frac{\\sqrt{2\\beta}-\\sqrt{\\beta}}{3-2\\sqrt{2}} - \\sqrt{\\frac{\\gamma}{3-2\\sqrt{2}}},\n",
    "$$\n",
    "where $\\gamma$ is the \"max-min return\" squared over a two day-period:\n",
    "$$\n",
    "\\gamma  = \\ln^2 \\Big(\\frac{\\max(H_{t},H_{t+1})}{\\max(L_{t},L_{t+1})}\\Big)\n",
    "$$\n",
    "\n",
    "Then, under some assumptions, Corwin and Schultz propose that \n",
    "$$\n",
    "S =2\\frac{e^{\\alpha}-1}{1+e^\\alpha}.\n",
    "$$\n",
    "\n",
    "Despite indimidating-looking, the formula for $\\alpha$ is convenient since it is closed form and allows for direct substitution for $S$.\n"
   ]
  },
  {
   "cell_type": "markdown",
   "metadata": {
    "id": "CV91tanziVQD"
   },
   "source": [
    "### Estimating the parameters of the spread\n",
    "\n",
    "For $\\beta$, we estimate the average as a rolling average for a 30-day period (monthly), i.e. 21 trading days. We incorporate a few of the adjustments of Corwin and Schultz, namely\n",
    "\n",
    "* To account for overnight changes in price, we adjust as follows:\n",
    " 1. If $L_{t+1}>H_t$, we decrease both $H_{t+1}$ and $L_{t+1}$ by $L_{t+1}-H_t$\n",
    " 2. If $L_t>H_{t+1}$, we increase both $H_{t+1}$ and $L_{t+1}$ by $L_{t}-H_{t+1}$.\n",
    "\n",
    "* All negative 2-day spreads are set to zero before calculating monthly averages. This occurs when $\\alpha<0$. For example, thi is if the observed 2-day variance is more than twice as large as the single day one, traditionally when there is a lot of volatility in the markets.\n",
    " \n"
   ]
  },
  {
   "cell_type": "code",
   "execution_count": 304,
   "metadata": {
    "colab": {
     "base_uri": "https://localhost:8080/",
     "height": 400
    },
    "id": "IGDdetJM_sic",
    "outputId": "f8cdf6ce-a0b7-40b5-9d45-a2661c0e90d8"
   },
   "outputs": [
    {
     "data": {
      "text/html": [
       "<div>\n",
       "<style scoped>\n",
       "    .dataframe tbody tr th:only-of-type {\n",
       "        vertical-align: middle;\n",
       "    }\n",
       "\n",
       "    .dataframe tbody tr th {\n",
       "        vertical-align: top;\n",
       "    }\n",
       "\n",
       "    .dataframe thead tr th {\n",
       "        text-align: left;\n",
       "    }\n",
       "\n",
       "    .dataframe thead tr:last-of-type th {\n",
       "        text-align: right;\n",
       "    }\n",
       "</style>\n",
       "<table border=\"1\" class=\"dataframe\">\n",
       "  <thead>\n",
       "    <tr>\n",
       "      <th></th>\n",
       "      <th colspan=\"10\" halign=\"left\">high</th>\n",
       "      <th>...</th>\n",
       "      <th colspan=\"10\" halign=\"left\">low</th>\n",
       "    </tr>\n",
       "    <tr>\n",
       "      <th>ticker</th>\n",
       "      <th>A</th>\n",
       "      <th>AAL</th>\n",
       "      <th>AAP</th>\n",
       "      <th>AAPL</th>\n",
       "      <th>ABBV</th>\n",
       "      <th>ABC</th>\n",
       "      <th>ABMD</th>\n",
       "      <th>ABT</th>\n",
       "      <th>ACN</th>\n",
       "      <th>ADBE</th>\n",
       "      <th>...</th>\n",
       "      <th>XEL</th>\n",
       "      <th>XLNX</th>\n",
       "      <th>XOM</th>\n",
       "      <th>XRAY</th>\n",
       "      <th>XYL</th>\n",
       "      <th>YUM</th>\n",
       "      <th>ZBH</th>\n",
       "      <th>ZBRA</th>\n",
       "      <th>ZION</th>\n",
       "      <th>ZTS</th>\n",
       "    </tr>\n",
       "    <tr>\n",
       "      <th>date</th>\n",
       "      <th></th>\n",
       "      <th></th>\n",
       "      <th></th>\n",
       "      <th></th>\n",
       "      <th></th>\n",
       "      <th></th>\n",
       "      <th></th>\n",
       "      <th></th>\n",
       "      <th></th>\n",
       "      <th></th>\n",
       "      <th></th>\n",
       "      <th></th>\n",
       "      <th></th>\n",
       "      <th></th>\n",
       "      <th></th>\n",
       "      <th></th>\n",
       "      <th></th>\n",
       "      <th></th>\n",
       "      <th></th>\n",
       "      <th></th>\n",
       "      <th></th>\n",
       "    </tr>\n",
       "  </thead>\n",
       "  <tbody>\n",
       "    <tr>\n",
       "      <th>2016-01-04</th>\n",
       "      <td>41.19</td>\n",
       "      <td>41.35</td>\n",
       "      <td>154.48</td>\n",
       "      <td>26.343</td>\n",
       "      <td>58.32</td>\n",
       "      <td>102.64</td>\n",
       "      <td>89.42</td>\n",
       "      <td>44.05</td>\n",
       "      <td>102.65</td>\n",
       "      <td>92.00</td>\n",
       "      <td>...</td>\n",
       "      <td>35.39</td>\n",
       "      <td>45.36</td>\n",
       "      <td>76.46</td>\n",
       "      <td>58.29</td>\n",
       "      <td>35.60</td>\n",
       "      <td>50.784</td>\n",
       "      <td>100.17</td>\n",
       "      <td>65.62</td>\n",
       "      <td>26.23</td>\n",
       "      <td>46.75</td>\n",
       "    </tr>\n",
       "    <tr>\n",
       "      <th>2016-01-05</th>\n",
       "      <td>40.95</td>\n",
       "      <td>41.49</td>\n",
       "      <td>153.79</td>\n",
       "      <td>26.462</td>\n",
       "      <td>58.25</td>\n",
       "      <td>103.40</td>\n",
       "      <td>87.30</td>\n",
       "      <td>43.20</td>\n",
       "      <td>102.87</td>\n",
       "      <td>92.85</td>\n",
       "      <td>...</td>\n",
       "      <td>35.19</td>\n",
       "      <td>45.61</td>\n",
       "      <td>76.92</td>\n",
       "      <td>58.90</td>\n",
       "      <td>35.51</td>\n",
       "      <td>51.265</td>\n",
       "      <td>101.60</td>\n",
       "      <td>64.62</td>\n",
       "      <td>26.24</td>\n",
       "      <td>47.28</td>\n",
       "    </tr>\n",
       "    <tr>\n",
       "      <th>2016-01-06</th>\n",
       "      <td>40.99</td>\n",
       "      <td>41.70</td>\n",
       "      <td>150.05</td>\n",
       "      <td>25.593</td>\n",
       "      <td>57.56</td>\n",
       "      <td>102.64</td>\n",
       "      <td>87.13</td>\n",
       "      <td>42.98</td>\n",
       "      <td>103.06</td>\n",
       "      <td>91.50</td>\n",
       "      <td>...</td>\n",
       "      <td>35.74</td>\n",
       "      <td>45.17</td>\n",
       "      <td>76.59</td>\n",
       "      <td>58.85</td>\n",
       "      <td>35.22</td>\n",
       "      <td>50.913</td>\n",
       "      <td>102.37</td>\n",
       "      <td>61.55</td>\n",
       "      <td>25.47</td>\n",
       "      <td>47.26</td>\n",
       "    </tr>\n",
       "    <tr>\n",
       "      <th>2016-01-07</th>\n",
       "      <td>40.15</td>\n",
       "      <td>41.52</td>\n",
       "      <td>149.46</td>\n",
       "      <td>25.032</td>\n",
       "      <td>57.84</td>\n",
       "      <td>101.15</td>\n",
       "      <td>84.88</td>\n",
       "      <td>42.18</td>\n",
       "      <td>100.84</td>\n",
       "      <td>91.40</td>\n",
       "      <td>...</td>\n",
       "      <td>36.06</td>\n",
       "      <td>43.74</td>\n",
       "      <td>75.90</td>\n",
       "      <td>58.04</td>\n",
       "      <td>34.49</td>\n",
       "      <td>49.375</td>\n",
       "      <td>101.43</td>\n",
       "      <td>58.11</td>\n",
       "      <td>24.81</td>\n",
       "      <td>46.29</td>\n",
       "    </tr>\n",
       "    <tr>\n",
       "      <th>2016-01-08</th>\n",
       "      <td>39.71</td>\n",
       "      <td>41.36</td>\n",
       "      <td>149.44</td>\n",
       "      <td>24.778</td>\n",
       "      <td>57.81</td>\n",
       "      <td>99.51</td>\n",
       "      <td>85.71</td>\n",
       "      <td>41.90</td>\n",
       "      <td>99.81</td>\n",
       "      <td>89.99</td>\n",
       "      <td>...</td>\n",
       "      <td>36.08</td>\n",
       "      <td>42.84</td>\n",
       "      <td>74.50</td>\n",
       "      <td>56.89</td>\n",
       "      <td>34.28</td>\n",
       "      <td>48.864</td>\n",
       "      <td>101.37</td>\n",
       "      <td>58.97</td>\n",
       "      <td>24.55</td>\n",
       "      <td>45.65</td>\n",
       "    </tr>\n",
       "  </tbody>\n",
       "</table>\n",
       "<p>5 rows × 994 columns</p>\n",
       "</div>"
      ],
      "text/plain": [
       "             high                                                              \\\n",
       "ticker          A    AAL     AAP    AAPL   ABBV     ABC   ABMD    ABT     ACN   \n",
       "date                                                                            \n",
       "2016-01-04  41.19  41.35  154.48  26.343  58.32  102.64  89.42  44.05  102.65   \n",
       "2016-01-05  40.95  41.49  153.79  26.462  58.25  103.40  87.30  43.20  102.87   \n",
       "2016-01-06  40.99  41.70  150.05  25.593  57.56  102.64  87.13  42.98  103.06   \n",
       "2016-01-07  40.15  41.52  149.46  25.032  57.84  101.15  84.88  42.18  100.84   \n",
       "2016-01-08  39.71  41.36  149.44  24.778  57.81   99.51  85.71  41.90   99.81   \n",
       "\n",
       "                   ...    low                                              \\\n",
       "ticker       ADBE  ...    XEL   XLNX    XOM   XRAY    XYL     YUM     ZBH   \n",
       "date               ...                                                      \n",
       "2016-01-04  92.00  ...  35.39  45.36  76.46  58.29  35.60  50.784  100.17   \n",
       "2016-01-05  92.85  ...  35.19  45.61  76.92  58.90  35.51  51.265  101.60   \n",
       "2016-01-06  91.50  ...  35.74  45.17  76.59  58.85  35.22  50.913  102.37   \n",
       "2016-01-07  91.40  ...  36.06  43.74  75.90  58.04  34.49  49.375  101.43   \n",
       "2016-01-08  89.99  ...  36.08  42.84  74.50  56.89  34.28  48.864  101.37   \n",
       "\n",
       "                                 \n",
       "ticker       ZBRA   ZION    ZTS  \n",
       "date                             \n",
       "2016-01-04  65.62  26.23  46.75  \n",
       "2016-01-05  64.62  26.24  47.28  \n",
       "2016-01-06  61.55  25.47  47.26  \n",
       "2016-01-07  58.11  24.81  46.29  \n",
       "2016-01-08  58.97  24.55  45.65  \n",
       "\n",
       "[5 rows x 994 columns]"
      ]
     },
     "execution_count": 304,
     "metadata": {},
     "output_type": "execute_result"
    }
   ],
   "source": [
    "raw_data.head(5)"
   ]
  },
  {
   "cell_type": "code",
   "execution_count": 305,
   "metadata": {
    "id": "7sU925Zj_sdd"
   },
   "outputs": [],
   "source": [
    "# Get daily High/Low\n",
    "raw_inpairs_high = raw_data['high'][data.columns]\n",
    "raw_inpairs_low = raw_data['low'][data.columns]"
   ]
  },
  {
   "cell_type": "code",
   "execution_count": 306,
   "metadata": {
    "id": "0mIRe2iJ_sZW"
   },
   "outputs": [],
   "source": [
    "# Adjust Prices according to conditions 1. and 2.\n",
    "raw_inpairs_adj_low = raw_inpairs_low.copy()\n",
    "raw_inpairs_adj_high = raw_inpairs_high.copy()\n",
    "\n",
    "for ix in range(len(raw_inpairs_low)-1):\n",
    "    rows_cond1 = raw_inpairs_low.iloc[ix][raw_inpairs_low.iloc[ix+1] > raw_inpairs_high.iloc[ix]].index\n",
    "    rows_cond2 = raw_inpairs_low.iloc[ix][raw_inpairs_low.iloc[ix] > raw_inpairs_high.iloc[ix+1]].index\n",
    "    \n",
    "    raw_inpairs_adj_low.iloc[ix+1][rows_cond1] -= (raw_inpairs_low.iloc[ix+1] - raw_inpairs_high.iloc[ix])[rows_cond1]\n",
    "    raw_inpairs_adj_high.iloc[ix+1][rows_cond1] -= (raw_inpairs_low.iloc[ix+1] - raw_inpairs_high.iloc[ix])[rows_cond1]\n",
    "    \n",
    "    raw_inpairs_adj_low.iloc[ix+1][rows_cond1] += (raw_inpairs_low.iloc[ix] - raw_inpairs_high.iloc[ix+1])[rows_cond1]\n",
    "    raw_inpairs_adj_high.iloc[ix+1][rows_cond1] += (raw_inpairs_low.iloc[ix] - raw_inpairs_high.iloc[ix+1])[rows_cond1]\n"
   ]
  },
  {
   "cell_type": "code",
   "execution_count": 307,
   "metadata": {
    "colab": {
     "base_uri": "https://localhost:8080/",
     "height": 369
    },
    "id": "VcEoYbUp_sPb",
    "outputId": "371fde28-0492-4b84-a059-02c2352bd548"
   },
   "outputs": [
    {
     "data": {
      "text/html": [
       "<div>\n",
       "<style scoped>\n",
       "    .dataframe tbody tr th:only-of-type {\n",
       "        vertical-align: middle;\n",
       "    }\n",
       "\n",
       "    .dataframe tbody tr th {\n",
       "        vertical-align: top;\n",
       "    }\n",
       "\n",
       "    .dataframe thead th {\n",
       "        text-align: right;\n",
       "    }\n",
       "</style>\n",
       "<table border=\"1\" class=\"dataframe\">\n",
       "  <thead>\n",
       "    <tr style=\"text-align: right;\">\n",
       "      <th></th>\n",
       "      <th>A</th>\n",
       "      <th>AAL</th>\n",
       "      <th>AAP</th>\n",
       "      <th>AAPL</th>\n",
       "      <th>ABBV</th>\n",
       "      <th>ABC</th>\n",
       "      <th>ABMD</th>\n",
       "      <th>ABT</th>\n",
       "      <th>ACN</th>\n",
       "      <th>ADBE</th>\n",
       "      <th>...</th>\n",
       "      <th>WYNN</th>\n",
       "      <th>XEL</th>\n",
       "      <th>XLNX</th>\n",
       "      <th>XOM</th>\n",
       "      <th>XYL</th>\n",
       "      <th>YUM</th>\n",
       "      <th>ZBH</th>\n",
       "      <th>ZBRA</th>\n",
       "      <th>ZION</th>\n",
       "      <th>ZTS</th>\n",
       "    </tr>\n",
       "    <tr>\n",
       "      <th>date</th>\n",
       "      <th></th>\n",
       "      <th></th>\n",
       "      <th></th>\n",
       "      <th></th>\n",
       "      <th></th>\n",
       "      <th></th>\n",
       "      <th></th>\n",
       "      <th></th>\n",
       "      <th></th>\n",
       "      <th></th>\n",
       "      <th></th>\n",
       "      <th></th>\n",
       "      <th></th>\n",
       "      <th></th>\n",
       "      <th></th>\n",
       "      <th></th>\n",
       "      <th></th>\n",
       "      <th></th>\n",
       "      <th></th>\n",
       "      <th></th>\n",
       "      <th></th>\n",
       "    </tr>\n",
       "  </thead>\n",
       "  <tbody>\n",
       "    <tr>\n",
       "      <th>2016-02-04</th>\n",
       "      <td>0.002</td>\n",
       "      <td>0.005</td>\n",
       "      <td>0.003</td>\n",
       "      <td>0.002</td>\n",
       "      <td>0.005</td>\n",
       "      <td>9.215e-04</td>\n",
       "      <td>0.004</td>\n",
       "      <td>0.002</td>\n",
       "      <td>0.001</td>\n",
       "      <td>0.002</td>\n",
       "      <td>...</td>\n",
       "      <td>0.011</td>\n",
       "      <td>0.001</td>\n",
       "      <td>0.002</td>\n",
       "      <td>0.002</td>\n",
       "      <td>0.001</td>\n",
       "      <td>0.001</td>\n",
       "      <td>0.002</td>\n",
       "      <td>0.005</td>\n",
       "      <td>0.003</td>\n",
       "      <td>0.002</td>\n",
       "    </tr>\n",
       "    <tr>\n",
       "      <th>2016-02-05</th>\n",
       "      <td>0.002</td>\n",
       "      <td>0.005</td>\n",
       "      <td>0.002</td>\n",
       "      <td>0.002</td>\n",
       "      <td>0.005</td>\n",
       "      <td>1.291e-03</td>\n",
       "      <td>0.004</td>\n",
       "      <td>0.002</td>\n",
       "      <td>0.001</td>\n",
       "      <td>0.002</td>\n",
       "      <td>...</td>\n",
       "      <td>0.011</td>\n",
       "      <td>0.002</td>\n",
       "      <td>0.002</td>\n",
       "      <td>0.002</td>\n",
       "      <td>0.002</td>\n",
       "      <td>0.001</td>\n",
       "      <td>0.002</td>\n",
       "      <td>0.005</td>\n",
       "      <td>0.004</td>\n",
       "      <td>0.002</td>\n",
       "    </tr>\n",
       "    <tr>\n",
       "      <th>2016-02-08</th>\n",
       "      <td>0.002</td>\n",
       "      <td>0.005</td>\n",
       "      <td>0.002</td>\n",
       "      <td>0.002</td>\n",
       "      <td>0.006</td>\n",
       "      <td>1.723e-03</td>\n",
       "      <td>0.005</td>\n",
       "      <td>0.002</td>\n",
       "      <td>0.001</td>\n",
       "      <td>0.002</td>\n",
       "      <td>...</td>\n",
       "      <td>0.010</td>\n",
       "      <td>0.002</td>\n",
       "      <td>0.002</td>\n",
       "      <td>0.002</td>\n",
       "      <td>0.002</td>\n",
       "      <td>0.002</td>\n",
       "      <td>0.002</td>\n",
       "      <td>0.005</td>\n",
       "      <td>0.004</td>\n",
       "      <td>0.002</td>\n",
       "    </tr>\n",
       "    <tr>\n",
       "      <th>2016-02-09</th>\n",
       "      <td>0.002</td>\n",
       "      <td>0.005</td>\n",
       "      <td>0.003</td>\n",
       "      <td>0.002</td>\n",
       "      <td>0.006</td>\n",
       "      <td>1.778e-03</td>\n",
       "      <td>0.008</td>\n",
       "      <td>0.002</td>\n",
       "      <td>0.001</td>\n",
       "      <td>0.003</td>\n",
       "      <td>...</td>\n",
       "      <td>0.011</td>\n",
       "      <td>0.002</td>\n",
       "      <td>0.002</td>\n",
       "      <td>0.002</td>\n",
       "      <td>0.002</td>\n",
       "      <td>0.002</td>\n",
       "      <td>0.002</td>\n",
       "      <td>0.005</td>\n",
       "      <td>0.004</td>\n",
       "      <td>0.002</td>\n",
       "    </tr>\n",
       "    <tr>\n",
       "      <th>2016-02-10</th>\n",
       "      <td>0.002</td>\n",
       "      <td>0.005</td>\n",
       "      <td>0.003</td>\n",
       "      <td>0.002</td>\n",
       "      <td>0.006</td>\n",
       "      <td>1.785e-03</td>\n",
       "      <td>0.009</td>\n",
       "      <td>0.002</td>\n",
       "      <td>0.001</td>\n",
       "      <td>0.004</td>\n",
       "      <td>...</td>\n",
       "      <td>0.010</td>\n",
       "      <td>0.002</td>\n",
       "      <td>0.002</td>\n",
       "      <td>0.002</td>\n",
       "      <td>0.002</td>\n",
       "      <td>0.002</td>\n",
       "      <td>0.002</td>\n",
       "      <td>0.005</td>\n",
       "      <td>0.004</td>\n",
       "      <td>0.002</td>\n",
       "    </tr>\n",
       "  </tbody>\n",
       "</table>\n",
       "<p>5 rows × 472 columns</p>\n",
       "</div>"
      ],
      "text/plain": [
       "                A    AAL    AAP   AAPL   ABBV        ABC   ABMD    ABT    ACN  \\\n",
       "date                                                                            \n",
       "2016-02-04  0.002  0.005  0.003  0.002  0.005  9.215e-04  0.004  0.002  0.001   \n",
       "2016-02-05  0.002  0.005  0.002  0.002  0.005  1.291e-03  0.004  0.002  0.001   \n",
       "2016-02-08  0.002  0.005  0.002  0.002  0.006  1.723e-03  0.005  0.002  0.001   \n",
       "2016-02-09  0.002  0.005  0.003  0.002  0.006  1.778e-03  0.008  0.002  0.001   \n",
       "2016-02-10  0.002  0.005  0.003  0.002  0.006  1.785e-03  0.009  0.002  0.001   \n",
       "\n",
       "             ADBE  ...   WYNN    XEL   XLNX    XOM    XYL    YUM    ZBH  \\\n",
       "date               ...                                                    \n",
       "2016-02-04  0.002  ...  0.011  0.001  0.002  0.002  0.001  0.001  0.002   \n",
       "2016-02-05  0.002  ...  0.011  0.002  0.002  0.002  0.002  0.001  0.002   \n",
       "2016-02-08  0.002  ...  0.010  0.002  0.002  0.002  0.002  0.002  0.002   \n",
       "2016-02-09  0.003  ...  0.011  0.002  0.002  0.002  0.002  0.002  0.002   \n",
       "2016-02-10  0.004  ...  0.010  0.002  0.002  0.002  0.002  0.002  0.002   \n",
       "\n",
       "             ZBRA   ZION    ZTS  \n",
       "date                             \n",
       "2016-02-04  0.005  0.003  0.002  \n",
       "2016-02-05  0.005  0.004  0.002  \n",
       "2016-02-08  0.005  0.004  0.002  \n",
       "2016-02-09  0.005  0.004  0.002  \n",
       "2016-02-10  0.005  0.004  0.002  \n",
       "\n",
       "[5 rows x 472 columns]"
      ]
     },
     "execution_count": 307,
     "metadata": {},
     "output_type": "execute_result"
    }
   ],
   "source": [
    "# Calculate beta\n",
    "T = 21\n",
    "SHIFT = 22\n",
    "beta_df = pd.DataFrame(index=raw_inpairs_high.index, columns = data.columns)\n",
    "\n",
    "# Shift indices so we always have a positive index\n",
    "for t in range(SHIFT, len(beta_df.index)):\n",
    "    val = 0\n",
    "    for ix in range(0,T):\n",
    "        val += np.log(raw_inpairs_adj_high.iloc[t-T-1+ix]/raw_inpairs_adj_low.iloc[t-T-1+ix])**2 +\\\n",
    "              np.log(raw_inpairs_adj_high.iloc[t-T+ix]/raw_inpairs_adj_low.iloc[t-T+ix])**2\n",
    "\n",
    "    val*= (1/T)\n",
    "    beta_df.iloc[t] = val\n",
    "beta_df = beta_df.iloc[SHIFT:]\n",
    "beta_df.fillna(method='ffill')\n",
    "beta_df = beta_df.apply(pd.to_numeric)\n",
    "beta_df.head()"
   ]
  },
  {
   "cell_type": "code",
   "execution_count": 308,
   "metadata": {
    "id": "dSsi35J1_sMI"
   },
   "outputs": [],
   "source": [
    "gamma_df = pd.DataFrame(index=raw_inpairs_high.index, columns =data.columns)\n",
    "\n",
    "for t in range(1, len(gamma_df.index)):\n",
    "    gamma_df.iloc[t] = np.log(np.maximum(raw_inpairs_adj_high.iloc[t-1],raw_inpairs_adj_high.iloc[t])\\\n",
    "                         /np.maximum(raw_inpairs_adj_low.iloc[t-1],raw_inpairs_adj_low.iloc[t]))**2\n",
    "\n",
    "gamma_df = gamma_df[SHIFT:]\n",
    "gamma_df.fillna(method='ffill')\n",
    "gamma_df = gamma_df.apply(pd.to_numeric)\n"
   ]
  },
  {
   "cell_type": "code",
   "execution_count": 309,
   "metadata": {
    "id": "NkfRZ0U-_sJo"
   },
   "outputs": [],
   "source": [
    "alpha_df = pd.DataFrame(index=gamma_df.index, columns = data.columns)\n",
    "alpha_df = (np.sqrt(2*beta_df)-np.sqrt(beta_df))/(3-2*np.sqrt(2)) - np.sqrt(gamma_df/(3-2*np.sqrt(2)))\n",
    "alpha_df.fillna(method='ffill')\n",
    "alpha_df = alpha_df.apply(pd.to_numeric)\n"
   ]
  },
  {
   "cell_type": "code",
   "execution_count": 310,
   "metadata": {
    "colab": {
     "base_uri": "https://localhost:8080/",
     "height": 369
    },
    "id": "4RLiXJn9DRuC",
    "outputId": "23f89ad1-f3d8-4045-ddeb-08d0a998c883"
   },
   "outputs": [
    {
     "data": {
      "text/html": [
       "<div>\n",
       "<style scoped>\n",
       "    .dataframe tbody tr th:only-of-type {\n",
       "        vertical-align: middle;\n",
       "    }\n",
       "\n",
       "    .dataframe tbody tr th {\n",
       "        vertical-align: top;\n",
       "    }\n",
       "\n",
       "    .dataframe thead th {\n",
       "        text-align: right;\n",
       "    }\n",
       "</style>\n",
       "<table border=\"1\" class=\"dataframe\">\n",
       "  <thead>\n",
       "    <tr style=\"text-align: right;\">\n",
       "      <th></th>\n",
       "      <th>A</th>\n",
       "      <th>AAL</th>\n",
       "      <th>AAP</th>\n",
       "      <th>AAPL</th>\n",
       "      <th>ABBV</th>\n",
       "      <th>ABC</th>\n",
       "      <th>ABMD</th>\n",
       "      <th>ABT</th>\n",
       "      <th>ACN</th>\n",
       "      <th>ADBE</th>\n",
       "      <th>...</th>\n",
       "      <th>WYNN</th>\n",
       "      <th>XEL</th>\n",
       "      <th>XLNX</th>\n",
       "      <th>XOM</th>\n",
       "      <th>XYL</th>\n",
       "      <th>YUM</th>\n",
       "      <th>ZBH</th>\n",
       "      <th>ZBRA</th>\n",
       "      <th>ZION</th>\n",
       "      <th>ZTS</th>\n",
       "    </tr>\n",
       "    <tr>\n",
       "      <th>date</th>\n",
       "      <th></th>\n",
       "      <th></th>\n",
       "      <th></th>\n",
       "      <th></th>\n",
       "      <th></th>\n",
       "      <th></th>\n",
       "      <th></th>\n",
       "      <th></th>\n",
       "      <th></th>\n",
       "      <th></th>\n",
       "      <th></th>\n",
       "      <th></th>\n",
       "      <th></th>\n",
       "      <th></th>\n",
       "      <th></th>\n",
       "      <th></th>\n",
       "      <th></th>\n",
       "      <th></th>\n",
       "      <th></th>\n",
       "      <th></th>\n",
       "      <th></th>\n",
       "    </tr>\n",
       "  </thead>\n",
       "  <tbody>\n",
       "    <tr>\n",
       "      <th>2016-02-04</th>\n",
       "      <td>0.048</td>\n",
       "      <td>0.043</td>\n",
       "      <td>0.009</td>\n",
       "      <td>0.051</td>\n",
       "      <td>0.092</td>\n",
       "      <td>0.027</td>\n",
       "      <td>0.067</td>\n",
       "      <td>0.055</td>\n",
       "      <td>0.002</td>\n",
       "      <td>0.033</td>\n",
       "      <td>...</td>\n",
       "      <td>0.089</td>\n",
       "      <td>0.048</td>\n",
       "      <td>0.059</td>\n",
       "      <td>0.036</td>\n",
       "      <td>0.000</td>\n",
       "      <td>0.030</td>\n",
       "      <td>0.059</td>\n",
       "      <td>0.029</td>\n",
       "      <td>0.039</td>\n",
       "      <td>0.051</td>\n",
       "    </tr>\n",
       "    <tr>\n",
       "      <th>2016-02-05</th>\n",
       "      <td>0.049</td>\n",
       "      <td>0.045</td>\n",
       "      <td>0.072</td>\n",
       "      <td>0.050</td>\n",
       "      <td>0.094</td>\n",
       "      <td>0.000</td>\n",
       "      <td>0.000</td>\n",
       "      <td>0.059</td>\n",
       "      <td>0.043</td>\n",
       "      <td>0.044</td>\n",
       "      <td>...</td>\n",
       "      <td>0.096</td>\n",
       "      <td>0.049</td>\n",
       "      <td>0.060</td>\n",
       "      <td>0.069</td>\n",
       "      <td>0.000</td>\n",
       "      <td>0.000</td>\n",
       "      <td>0.066</td>\n",
       "      <td>0.033</td>\n",
       "      <td>0.042</td>\n",
       "      <td>0.055</td>\n",
       "    </tr>\n",
       "    <tr>\n",
       "      <th>2016-02-08</th>\n",
       "      <td>0.006</td>\n",
       "      <td>0.043</td>\n",
       "      <td>0.045</td>\n",
       "      <td>0.022</td>\n",
       "      <td>0.017</td>\n",
       "      <td>0.003</td>\n",
       "      <td>0.000</td>\n",
       "      <td>0.034</td>\n",
       "      <td>0.000</td>\n",
       "      <td>0.000</td>\n",
       "      <td>...</td>\n",
       "      <td>0.138</td>\n",
       "      <td>0.017</td>\n",
       "      <td>0.047</td>\n",
       "      <td>0.030</td>\n",
       "      <td>0.025</td>\n",
       "      <td>0.000</td>\n",
       "      <td>0.060</td>\n",
       "      <td>0.016</td>\n",
       "      <td>0.056</td>\n",
       "      <td>0.062</td>\n",
       "    </tr>\n",
       "    <tr>\n",
       "      <th>2016-02-09</th>\n",
       "      <td>0.010</td>\n",
       "      <td>0.045</td>\n",
       "      <td>0.044</td>\n",
       "      <td>0.053</td>\n",
       "      <td>0.093</td>\n",
       "      <td>0.035</td>\n",
       "      <td>0.000</td>\n",
       "      <td>0.055</td>\n",
       "      <td>0.002</td>\n",
       "      <td>0.000</td>\n",
       "      <td>...</td>\n",
       "      <td>0.068</td>\n",
       "      <td>0.029</td>\n",
       "      <td>0.060</td>\n",
       "      <td>0.031</td>\n",
       "      <td>0.019</td>\n",
       "      <td>0.032</td>\n",
       "      <td>0.000</td>\n",
       "      <td>0.048</td>\n",
       "      <td>0.009</td>\n",
       "      <td>0.032</td>\n",
       "    </tr>\n",
       "    <tr>\n",
       "      <th>2016-02-10</th>\n",
       "      <td>0.027</td>\n",
       "      <td>0.098</td>\n",
       "      <td>0.045</td>\n",
       "      <td>0.046</td>\n",
       "      <td>0.089</td>\n",
       "      <td>0.032</td>\n",
       "      <td>0.151</td>\n",
       "      <td>0.045</td>\n",
       "      <td>0.048</td>\n",
       "      <td>0.027</td>\n",
       "      <td>...</td>\n",
       "      <td>0.117</td>\n",
       "      <td>0.056</td>\n",
       "      <td>0.059</td>\n",
       "      <td>0.053</td>\n",
       "      <td>0.060</td>\n",
       "      <td>0.043</td>\n",
       "      <td>0.047</td>\n",
       "      <td>0.008</td>\n",
       "      <td>0.071</td>\n",
       "      <td>0.019</td>\n",
       "    </tr>\n",
       "  </tbody>\n",
       "</table>\n",
       "<p>5 rows × 472 columns</p>\n",
       "</div>"
      ],
      "text/plain": [
       "                A    AAL    AAP   AAPL   ABBV    ABC   ABMD    ABT    ACN  \\\n",
       "date                                                                        \n",
       "2016-02-04  0.048  0.043  0.009  0.051  0.092  0.027  0.067  0.055  0.002   \n",
       "2016-02-05  0.049  0.045  0.072  0.050  0.094  0.000  0.000  0.059  0.043   \n",
       "2016-02-08  0.006  0.043  0.045  0.022  0.017  0.003  0.000  0.034  0.000   \n",
       "2016-02-09  0.010  0.045  0.044  0.053  0.093  0.035  0.000  0.055  0.002   \n",
       "2016-02-10  0.027  0.098  0.045  0.046  0.089  0.032  0.151  0.045  0.048   \n",
       "\n",
       "             ADBE  ...   WYNN    XEL   XLNX    XOM    XYL    YUM    ZBH  \\\n",
       "date               ...                                                    \n",
       "2016-02-04  0.033  ...  0.089  0.048  0.059  0.036  0.000  0.030  0.059   \n",
       "2016-02-05  0.044  ...  0.096  0.049  0.060  0.069  0.000  0.000  0.066   \n",
       "2016-02-08  0.000  ...  0.138  0.017  0.047  0.030  0.025  0.000  0.060   \n",
       "2016-02-09  0.000  ...  0.068  0.029  0.060  0.031  0.019  0.032  0.000   \n",
       "2016-02-10  0.027  ...  0.117  0.056  0.059  0.053  0.060  0.043  0.047   \n",
       "\n",
       "             ZBRA   ZION    ZTS  \n",
       "date                             \n",
       "2016-02-04  0.029  0.039  0.051  \n",
       "2016-02-05  0.033  0.042  0.055  \n",
       "2016-02-08  0.016  0.056  0.062  \n",
       "2016-02-09  0.048  0.009  0.032  \n",
       "2016-02-10  0.008  0.071  0.019  \n",
       "\n",
       "[5 rows x 472 columns]"
      ]
     },
     "execution_count": 310,
     "metadata": {},
     "output_type": "execute_result"
    }
   ],
   "source": [
    "spreads_df = pd.DataFrame(index=alpha_df.index, columns =  data.columns)\n",
    "\n",
    "\n",
    "spreads_df = 2*(np.exp(alpha_df) - 1)/(1+np.exp(alpha_df))\n",
    "spreads_df[spreads_df < 0] = 0\n",
    "spreads_df.head(5)"
   ]
  },
  {
   "cell_type": "markdown",
   "metadata": {
    "id": "bStY5XHNmab2"
   },
   "source": [
    "# Pairs Trading class and tuning\n"
   ]
  },
  {
   "cell_type": "markdown",
   "metadata": {
    "id": "FPm8vCkPvA25"
   },
   "source": [
    "## Class \n",
    "\n",
    "Now that we have estimates for the bid-ask spreads, we can wrap our strategy in a class. We will also add fixed rate transaction costs and will preiodically test if the stocks are still cointegrated."
   ]
  },
  {
   "cell_type": "code",
   "execution_count": 311,
   "metadata": {},
   "outputs": [],
   "source": [
    "class PairsTrading:\n",
    "  def __init__(self, data, spread_df = None, transaction_cost_pct = 0, significance  = 0.03,\n",
    "                retest_coint_period = None, LOOKBACK_PERIOD=21, \n",
    "                FLOOR=-1, CEIL = 1, EXIT = 2.2, interest_rate=0.0008, MAX_PERCENTAGE_LOSS=50):\n",
    "      self.data = data\n",
    "      self.spread_df = spread_df\n",
    "      self.LOOKBACK_PERIOD = LOOKBACK_PERIOD\n",
    "      self.FLOOR = FLOOR\n",
    "      self.CEIL = CEIL\n",
    "      self.EXIT = EXIT\n",
    "      self.significance = significance\n",
    "      self.transaction_cost_pct = transaction_cost_pct\n",
    "      self.retest_coint_period = retest_coint_period\n",
    "      self.spreads = spread_df is not None\n",
    "      self.retest = retest_coint_period is not None\n",
    "      self.interest_rate = interest_rate\n",
    "      self.MAX_PERCENTAGE_LOSS = MAX_PERCENTAGE_LOSS\n",
    "  \n",
    "  def test_coint_pairs(self, ticker_a, ticker_b, start, end):\n",
    "      '''Tests if the stocks are still cointegraated'''\n",
    "      data = self.data\n",
    "      t1 = data[ticker_a].iloc[start:end]            \n",
    "      t2 = data[ticker_b].iloc[start:end]\n",
    "      t1 = t1.fillna(method = 'ffill')\n",
    "      t2 = t2.fillna(method = 'ffill')\n",
    "      score, pval, _ = coint(t1, t2)\n",
    "      if pval < self.significance:\n",
    "          return True\n",
    "      return False\n",
    "  \n",
    "  def compute_returns(self, investment, ticker_a, ticker_b, plot = True, return_portfolio=False):\n",
    "      data = self.data\n",
    "      spreads_data = self.spread_df\n",
    "      df = self.long_short_strat(ticker_a, ticker_b)\n",
    "      portfolio = pd.DataFrame(index = df.index)\n",
    "      portfolio['Positions'] = df['In Long'] - df['In Short']\n",
    "      \n",
    "      \n",
    "      if self.spreads:\n",
    "          sx = spreads_data.loc[data.index][ticker_a]\n",
    "          sy = spreads_data.loc[data.index][ticker_b]\n",
    "          df['sx'] = sx.values\n",
    "          df['sy'] = sy.values\n",
    "          portfolio['X'] = -1.0 * df['X'] * portfolio['Positions'] * (1 + portfolio['Positions']*df['sx']/2)\n",
    "          portfolio['Y'] = df['Y'] * portfolio['Positions'] * (1 + (-1)*portfolio['Positions']*df['sy']/2)\n",
    "      else:\n",
    "          portfolio['Positions'] = df['In Long'] - df['In Short'] \n",
    "          portfolio['X'] = -1.0 * df['X'] * portfolio['Positions']\n",
    "          portfolio['Y'] = df['Y'] * portfolio['Positions']\n",
    "      \n",
    "      portfolio['Total']= portfolio['X'] + portfolio['Y']\\\n",
    "                              - self.transaction_cost_pct*(portfolio['X']+portfolio['Y'])\n",
    "      \n",
    "      # Show percentage returns\n",
    "      portfolio['Returns']= portfolio['Total'].pct_change()\n",
    "      portfolio['Returns'].fillna(0.0, inplace = True)\n",
    "      portfolio['Returns'].replace([np.inf, -np.inf], 0.0, inplace = True)\n",
    "      portfolio['Returns'].replace(-1.0, 0.0, inplace = True)\n",
    "      \n",
    "\n",
    "      # Computing relevant statistics (TO COMPLETE LATER)\n",
    "      mu = portfolio['Returns'].mean()\n",
    "      sigma = portfolio['Returns'].std()\n",
    "      # Sharpe Ratio Annualized (250 trading days)\n",
    "      sharpe = np.sqrt(250)*(mu)/sigma - self.interest_rate\n",
    "#       returns_to_date = mu*len(portfolio.index)*100\n",
    "        \n",
    "\n",
    "      # Equity curve\n",
    "      portfolio['Returns'] = (1.0 + portfolio['Returns']).cumprod() \n",
    "      loss_indices = portfolio[portfolio['Returns'] <= self.MAX_PERCENTAGE_LOSS/100].index\n",
    "      if loss_indices.any():\n",
    "        terminate_after = min(loss_indices)\n",
    "        portfolio.at[terminate_after:, 'Returns'] = self.MAX_PERCENTAGE_LOSS/100\n",
    "#         returns_to_date = -self.MAX_PERCENTAGE_LOSS\n",
    "    \n",
    "      portfolio['Trade Returns'] = portfolio['Total'].pct_change()\n",
    "      portfolio['Portfolio Value'] = investment*portfolio['Returns']\n",
    "      portfolio['Portfolio Returns'] = portfolio['Portfolio Value'].pct_change()\n",
    "      portfolio['Initial Value'] = investment\n",
    "      returns_to_date = ((portfolio['Portfolio Value'][-1] - investment)/investment)*100\n",
    "      \n",
    "      if plot:\n",
    "          with plt.style.context(['bmh', 'seaborn-paper']):\n",
    "              plt.plot(portfolio['Portfolio Value'])\n",
    "              plt.plot(portfolio['Initial Value'])\n",
    "              plt.xticks([])\n",
    "              plt.title(\"Pair ({},{}), Profit to Date: {}%, Sharpe Ratio: {}\".format(\n",
    "                        ticker_a,\n",
    "                        ticker_b,\n",
    "                        np.around(returns_to_date, 3),\n",
    "                        np.around(sharpe, 2)\n",
    "                        ))\n",
    "              plt.show()\n",
    "      if return_portfolio:\n",
    "          return returns_to_date, sharpe, portfolio\n",
    "      else:\n",
    "          return returns_to_date, sharpe\n",
    "\n",
    "\n",
    "  def create_spread(self, ticker_a, ticker_b):\n",
    "      data = self.data\n",
    "      df1 = data[ticker_a]\n",
    "      df2 = data[ticker_b]\n",
    "      df = pd.DataFrame(index = df1.index)\n",
    "      df['X'] = df1\n",
    "      df['Y'] = df2\n",
    "      # computing the hedge ratio (beta of the strategy)\n",
    "      df['cov'] = df.rolling(LOOKBACK_PERIOD).cov().unstack()['X']['Y']\n",
    "      df['var'] = df['Y'].rolling(LOOKBACK_PERIOD).var()\n",
    "      df['Hedge ratio'] = df['cov']/df['var']\n",
    "      \n",
    "      # column with spread\n",
    "      df['Spread'] = df['X'] - df['Hedge ratio']*df['Y']\n",
    "      return df\n",
    "  \n",
    "  def long_short_strat(self, ticker_a, ticker_b):\n",
    "      data = self.data\n",
    "      df = self.create_spread(ticker_a, ticker_b)\n",
    "      df['Z-score'] = (df['Spread'] - df['Spread'].rolling(self.LOOKBACK_PERIOD).mean())\\\n",
    "                      /(df['Spread'].rolling(self.LOOKBACK_PERIOD).std())\n",
    "      \n",
    "      # Buy vs Sell signals\n",
    "      df['Long'] =  (df['Z-score'] < self.FLOOR)*1\n",
    "      df['Short']= (df['Z-score'] > self.CEIL)*1\n",
    "      df['Exit'] = (np.abs(df['Z-score'])> self.EXIT)*1\n",
    "      \n",
    "      \n",
    "      # Test if stocks are still cointegrated\n",
    "      coint_test = pd.DataFrame(index=df.index)\n",
    "      if self.retest:\n",
    "          for ix in range(len(df)-self.retest_coint_period):\n",
    "              still_coint = self.test_coint_pairs(ticker_a, \n",
    "                                                  ticker_b, \n",
    "                                                  ix, \n",
    "                                                  ix+self.retest_coint_period)\n",
    "              \n",
    "              coint_test.iloc[ix:ix+self.retest_coint_period] = (not still_coint)*1\n",
    "      # If stocks are not cointegrated, exit    \n",
    "      df['Exit'] = df['Exit'] ^ coint_test\n",
    "\n",
    "      df['In Long'] = (((df['Long'] == 1) & (~(df['Exit'] == 1))))*1\n",
    "      df['In Short'] = (((df['Short'] == 1) & (~(df['Exit'] == 1))))*1\n",
    "\n",
    "      return df\n",
    "\n"
   ]
  },
  {
   "cell_type": "code",
   "execution_count": 312,
   "metadata": {
    "colab": {
     "base_uri": "https://localhost:8080/",
     "height": 318
    },
    "id": "KWpm5YR6GRht",
    "outputId": "f848643e-b7a1-4214-8f0f-0fce9c17df59"
   },
   "outputs": [
    {
     "data": {
      "image/png": "[encoded data removed]",
      "text/plain": [
       "<Figure size 460.8x316.8 with 1 Axes>"
      ]
     },
     "metadata": {
      "needs_background": "light"
     },
     "output_type": "display_data"
    },
    {
     "data": {
      "text/plain": [
       "(3.637978332894586, 0.35571156631774076)"
      ]
     },
     "execution_count": 312,
     "metadata": {},
     "output_type": "execute_result"
    }
   ],
   "source": [
    "pt = PairsTrading(data=data.iloc[SHIFT:],\n",
    "                  spread_df=spreads_df,\n",
    "                  LOOKBACK_PERIOD = LOOKBACK_PERIOD,\n",
    "                  FLOOR = FLOOR,\n",
    "                  CEIL = CEIL,\n",
    "                  EXIT = EXIT,)\n",
    "stock1, stock2 = pairs[0]\n",
    "pt.compute_returns(1000000,stock1,stock2)"
   ]
  },
  {
   "cell_type": "code",
   "execution_count": 313,
   "metadata": {
    "colab": {
     "base_uri": "https://localhost:8080/"
    },
    "id": "6-Wxp5j3Fxo4",
    "outputId": "87247b72-d660-41b8-a0ec-b77194882a76"
   },
   "outputs": [
    {
     "name": "stdout",
     "output_type": "stream",
     "text": [
      "Search Space Size: 36\n"
     ]
    }
   ],
   "source": [
    "ceil = [x for x in np.arange(0.8, 1.6, 0.2)]\n",
    "exit = [x for x in np.arange(1.8, 2.4, 0.2)]\n",
    "retest_period = [None, 90, 180]\n",
    "transaction_cost_pct = 0.02\n",
    "print(\"Search Space Size: {}\".format(len(ceil)*len(exit)*len(retest_period)))\n"
   ]
  },
  {
   "cell_type": "markdown",
   "metadata": {
    "id": "glWfdLXDm_7J"
   },
   "source": [
    "## Tuning the hyperparameters\n",
    "\n",
    "Lastly, we use grid search to optimize the hyperparameters of our strategy."
   ]
  },
  {
   "cell_type": "code",
   "execution_count": 280,
   "metadata": {
    "colab": {
     "base_uri": "https://localhost:8080/"
    },
    "id": "g1773D0ADRpD",
    "outputId": "a4bed7ca-2f04-43a5-d0ed-7d143fd6fcdf"
   },
   "outputs": [
    {
     "name": "stdout",
     "output_type": "stream",
     "text": [
      "Best So Far: (0.8, -0.8, 1.8, None, 0.14017281032122722)\n",
      "Best So Far: (1.0, -1.0, 1.8, None, 0.4636950920186894)\n",
      "Best So Far: (1.2, -1.2, 1.8, None, 0.46529322324141276)\n"
     ]
    }
   ],
   "source": [
    "results = []\n",
    "NUM_PAIRS  = 10\n",
    "investment = 1e6\n",
    "for c in ceil:\n",
    "    if results:\n",
    "        print('Best So Far: {}'.format(max(results, key = lambda x: x[-1])))\n",
    "    for ex in exit:\n",
    "        for rtp in retest_period:\n",
    "            pt = PairsTrading(data=data.iloc[SHIFT:],\n",
    "                              spread_df=spreads_df,\n",
    "                              transaction_cost_pct=transaction_cost_pct,\n",
    "                              retest_coint_period=rtp,\n",
    "                              FLOOR = c*-1,\n",
    "                              CEIL = c,\n",
    "                              EXIT = ex)\n",
    "            r = []\n",
    "            for pair in pairs[:NUM_PAIRS]:\n",
    "                ret, shp = pt.compute_returns(investment, *pair, plot=False)\n",
    "                r.append(shp)\n",
    "            results.append((c,-1*c,ex,rtp,np.median(r)))"
   ]
  },
  {
   "cell_type": "code",
   "execution_count": 314,
   "metadata": {
    "colab": {
     "base_uri": "https://localhost:8080/",
     "height": 1000
    },
    "id": "PyPAxzmnDigm",
    "outputId": "c8f4d637-b018-4a99-f84e-c539dc67883e"
   },
   "outputs": [
    {
     "data": {
      "image/png": "[encoded data removed]",
      "text/plain": [
       "<Figure size 460.8x316.8 with 1 Axes>"
      ]
     },
     "metadata": {
      "needs_background": "light"
     },
     "output_type": "display_data"
    },
    {
     "data": {
      "image/png": "[encoded data removed]",
      "text/plain": [
       "<Figure size 460.8x316.8 with 1 Axes>"
      ]
     },
     "metadata": {
      "needs_background": "light"
     },
     "output_type": "display_data"
    },
    {
     "data": {
      "image/png": "[encoded data removed]",
      "text/plain": [
       "<Figure size 460.8x316.8 with 1 Axes>"
      ]
     },
     "metadata": {
      "needs_background": "light"
     },
     "output_type": "display_data"
    }
   ],
   "source": [
    "best = max(results, key = lambda x: x[-1])\n",
    "c, f, ex, rtp, _ = best\n",
    "\n",
    "investment = 1e6\n",
    "pt_test = PairsTrading(data=test_data,\n",
    "                  spread_df=spreads_df,\n",
    "                  transaction_cost_pct=transaction_cost_pct,\n",
    "                  retest_coint_period=rtp,\n",
    "                  FLOOR = f,\n",
    "                  CEIL = c,\n",
    "                  EXIT = ex)\n",
    "\n",
    "pt_train = PairsTrading(data=data[SHIFT:],\n",
    "                  spread_df=spreads_df,\n",
    "                  transaction_cost_pct=transaction_cost_pct,\n",
    "                  retest_coint_period=rtp,\n",
    "                  FLOOR = f,\n",
    "                  CEIL = c,\n",
    "                  EXIT = ex)\n",
    "\n",
    "\n",
    "returns = []\n",
    "for pair in pairs[:3]:\n",
    "    ret = pt_test.compute_returns(investment, *pair)\n",
    "    returns.append(ret)"
   ]
  },
  {
   "cell_type": "markdown",
   "metadata": {
    "id": "u9y7Hn3EvFL_"
   },
   "source": [
    "### Backtest on a basket of pair trades\n",
    "\n",
    "We now trade a full basket of pair trades. We have weighted the strategies by their p-values, where a pair with lower p-value is considered as a more cointegrated, so it constitutes bigger portion of our portfolio. \n",
    "\n",
    "Remark: Even though we run cointegration tests at regular intervals, in this version we do not dynamically update the weights accordingly."
   ]
  },
  {
   "cell_type": "code",
   "execution_count": 315,
   "metadata": {
    "id": "xU71FwzuBxFQ"
   },
   "outputs": [],
   "source": [
    "initial_investment = 1e6\n",
    "pairs_dict = {}\n",
    "\n",
    "for pair in pairs:\n",
    "  ticker_1 = pair[0]\n",
    "  ticker_2 = pair[1]\n",
    "  # EDIT: тук алтернативно може mean returns vmesto samo ret, no ret otkrih che raboti po-dobre\n",
    "  ret, shp, portfolio = pt_train.compute_returns(initial_investment, *pair, plot=False, return_portfolio=True)\n",
    "  pairs_dict[pair] = ret, shp\n"
   ]
  },
  {
   "cell_type": "code",
   "execution_count": 316,
   "metadata": {
    "colab": {
     "base_uri": "https://localhost:8080/",
     "height": 359
    },
    "id": "xpf-VdKkECLA",
    "outputId": "21048cdd-869c-41f4-f225-4349c52aa2ff"
   },
   "outputs": [
    {
     "name": "stdout",
     "output_type": "stream",
     "text": [
      "53 Pairs chosen\n"
     ]
    },
    {
     "data": {
      "text/html": [
       "<div>\n",
       "<style scoped>\n",
       "    .dataframe tbody tr th:only-of-type {\n",
       "        vertical-align: middle;\n",
       "    }\n",
       "\n",
       "    .dataframe tbody tr th {\n",
       "        vertical-align: top;\n",
       "    }\n",
       "\n",
       "    .dataframe thead th {\n",
       "        text-align: right;\n",
       "    }\n",
       "</style>\n",
       "<table border=\"1\" class=\"dataframe\">\n",
       "  <thead>\n",
       "    <tr style=\"text-align: right;\">\n",
       "      <th></th>\n",
       "      <th>returns</th>\n",
       "      <th>sharpe</th>\n",
       "      <th>weights</th>\n",
       "    </tr>\n",
       "  </thead>\n",
       "  <tbody>\n",
       "    <tr>\n",
       "      <th>(ABBV, NWL)</th>\n",
       "      <td>57.357</td>\n",
       "      <td>0.917</td>\n",
       "      <td>0.033</td>\n",
       "    </tr>\n",
       "    <tr>\n",
       "      <th>(ABBV, PHM)</th>\n",
       "      <td>10.862</td>\n",
       "      <td>0.641</td>\n",
       "      <td>0.006</td>\n",
       "    </tr>\n",
       "    <tr>\n",
       "      <th>(ABBV, SBAC)</th>\n",
       "      <td>5.536</td>\n",
       "      <td>0.340</td>\n",
       "      <td>0.003</td>\n",
       "    </tr>\n",
       "    <tr>\n",
       "      <th>(ALLE, FBHS)</th>\n",
       "      <td>175.113</td>\n",
       "      <td>1.714</td>\n",
       "      <td>0.100</td>\n",
       "    </tr>\n",
       "    <tr>\n",
       "      <th>(ALLE, PHM)</th>\n",
       "      <td>8.321</td>\n",
       "      <td>0.591</td>\n",
       "      <td>0.005</td>\n",
       "    </tr>\n",
       "    <tr>\n",
       "      <th>(ALLE, TMO)</th>\n",
       "      <td>5.344</td>\n",
       "      <td>0.408</td>\n",
       "      <td>0.003</td>\n",
       "    </tr>\n",
       "    <tr>\n",
       "      <th>(ATVI, STZ)</th>\n",
       "      <td>4.573</td>\n",
       "      <td>0.339</td>\n",
       "      <td>0.003</td>\n",
       "    </tr>\n",
       "    <tr>\n",
       "      <th>(AVB, F)</th>\n",
       "      <td>3.657</td>\n",
       "      <td>0.424</td>\n",
       "      <td>0.002</td>\n",
       "    </tr>\n",
       "    <tr>\n",
       "      <th>(AVB, PPG)</th>\n",
       "      <td>15.283</td>\n",
       "      <td>0.587</td>\n",
       "      <td>0.009</td>\n",
       "    </tr>\n",
       "    <tr>\n",
       "      <th>(AVB, SHW)</th>\n",
       "      <td>12.953</td>\n",
       "      <td>0.535</td>\n",
       "      <td>0.007</td>\n",
       "    </tr>\n",
       "  </tbody>\n",
       "</table>\n",
       "</div>"
      ],
      "text/plain": [
       "              returns  sharpe  weights\n",
       "(ABBV, NWL)    57.357   0.917    0.033\n",
       "(ABBV, PHM)    10.862   0.641    0.006\n",
       "(ABBV, SBAC)    5.536   0.340    0.003\n",
       "(ALLE, FBHS)  175.113   1.714    0.100\n",
       "(ALLE, PHM)     8.321   0.591    0.005\n",
       "(ALLE, TMO)     5.344   0.408    0.003\n",
       "(ATVI, STZ)     4.573   0.339    0.003\n",
       "(AVB, F)        3.657   0.424    0.002\n",
       "(AVB, PPG)     15.283   0.587    0.009\n",
       "(AVB, SHW)     12.953   0.535    0.007"
      ]
     },
     "execution_count": 316,
     "metadata": {},
     "output_type": "execute_result"
    }
   ],
   "source": [
    "threshold = 0 # EDIT: s tova moje da si pogiraem\n",
    "basket = pd.DataFrame.from_dict(pairs_dict, orient='index',columns = [\"returns\", \"sharpe\"])\n",
    "basket = basket[basket['returns'] > threshold]\n",
    "\n",
    "print(\"{} Pairs chosen\".format(basket.shape[0]))\n",
    "\n",
    "basket['weights'] = basket['returns']/sum(basket['returns'])\n",
    "\n",
    "basket.head(10)"
   ]
  },
  {
   "cell_type": "code",
   "execution_count": 317,
   "metadata": {
    "colab": {
     "base_uri": "https://localhost:8080/"
    },
    "id": "Llo-j6IuGnQ4",
    "outputId": "eb43a0bc-a952-4a4f-a0a0-ac1f1281cd40"
   },
   "outputs": [
    {
     "data": {
      "text/plain": [
       "0.9999999999999998"
      ]
     },
     "execution_count": 317,
     "metadata": {},
     "output_type": "execute_result"
    }
   ],
   "source": [
    "# Sanity check. The weights must add up to 1\n",
    "sum(basket['weights'])"
   ]
  },
  {
   "cell_type": "code",
   "execution_count": 318,
   "metadata": {
    "colab": {
     "base_uri": "https://localhost:8080/",
     "height": 204
    },
    "id": "c0Dh1m9dIDlw",
    "outputId": "0401c078-835c-4307-a9d9-b96319a11c4d"
   },
   "outputs": [
    {
     "data": {
      "text/html": [
       "<div>\n",
       "<style scoped>\n",
       "    .dataframe tbody tr th:only-of-type {\n",
       "        vertical-align: middle;\n",
       "    }\n",
       "\n",
       "    .dataframe tbody tr th {\n",
       "        vertical-align: top;\n",
       "    }\n",
       "\n",
       "    .dataframe thead th {\n",
       "        text-align: right;\n",
       "    }\n",
       "</style>\n",
       "<table border=\"1\" class=\"dataframe\">\n",
       "  <thead>\n",
       "    <tr style=\"text-align: right;\">\n",
       "      <th></th>\n",
       "      <th>returns</th>\n",
       "      <th>sharpe</th>\n",
       "      <th>weights</th>\n",
       "      <th>allocation</th>\n",
       "    </tr>\n",
       "  </thead>\n",
       "  <tbody>\n",
       "    <tr>\n",
       "      <th>(ABBV, NWL)</th>\n",
       "      <td>57.357</td>\n",
       "      <td>0.917</td>\n",
       "      <td>0.033</td>\n",
       "      <td>32833.179</td>\n",
       "    </tr>\n",
       "    <tr>\n",
       "      <th>(ABBV, PHM)</th>\n",
       "      <td>10.862</td>\n",
       "      <td>0.641</td>\n",
       "      <td>0.006</td>\n",
       "      <td>6217.902</td>\n",
       "    </tr>\n",
       "    <tr>\n",
       "      <th>(ABBV, SBAC)</th>\n",
       "      <td>5.536</td>\n",
       "      <td>0.340</td>\n",
       "      <td>0.003</td>\n",
       "      <td>3169.079</td>\n",
       "    </tr>\n",
       "    <tr>\n",
       "      <th>(ALLE, FBHS)</th>\n",
       "      <td>175.113</td>\n",
       "      <td>1.714</td>\n",
       "      <td>0.100</td>\n",
       "      <td>100241.113</td>\n",
       "    </tr>\n",
       "    <tr>\n",
       "      <th>(ALLE, PHM)</th>\n",
       "      <td>8.321</td>\n",
       "      <td>0.591</td>\n",
       "      <td>0.005</td>\n",
       "      <td>4762.965</td>\n",
       "    </tr>\n",
       "  </tbody>\n",
       "</table>\n",
       "</div>"
      ],
      "text/plain": [
       "              returns  sharpe  weights  allocation\n",
       "(ABBV, NWL)    57.357   0.917    0.033   32833.179\n",
       "(ABBV, PHM)    10.862   0.641    0.006    6217.902\n",
       "(ABBV, SBAC)    5.536   0.340    0.003    3169.079\n",
       "(ALLE, FBHS)  175.113   1.714    0.100  100241.113\n",
       "(ALLE, PHM)     8.321   0.591    0.005    4762.965"
      ]
     },
     "execution_count": 318,
     "metadata": {},
     "output_type": "execute_result"
    }
   ],
   "source": [
    "basket['allocation'] = basket['weights']*initial_investment\n",
    "basket.head()"
   ]
  },
  {
   "cell_type": "code",
   "execution_count": 319,
   "metadata": {
    "id": "l_LUDD47KPkA"
   },
   "outputs": [],
   "source": [
    "basket_returns = []\n",
    "\n",
    "portfolios = pd.DataFrame()\n",
    "\n",
    "for pair in basket.index:\n",
    "    ret, _, port = pt_test.compute_returns(basket['allocation'][pair], \n",
    "                                           *pair, \n",
    "                                           plot=False, \n",
    "                                           return_portfolio=True)\n",
    "    basket_returns.append(ret/100)\n",
    "    portfolios[pair] = port['Returns']\n",
    "    \n",
    "basket_returns = np.array(basket_returns)\n",
    "basket['money_after'] = basket['allocation']*(1+basket_returns)"
   ]
  },
  {
   "cell_type": "code",
   "execution_count": 320,
   "metadata": {
    "colab": {
     "base_uri": "https://localhost:8080/",
     "height": 607
    },
    "id": "RduIWNjWNtHC",
    "outputId": "54d364bb-5a67-4adc-a831-41e63917c8b5"
   },
   "outputs": [
    {
     "data": {
      "text/html": [
       "<div>\n",
       "<style scoped>\n",
       "    .dataframe tbody tr th:only-of-type {\n",
       "        vertical-align: middle;\n",
       "    }\n",
       "\n",
       "    .dataframe tbody tr th {\n",
       "        vertical-align: top;\n",
       "    }\n",
       "\n",
       "    .dataframe thead th {\n",
       "        text-align: right;\n",
       "    }\n",
       "</style>\n",
       "<table border=\"1\" class=\"dataframe\">\n",
       "  <thead>\n",
       "    <tr style=\"text-align: right;\">\n",
       "      <th></th>\n",
       "      <th>returns</th>\n",
       "      <th>sharpe</th>\n",
       "      <th>weights</th>\n",
       "      <th>allocation</th>\n",
       "      <th>money_after</th>\n",
       "    </tr>\n",
       "  </thead>\n",
       "  <tbody>\n",
       "    <tr>\n",
       "      <th>(ABBV, NWL)</th>\n",
       "      <td>57.357</td>\n",
       "      <td>0.917</td>\n",
       "      <td>0.033</td>\n",
       "      <td>32833.179</td>\n",
       "      <td>97178.702</td>\n",
       "    </tr>\n",
       "    <tr>\n",
       "      <th>(ABBV, PHM)</th>\n",
       "      <td>10.862</td>\n",
       "      <td>0.641</td>\n",
       "      <td>0.006</td>\n",
       "      <td>6217.902</td>\n",
       "      <td>10917.887</td>\n",
       "    </tr>\n",
       "    <tr>\n",
       "      <th>(ABBV, SBAC)</th>\n",
       "      <td>5.536</td>\n",
       "      <td>0.340</td>\n",
       "      <td>0.003</td>\n",
       "      <td>3169.079</td>\n",
       "      <td>3108.798</td>\n",
       "    </tr>\n",
       "    <tr>\n",
       "      <th>(ALLE, FBHS)</th>\n",
       "      <td>175.113</td>\n",
       "      <td>1.714</td>\n",
       "      <td>0.100</td>\n",
       "      <td>100241.113</td>\n",
       "      <td>63389.845</td>\n",
       "    </tr>\n",
       "    <tr>\n",
       "      <th>(ALLE, PHM)</th>\n",
       "      <td>8.321</td>\n",
       "      <td>0.591</td>\n",
       "      <td>0.005</td>\n",
       "      <td>4762.965</td>\n",
       "      <td>3823.110</td>\n",
       "    </tr>\n",
       "    <tr>\n",
       "      <th>(ALLE, TMO)</th>\n",
       "      <td>5.344</td>\n",
       "      <td>0.408</td>\n",
       "      <td>0.003</td>\n",
       "      <td>3059.268</td>\n",
       "      <td>3470.582</td>\n",
       "    </tr>\n",
       "    <tr>\n",
       "      <th>(ATVI, STZ)</th>\n",
       "      <td>4.573</td>\n",
       "      <td>0.339</td>\n",
       "      <td>0.003</td>\n",
       "      <td>2617.879</td>\n",
       "      <td>3261.878</td>\n",
       "    </tr>\n",
       "    <tr>\n",
       "      <th>(AVB, F)</th>\n",
       "      <td>3.657</td>\n",
       "      <td>0.424</td>\n",
       "      <td>0.002</td>\n",
       "      <td>2093.506</td>\n",
       "      <td>1046.753</td>\n",
       "    </tr>\n",
       "    <tr>\n",
       "      <th>(AVB, PPG)</th>\n",
       "      <td>15.283</td>\n",
       "      <td>0.587</td>\n",
       "      <td>0.009</td>\n",
       "      <td>8748.340</td>\n",
       "      <td>4374.170</td>\n",
       "    </tr>\n",
       "    <tr>\n",
       "      <th>(AVB, SHW)</th>\n",
       "      <td>12.953</td>\n",
       "      <td>0.535</td>\n",
       "      <td>0.007</td>\n",
       "      <td>7414.830</td>\n",
       "      <td>4226.342</td>\n",
       "    </tr>\n",
       "  </tbody>\n",
       "</table>\n",
       "</div>"
      ],
      "text/plain": [
       "              returns  sharpe  weights  allocation  money_after\n",
       "(ABBV, NWL)    57.357   0.917    0.033   32833.179    97178.702\n",
       "(ABBV, PHM)    10.862   0.641    0.006    6217.902    10917.887\n",
       "(ABBV, SBAC)    5.536   0.340    0.003    3169.079     3108.798\n",
       "(ALLE, FBHS)  175.113   1.714    0.100  100241.113    63389.845\n",
       "(ALLE, PHM)     8.321   0.591    0.005    4762.965     3823.110\n",
       "(ALLE, TMO)     5.344   0.408    0.003    3059.268     3470.582\n",
       "(ATVI, STZ)     4.573   0.339    0.003    2617.879     3261.878\n",
       "(AVB, F)        3.657   0.424    0.002    2093.506     1046.753\n",
       "(AVB, PPG)     15.283   0.587    0.009    8748.340     4374.170\n",
       "(AVB, SHW)     12.953   0.535    0.007    7414.830     4226.342"
      ]
     },
     "execution_count": 320,
     "metadata": {},
     "output_type": "execute_result"
    }
   ],
   "source": [
    "basket.head(10)"
   ]
  },
  {
   "cell_type": "code",
   "execution_count": 321,
   "metadata": {
    "colab": {
     "base_uri": "https://localhost:8080/"
    },
    "id": "hHhQ83TBXUbk",
    "outputId": "a1bcf96c-05e2-4ea4-f712-535a55f7fbd7"
   },
   "outputs": [
    {
     "data": {
      "text/plain": [
       "1223235.9759175617"
      ]
     },
     "execution_count": 321,
     "metadata": {},
     "output_type": "execute_result"
    }
   ],
   "source": [
    "sum(basket['money_after'])"
   ]
  },
  {
   "cell_type": "code",
   "execution_count": 322,
   "metadata": {},
   "outputs": [
    {
     "data": {
      "text/plain": [
       "<AxesSubplot:title={'center':'Mean Returns. Overall Portfolio Return: 22.324%, Overall Portfolio Sharpe: 1.38'}, xlabel='date', ylabel='returns'>"
      ]
     },
     "execution_count": 322,
     "metadata": {},
     "output_type": "execute_result"
    },
    {
     "data": {
      "image/png": "[encoded data removed]",
      "text/plain": [
       "<Figure size 720x360 with 1 Axes>"
      ]
     },
     "metadata": {
      "needs_background": "light"
     },
     "output_type": "display_data"
    }
   ],
   "source": [
    "color_dict = {x:'#808080' for x in portfolios.columns} # Grey\n",
    "\n",
    "portfolios['mean'] = portfolios.mean(axis=1)\n",
    "color_dict['mean'] = '#FF0000' # Red\n",
    "\n",
    "basket_sharpe = sum(basket['sharpe']*basket['weights'])\n",
    "overall_return =  ((sum(basket['money_after'])-investment)/investment)*100\n",
    "\n",
    "\n",
    "portfolios.iloc[22:].plot(color=color_dict, \n",
    "                          legend=False, \n",
    "                          figsize=(10,5),\n",
    "                          xlabel='date',\n",
    "                          ylabel='returns',\n",
    "                          title = \"Mean Returns. Overall Portfolio Return: {}%, Overall Portfolio Sharpe: {}\".format(np.around(overall_return, 3),\n",
    "                                                                   np.around(basket_sharpe,2)))"
   ]
  },
  {
   "cell_type": "markdown",
   "metadata": {
    "id": "D16YgmcIuFk4"
   },
   "source": [
    "Проблеми, с които сме се сблъскали:\n",
    "\n",
    "*   Stop loss at zero capital -- после в cum prod ставаш отрицателен.\n",
    "\n",
    "*   The strategy really depends on stop-loss rule -- if we only exit a position if we have lost 100%, then we are up. However, if we exit a pair at at most 50% loss, then we are down.\n",
    "\n",
    "*   AAL, APA: rapidly cease to be cointegrated. \n",
    "\n",
    "*   A, PKI: rapidly cease to be cointegrated. "
   ]
  },
  {
   "cell_type": "code",
   "execution_count": null,
   "metadata": {},
   "outputs": [],
   "source": [
    "# EDIT:  samo za reutnrs to date da vidim formulata che se durji stranno i mai sme gotovi\n",
    "# EDIT: taka kato sme s poveche pairs moje da go mahnem tova TSNE :D"
   ]
  }
 ],
 "metadata": {
  "colab": {
   "collapsed_sections": [],
   "name": "trading pairs (feat Milen and Gunna).ipynb",
   "provenance": [],
   "toc_visible": true
  },
  "kernelspec": {
   "display_name": "Python 3",
   "language": "python",
   "name": "python3"
  },
  "language_info": {
   "codemirror_mode": {
    "name": "ipython",
    "version": 3
   },
   "file_extension": ".py",
   "mimetype": "text/x-python",
   "name": "python",
   "nbconvert_exporter": "python",
   "pygments_lexer": "ipython3",
   "version": "3.8.10"
  }
 },
 "nbformat": 4,
 "nbformat_minor": 1
}
